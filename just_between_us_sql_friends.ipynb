{
 "cells": [
  {
   "cell_type": "markdown",
   "metadata": {},
   "source": [
    "<center>\n",
    "    <h1 style=\"color:deeppink\">Just between us SQL Friends... 👑</h1>\n",
    "    <b style=\"color:deeppink\">RuPaul's Drag Race: Visualized<b>\n",
    "    <img src=\"media/header.gif\" height=\"100px\">\n",
    "</center>"
   ]
  },
  {
   "cell_type": "markdown",
   "metadata": {},
   "source": [
    "<h2 style=\"color:deeppink\">Import Libraries & Connect SQLite Database</h2>"
   ]
  },
  {
   "cell_type": "code",
   "execution_count": 140,
   "metadata": {},
   "outputs": [],
   "source": [
    "import pandas as pd\n",
    "import sqlite3\n",
    "\n",
    "drag_race_data_base = sqlite3.connect(\"drag_race_data.db\")"
   ]
  },
  {
   "cell_type": "markdown",
   "metadata": {},
   "source": [
    "<h2 style=\"color:deeppink\">Define Constants, Global Variables, and API values</h2>"
   ]
  },
  {
   "cell_type": "code",
   "execution_count": 218,
   "metadata": {},
   "outputs": [],
   "source": [
    "#API URL\n",
    "DRAG_RACE_API = \"http://www.nokeynoshade.party/api/\"\n",
    "\n",
    "#API Endpoints\n",
    "SEASONS = \"seasons/{}\"\n",
    "QUEENS = \"queens/all\"\n",
    "QUEENS_BY_SEASON = \"seasons/{}/queens\"\n",
    "EPISODES = \"episodes\"\n",
    "EPISODES_BY_SEASON = \"seasons/{}/episodes\"\n",
    "CHALLENGES_BY_SEASON = \"seasons/{}/challenges\""
   ]
  },
  {
   "cell_type": "markdown",
   "metadata": {},
   "source": [
    "<h2 style=\"color:deeppink\">Define Functions</h2>"
   ]
  },
  {
   "cell_type": "code",
   "execution_count": 212,
   "metadata": {},
   "outputs": [],
   "source": [
    "#pull data from the API by passing the desired endpoint and \n",
    "#     the optional SEASON argument for the endpoints that require it\n",
    "#     returns a pandas dataframe\n",
    "def get_data(endpoint, SEASON = None):\n",
    "    data = pd.read_json(DRAG_RACE_API + endpoint.format(SEASON))\n",
    "    return data"
   ]
  },
  {
   "cell_type": "markdown",
   "metadata": {},
   "source": [
    "<h2 style=\"color:deeppink\">Define SQLite Queries</h2>"
   ]
  },
  {
   "cell_type": "code",
   "execution_count": null,
   "metadata": {},
   "outputs": [],
   "source": []
  },
  {
   "cell_type": "markdown",
   "metadata": {},
   "source": [
    "<h2 style=\"color:deeppink\">Sandbox</h2>\n",
    "<b style=\"color:deeppink\">Use this space to experiment. Nothing below will be included in the finished product.</b>"
   ]
  },
  {
   "cell_type": "code",
   "execution_count": 254,
   "metadata": {},
   "outputs": [
    {
     "data": {
      "text/html": [
       "<div>\n",
       "<style scoped>\n",
       "    .dataframe tbody tr th:only-of-type {\n",
       "        vertical-align: middle;\n",
       "    }\n",
       "\n",
       "    .dataframe tbody tr th {\n",
       "        vertical-align: top;\n",
       "    }\n",
       "\n",
       "    .dataframe thead th {\n",
       "        text-align: right;\n",
       "    }\n",
       "</style>\n",
       "<table border=\"1\" class=\"dataframe\">\n",
       "  <thead>\n",
       "    <tr style=\"text-align: right;\">\n",
       "      <th></th>\n",
       "      <th>id</th>\n",
       "      <th>seasonNumber</th>\n",
       "      <th>winnerId</th>\n",
       "      <th>image_url</th>\n",
       "      <th>queens</th>\n",
       "    </tr>\n",
       "  </thead>\n",
       "  <tbody>\n",
       "    <tr>\n",
       "      <td>0</td>\n",
       "      <td>7</td>\n",
       "      <td>6</td>\n",
       "      <td>80</td>\n",
       "      <td>https://vignette3.wikia.nocookie.net/logosrupa...</td>\n",
       "      <td>{'id': 70, 'name': 'April Carrion', 'place': 11}</td>\n",
       "    </tr>\n",
       "    <tr>\n",
       "      <td>1</td>\n",
       "      <td>7</td>\n",
       "      <td>6</td>\n",
       "      <td>80</td>\n",
       "      <td>https://vignette3.wikia.nocookie.net/logosrupa...</td>\n",
       "      <td>{'id': 74, 'name': 'Trinity K Bonet', 'place': 7}</td>\n",
       "    </tr>\n",
       "    <tr>\n",
       "      <td>2</td>\n",
       "      <td>7</td>\n",
       "      <td>6</td>\n",
       "      <td>80</td>\n",
       "      <td>https://vignette3.wikia.nocookie.net/logosrupa...</td>\n",
       "      <td>{'id': 73, 'name': 'Laganja Estranja', 'place'...</td>\n",
       "    </tr>\n",
       "    <tr>\n",
       "      <td>3</td>\n",
       "      <td>7</td>\n",
       "      <td>6</td>\n",
       "      <td>80</td>\n",
       "      <td>https://vignette3.wikia.nocookie.net/logosrupa...</td>\n",
       "      <td>{'id': 76, 'name': 'Joslyn Fox', 'place': 6}</td>\n",
       "    </tr>\n",
       "    <tr>\n",
       "      <td>4</td>\n",
       "      <td>7</td>\n",
       "      <td>6</td>\n",
       "      <td>80</td>\n",
       "      <td>https://vignette3.wikia.nocookie.net/logosrupa...</td>\n",
       "      <td>{'id': 65, 'name': 'Magnolia Crawford', 'place...</td>\n",
       "    </tr>\n",
       "    <tr>\n",
       "      <td>5</td>\n",
       "      <td>7</td>\n",
       "      <td>6</td>\n",
       "      <td>80</td>\n",
       "      <td>https://vignette3.wikia.nocookie.net/logosrupa...</td>\n",
       "      <td>{'id': 66, 'name': 'Vivacious', 'place': 12}</td>\n",
       "    </tr>\n",
       "    <tr>\n",
       "      <td>6</td>\n",
       "      <td>7</td>\n",
       "      <td>6</td>\n",
       "      <td>80</td>\n",
       "      <td>https://vignette3.wikia.nocookie.net/logosrupa...</td>\n",
       "      <td>{'id': 71, 'name': 'Gia Gunn', 'place': 10}</td>\n",
       "    </tr>\n",
       "    <tr>\n",
       "      <td>7</td>\n",
       "      <td>7</td>\n",
       "      <td>6</td>\n",
       "      <td>80</td>\n",
       "      <td>https://vignette3.wikia.nocookie.net/logosrupa...</td>\n",
       "      <td>{'id': 64, 'name': 'Kelly Mantle', 'place': 14}</td>\n",
       "    </tr>\n",
       "    <tr>\n",
       "      <td>8</td>\n",
       "      <td>7</td>\n",
       "      <td>6</td>\n",
       "      <td>80</td>\n",
       "      <td>https://vignette3.wikia.nocookie.net/logosrupa...</td>\n",
       "      <td>{'id': 72, 'name': 'Milk', 'place': 9}</td>\n",
       "    </tr>\n",
       "    <tr>\n",
       "      <td>9</td>\n",
       "      <td>7</td>\n",
       "      <td>6</td>\n",
       "      <td>80</td>\n",
       "      <td>https://vignette3.wikia.nocookie.net/logosrupa...</td>\n",
       "      <td>{'id': 78, 'name': 'Courtney Act', 'place': 3}</td>\n",
       "    </tr>\n",
       "    <tr>\n",
       "      <td>10</td>\n",
       "      <td>7</td>\n",
       "      <td>6</td>\n",
       "      <td>80</td>\n",
       "      <td>https://vignette3.wikia.nocookie.net/logosrupa...</td>\n",
       "      <td>{'id': 80, 'name': 'Bianca Del Rio', 'place': 1}</td>\n",
       "    </tr>\n",
       "    <tr>\n",
       "      <td>11</td>\n",
       "      <td>7</td>\n",
       "      <td>6</td>\n",
       "      <td>80</td>\n",
       "      <td>https://vignette3.wikia.nocookie.net/logosrupa...</td>\n",
       "      <td>{'id': 79, 'name': 'Adore Delano', 'place': 2}</td>\n",
       "    </tr>\n",
       "    <tr>\n",
       "      <td>12</td>\n",
       "      <td>7</td>\n",
       "      <td>6</td>\n",
       "      <td>80</td>\n",
       "      <td>https://vignette3.wikia.nocookie.net/logosrupa...</td>\n",
       "      <td>{'id': 75, 'name': 'BenDeLaCreme', 'place': 5}</td>\n",
       "    </tr>\n",
       "    <tr>\n",
       "      <td>13</td>\n",
       "      <td>7</td>\n",
       "      <td>6</td>\n",
       "      <td>80</td>\n",
       "      <td>https://vignette3.wikia.nocookie.net/logosrupa...</td>\n",
       "      <td>{'id': 77, 'name': 'Darienne Lake', 'place': 4}</td>\n",
       "    </tr>\n",
       "  </tbody>\n",
       "</table>\n",
       "</div>"
      ],
      "text/plain": [
       "    id  seasonNumber  winnerId  \\\n",
       "0    7             6        80   \n",
       "1    7             6        80   \n",
       "2    7             6        80   \n",
       "3    7             6        80   \n",
       "4    7             6        80   \n",
       "5    7             6        80   \n",
       "6    7             6        80   \n",
       "7    7             6        80   \n",
       "8    7             6        80   \n",
       "9    7             6        80   \n",
       "10   7             6        80   \n",
       "11   7             6        80   \n",
       "12   7             6        80   \n",
       "13   7             6        80   \n",
       "\n",
       "                                            image_url  \\\n",
       "0   https://vignette3.wikia.nocookie.net/logosrupa...   \n",
       "1   https://vignette3.wikia.nocookie.net/logosrupa...   \n",
       "2   https://vignette3.wikia.nocookie.net/logosrupa...   \n",
       "3   https://vignette3.wikia.nocookie.net/logosrupa...   \n",
       "4   https://vignette3.wikia.nocookie.net/logosrupa...   \n",
       "5   https://vignette3.wikia.nocookie.net/logosrupa...   \n",
       "6   https://vignette3.wikia.nocookie.net/logosrupa...   \n",
       "7   https://vignette3.wikia.nocookie.net/logosrupa...   \n",
       "8   https://vignette3.wikia.nocookie.net/logosrupa...   \n",
       "9   https://vignette3.wikia.nocookie.net/logosrupa...   \n",
       "10  https://vignette3.wikia.nocookie.net/logosrupa...   \n",
       "11  https://vignette3.wikia.nocookie.net/logosrupa...   \n",
       "12  https://vignette3.wikia.nocookie.net/logosrupa...   \n",
       "13  https://vignette3.wikia.nocookie.net/logosrupa...   \n",
       "\n",
       "                                               queens  \n",
       "0    {'id': 70, 'name': 'April Carrion', 'place': 11}  \n",
       "1   {'id': 74, 'name': 'Trinity K Bonet', 'place': 7}  \n",
       "2   {'id': 73, 'name': 'Laganja Estranja', 'place'...  \n",
       "3        {'id': 76, 'name': 'Joslyn Fox', 'place': 6}  \n",
       "4   {'id': 65, 'name': 'Magnolia Crawford', 'place...  \n",
       "5        {'id': 66, 'name': 'Vivacious', 'place': 12}  \n",
       "6         {'id': 71, 'name': 'Gia Gunn', 'place': 10}  \n",
       "7     {'id': 64, 'name': 'Kelly Mantle', 'place': 14}  \n",
       "8              {'id': 72, 'name': 'Milk', 'place': 9}  \n",
       "9      {'id': 78, 'name': 'Courtney Act', 'place': 3}  \n",
       "10   {'id': 80, 'name': 'Bianca Del Rio', 'place': 1}  \n",
       "11     {'id': 79, 'name': 'Adore Delano', 'place': 2}  \n",
       "12     {'id': 75, 'name': 'BenDeLaCreme', 'place': 5}  \n",
       "13    {'id': 77, 'name': 'Darienne Lake', 'place': 4}  "
      ]
     },
     "execution_count": 254,
     "metadata": {},
     "output_type": "execute_result"
    }
   ],
   "source": [
    "get_data(SEASONS, 7)"
   ]
  },
  {
   "cell_type": "code",
   "execution_count": null,
   "metadata": {},
   "outputs": [],
   "source": []
  }
 ],
 "metadata": {
  "kernelspec": {
   "display_name": "Python 3",
   "language": "python",
   "name": "python3"
  },
  "language_info": {
   "codemirror_mode": {
    "name": "ipython",
    "version": 3
   },
   "file_extension": ".py",
   "mimetype": "text/x-python",
   "name": "python",
   "nbconvert_exporter": "python",
   "pygments_lexer": "ipython3",
   "version": "3.7.4"
  }
 },
 "nbformat": 4,
 "nbformat_minor": 2
}
