{
 "cells": [
  {
   "cell_type": "markdown",
   "metadata": {
    "slideshow": {
     "slide_type": "-"
    }
   },
   "source": [
    "<center>\n",
    "    <h1 style=\"color:deeppink\">Just between us SQL Friends...</h1>\n",
    "    <b style=\"color:deeppink\">RuPaul's Drag Race: Visualized<b>\n",
    "    <img src=\"media/header.gif\" height=\"100px\">\n",
    "</center>"
   ]
  },
  {
   "cell_type": "markdown",
   "metadata": {},
   "source": [
    "<h2 style=\"color:deeppink\">Project Requirements</h2>"
   ]
  },
  {
   "cell_type": "markdown",
   "metadata": {},
   "source": [
    "<ul>\n",
    "    <li><strike>You must include a SQL database (MySQL or SQLite) where your data will be stored</strike></li>\n",
    "    <li><strike>You need to include the sql or python script that creates your database</strike></li>\n",
    "    <li><strike>You must include a Python script used to fetch data from a data source and load it into your SQL database</strike></li>\n",
    "    <li><strike>Your data source may be an external API, database, a CSV file, JSON, or any other data source that you can read/parse via Python code</strike></li>\n",
    "    <li><strike>You must include a Python script to retrieve the data from your SQL database into a Python object</strike></li>\n",
    "    <li>Visualize the results of your analysis using Matplotlib, Seaborn, Bokeh or another Python Data </li>Visualization library. Your results can not be a plain text representation and you are encouraged to explore a visualization approach that clearly supports a conclusion/result of the analysis of your data.</li>\n",
    "    <li>Your data retrieval for visualization uses at least one SQL query, meaning you can't parse records from your data set using only Python or an ORM. </li>\n",
    "</ul>"
   ]
  },
  {
   "cell_type": "markdown",
   "metadata": {},
   "source": [
    "<h2 style=\"color:deeppink\">Data Schema</h2>\n",
    "<ul>\n",
    "    <li>\n",
    "        <h3 style=\"color:deeppink\">queens_df</h3>\n",
    "        <ul>\n",
    "            <li>id - int</li>\n",
    "            <li>name - str</li>\n",
    "            <li>quote - str</li>\n",
    "            <li>image_url - str</li>\n",
    "            <li>miss_congeniality - bool</li>\n",
    "            <li>winner - bool</li>\n",
    "        </ul>\n",
    "    </li>\n",
    "    <li>\n",
    "        <h3 style=\"color:deeppink\">main_seasons_df</h3>  \n",
    "        <ul>\n",
    "            <li>season_id - int</li>\n",
    "            <li>queen_id - int</li>\n",
    "            <li>place - int</li>\n",
    "        </ul>\n",
    "    </li> \n",
    "    <li>\n",
    "        <h3 style=\"color:deeppink\">all_stars_df</h3>\n",
    "        <ul>\n",
    "            <li>season_id - int</li>\n",
    "            <li>queen_id - int</li>\n",
    "            <li>place - int</li>\n",
    "        </ul>\n",
    "    </li>\n",
    "</ul>"
   ]
  },
  {
   "cell_type": "markdown",
   "metadata": {},
   "source": [
    "<h2 style=\"color:deeppink\">To-Do:</h2>"
   ]
  },
  {
   "cell_type": "markdown",
   "metadata": {},
   "source": [
    "<ul>\n",
    "    <li></li>\n",
    "    <li></li>    \n",
    "    <li></li>\n",
    "</ul>"
   ]
  },
  {
   "cell_type": "markdown",
   "metadata": {},
   "source": [
    "<h2 style=\"color:deeppink\">Import Libraries & Connect SQLite Database</h2>"
   ]
  },
  {
   "cell_type": "code",
   "execution_count": 98,
   "metadata": {},
   "outputs": [],
   "source": [
    "import pandas as pd\n",
    "import sqlite3\n",
    "from IPython.display import Image\n",
    "from pandas.io.json import json_normalize\n",
    "\n",
    "drag_race_data_base = sqlite3.connect(\"drag_race_data.db\")"
   ]
  },
  {
   "cell_type": "markdown",
   "metadata": {},
   "source": [
    "<h2 style=\"color:deeppink\">Define Constants, Global Variables, and API endpoints</h2>"
   ]
  },
  {
   "cell_type": "code",
   "execution_count": 99,
   "metadata": {},
   "outputs": [],
   "source": [
    "#API URL\n",
    "DRAG_RACE_API_URL = \"http://www.nokeynoshade.party/api/\"\n",
    "\n",
    "#API Endpoints - may not need all of these in the finished product\n",
    "SEASONS = \"seasons\"\n",
    "SEASON_BY_NUMBER = \"seasons/{}\"\n",
    "QUEENS = \"queens/all\"\n",
    "QUEENS_BY_SEASON = \"seasons/{}/queens\"\n",
    "EPISODES = \"episodes\"\n",
    "EPISODES_BY_SEASON = \"seasons/{}/episodes\"\n",
    "CHALLENGES_BY_SEASON = \"seasons/{}/challenges\"\n",
    "WINNERS = \"queens/winners\"\n",
    "CHALLENGES = \"challenges\""
   ]
  },
  {
   "cell_type": "markdown",
   "metadata": {},
   "source": [
    "<h2 style=\"color:deeppink\">Define Functions</h2>"
   ]
  },
  {
   "cell_type": "code",
   "execution_count": 100,
   "metadata": {},
   "outputs": [],
   "source": [
    "def get_data(endpoint, SEASON = None):\n",
    "    data = pd.read_json(DRAG_RACE_API_URL + endpoint.format(SEASON))\n",
    "    return data\n",
    "\n",
    "def get_seasons():\n",
    "    season_queens_df = pd.DataFrame()\n",
    "    temp_df = pd.DataFrame()\n",
    "    for i in range(len(season_id_df)):\n",
    "        temp_df = get_data(SEASON_BY_NUMBER, i + 1)\n",
    "        temp_df = json_normalize(temp_df['queens'])\n",
    "        temp_df['season_id'] = i + 1\n",
    "        season_queens_df = pd.concat([season_queens_df, temp_df], sort=False)\n",
    "        i += 1\n",
    "    return season_queens_df\n"
   ]
  },
  {
   "cell_type": "markdown",
   "metadata": {},
   "source": [
    "<h2 style=\"color:deeppink\">Define SQL Queries</h2>"
   ]
  },
  {
   "cell_type": "code",
   "execution_count": 168,
   "metadata": {},
   "outputs": [],
   "source": [
    "queens_query = \"\"\"\n",
    "    SELECT season_id, queens.id, name, image_url FROM seasons\n",
    "    INNER JOIN queens ON seasons.id = queens.id\n",
    "    WHERE winner IS True\n",
    "\"\"\""
   ]
  },
  {
   "cell_type": "markdown",
   "metadata": {},
   "source": [
    "<h2 style=\"color:deeppink\">Create raw dataframes from API endpoints</h2>"
   ]
  },
  {
   "cell_type": "code",
   "execution_count": 169,
   "metadata": {},
   "outputs": [],
   "source": [
    "raw_seasons_df = get_data(SEASONS)\n",
    "raw_queens_df = get_data(QUEENS)"
   ]
  },
  {
   "cell_type": "markdown",
   "metadata": {},
   "source": [
    "<h2 style=\"color:deeppink\">Define values used for cleanup</h2>"
   ]
  },
  {
   "cell_type": "code",
   "execution_count": 170,
   "metadata": {},
   "outputs": [],
   "source": [
    "queens_drop_cols = ['queens', 'name']"
   ]
  },
  {
   "cell_type": "markdown",
   "metadata": {},
   "source": [
    "<h2 style=\"color:deeppink\">Clean and organize the data</h2>"
   ]
  },
  {
   "cell_type": "code",
   "execution_count": 171,
   "metadata": {},
   "outputs": [],
   "source": [
    "# create the season_id_df to look up season numbers by id\n",
    "season_id_series = raw_seasons_df['id']\n",
    "season_number_series = raw_seasons_df['seasonNumber']\n",
    "seasons_dict = {\"season_id\":season_id_series, \"season_number\": season_number_series}\n",
    "season_id_df = pd.DataFrame(seasons_dict)"
   ]
  },
  {
   "cell_type": "markdown",
   "metadata": {},
   "source": [
    "<h2 style=\"color:deeppink\">Create SQL Tables from raw dataframes</h2>"
   ]
  },
  {
   "cell_type": "code",
   "execution_count": 172,
   "metadata": {},
   "outputs": [],
   "source": [
    "raw_queens_df.to_sql('queens', drag_race_data_base, if_exists='replace')\n",
    "\n",
    "seasons_df = get_seasons().set_index('id').drop(queens_drop_cols, axis=1)\n",
    "seasons_df.to_sql('seasons', drag_race_data_base, if_exists = 'replace')"
   ]
  },
  {
   "cell_type": "markdown",
   "metadata": {},
   "source": [
    "<h2 style=\"color:deeppink\">Sandbox</h2>\n",
    "<b style=\"color:deeppink\">Use the space below to experiment. Nothing below will be included in the finished product.</b>"
   ]
  },
  {
   "cell_type": "code",
   "execution_count": 173,
   "metadata": {},
   "outputs": [
    {
     "data": {
      "text/html": [
       "<div>\n",
       "<style scoped>\n",
       "    .dataframe tbody tr th:only-of-type {\n",
       "        vertical-align: middle;\n",
       "    }\n",
       "\n",
       "    .dataframe tbody tr th {\n",
       "        vertical-align: top;\n",
       "    }\n",
       "\n",
       "    .dataframe thead th {\n",
       "        text-align: right;\n",
       "    }\n",
       "</style>\n",
       "<table border=\"1\" class=\"dataframe\">\n",
       "  <thead>\n",
       "    <tr style=\"text-align: right;\">\n",
       "      <th></th>\n",
       "      <th>season_id</th>\n",
       "      <th>id</th>\n",
       "      <th>name</th>\n",
       "      <th>image_url</th>\n",
       "    </tr>\n",
       "  </thead>\n",
       "  <tbody>\n",
       "    <tr>\n",
       "      <td>0</td>\n",
       "      <td>1</td>\n",
       "      <td>12</td>\n",
       "      <td>Bebe Zahara Benet</td>\n",
       "      <td>http://www.nokeynoshade.party/images/bebe-zaha...</td>\n",
       "    </tr>\n",
       "    <tr>\n",
       "      <td>1</td>\n",
       "      <td>12</td>\n",
       "      <td>12</td>\n",
       "      <td>Bebe Zahara Benet</td>\n",
       "      <td>http://www.nokeynoshade.party/images/bebe-zaha...</td>\n",
       "    </tr>\n",
       "    <tr>\n",
       "      <td>2</td>\n",
       "      <td>2</td>\n",
       "      <td>24</td>\n",
       "      <td>Tyra Sanchez</td>\n",
       "      <td>http://www.nokeynoshade.party/images/tyra-sanc...</td>\n",
       "    </tr>\n",
       "    <tr>\n",
       "      <td>3</td>\n",
       "      <td>3</td>\n",
       "      <td>36</td>\n",
       "      <td>Raja</td>\n",
       "      <td>http://www.nokeynoshade.party/images/raja.jpg</td>\n",
       "    </tr>\n",
       "    <tr>\n",
       "      <td>4</td>\n",
       "      <td>4</td>\n",
       "      <td>48</td>\n",
       "      <td>Chad Michaels</td>\n",
       "      <td>http://www.nokeynoshade.party/images/chad-mich...</td>\n",
       "    </tr>\n",
       "    <tr>\n",
       "      <td>5</td>\n",
       "      <td>5</td>\n",
       "      <td>48</td>\n",
       "      <td>Chad Michaels</td>\n",
       "      <td>http://www.nokeynoshade.party/images/chad-mich...</td>\n",
       "    </tr>\n",
       "    <tr>\n",
       "      <td>6</td>\n",
       "      <td>4</td>\n",
       "      <td>49</td>\n",
       "      <td>Sharon Needles</td>\n",
       "      <td>http://www.nokeynoshade.party/images/sharon-ne...</td>\n",
       "    </tr>\n",
       "    <tr>\n",
       "      <td>7</td>\n",
       "      <td>6</td>\n",
       "      <td>62</td>\n",
       "      <td>Alaska Thunderfuck 5000</td>\n",
       "      <td>http://www.nokeynoshade.party/images/alaska-th...</td>\n",
       "    </tr>\n",
       "    <tr>\n",
       "      <td>8</td>\n",
       "      <td>10</td>\n",
       "      <td>62</td>\n",
       "      <td>Alaska Thunderfuck 5000</td>\n",
       "      <td>http://www.nokeynoshade.party/images/alaska-th...</td>\n",
       "    </tr>\n",
       "    <tr>\n",
       "      <td>9</td>\n",
       "      <td>6</td>\n",
       "      <td>63</td>\n",
       "      <td>Jinkx Monsoon</td>\n",
       "      <td>http://www.nokeynoshade.party/images/jinkx-mon...</td>\n",
       "    </tr>\n",
       "    <tr>\n",
       "      <td>10</td>\n",
       "      <td>7</td>\n",
       "      <td>80</td>\n",
       "      <td>Bianca Del Rio</td>\n",
       "      <td>http://www.nokeynoshade.party/images/bianca-de...</td>\n",
       "    </tr>\n",
       "    <tr>\n",
       "      <td>11</td>\n",
       "      <td>8</td>\n",
       "      <td>89</td>\n",
       "      <td>Trixie Mattel</td>\n",
       "      <td>http://www.nokeynoshade.party/images/trixie-ma...</td>\n",
       "    </tr>\n",
       "    <tr>\n",
       "      <td>12</td>\n",
       "      <td>12</td>\n",
       "      <td>89</td>\n",
       "      <td>Trixie Mattel</td>\n",
       "      <td>http://www.nokeynoshade.party/images/trixie-ma...</td>\n",
       "    </tr>\n",
       "    <tr>\n",
       "      <td>13</td>\n",
       "      <td>8</td>\n",
       "      <td>94</td>\n",
       "      <td>Violet Chachki</td>\n",
       "      <td>http://www.nokeynoshade.party/images/violet-ch...</td>\n",
       "    </tr>\n",
       "    <tr>\n",
       "      <td>14</td>\n",
       "      <td>9</td>\n",
       "      <td>106</td>\n",
       "      <td>Bob the Drag Queen</td>\n",
       "      <td>http://www.nokeynoshade.party/images/bob-the-d...</td>\n",
       "    </tr>\n",
       "    <tr>\n",
       "      <td>15</td>\n",
       "      <td>11</td>\n",
       "      <td>124</td>\n",
       "      <td>Sasha Velour</td>\n",
       "      <td>http://www.nokeynoshade.party/images/sasha-vel...</td>\n",
       "    </tr>\n",
       "    <tr>\n",
       "      <td>16</td>\n",
       "      <td>13</td>\n",
       "      <td>126</td>\n",
       "      <td>Aquaria</td>\n",
       "      <td>http://www.nokeynoshade.party/images/aquaria.jpg</td>\n",
       "    </tr>\n",
       "    <tr>\n",
       "      <td>17</td>\n",
       "      <td>15</td>\n",
       "      <td>152</td>\n",
       "      <td>Yvie oddly</td>\n",
       "      <td>https://www.nokeynoshade.party/images/yvie-odd...</td>\n",
       "    </tr>\n",
       "  </tbody>\n",
       "</table>\n",
       "</div>"
      ],
      "text/plain": [
       "    season_id   id                     name  \\\n",
       "0           1   12        Bebe Zahara Benet   \n",
       "1          12   12        Bebe Zahara Benet   \n",
       "2           2   24             Tyra Sanchez   \n",
       "3           3   36                     Raja   \n",
       "4           4   48            Chad Michaels   \n",
       "5           5   48            Chad Michaels   \n",
       "6           4   49           Sharon Needles   \n",
       "7           6   62  Alaska Thunderfuck 5000   \n",
       "8          10   62  Alaska Thunderfuck 5000   \n",
       "9           6   63            Jinkx Monsoon   \n",
       "10          7   80           Bianca Del Rio   \n",
       "11          8   89            Trixie Mattel   \n",
       "12         12   89            Trixie Mattel   \n",
       "13          8   94           Violet Chachki   \n",
       "14          9  106       Bob the Drag Queen   \n",
       "15         11  124             Sasha Velour   \n",
       "16         13  126                  Aquaria   \n",
       "17         15  152               Yvie oddly   \n",
       "\n",
       "                                            image_url  \n",
       "0   http://www.nokeynoshade.party/images/bebe-zaha...  \n",
       "1   http://www.nokeynoshade.party/images/bebe-zaha...  \n",
       "2   http://www.nokeynoshade.party/images/tyra-sanc...  \n",
       "3       http://www.nokeynoshade.party/images/raja.jpg  \n",
       "4   http://www.nokeynoshade.party/images/chad-mich...  \n",
       "5   http://www.nokeynoshade.party/images/chad-mich...  \n",
       "6   http://www.nokeynoshade.party/images/sharon-ne...  \n",
       "7   http://www.nokeynoshade.party/images/alaska-th...  \n",
       "8   http://www.nokeynoshade.party/images/alaska-th...  \n",
       "9   http://www.nokeynoshade.party/images/jinkx-mon...  \n",
       "10  http://www.nokeynoshade.party/images/bianca-de...  \n",
       "11  http://www.nokeynoshade.party/images/trixie-ma...  \n",
       "12  http://www.nokeynoshade.party/images/trixie-ma...  \n",
       "13  http://www.nokeynoshade.party/images/violet-ch...  \n",
       "14  http://www.nokeynoshade.party/images/bob-the-d...  \n",
       "15  http://www.nokeynoshade.party/images/sasha-vel...  \n",
       "16   http://www.nokeynoshade.party/images/aquaria.jpg  \n",
       "17  https://www.nokeynoshade.party/images/yvie-odd...  "
      ]
     },
     "execution_count": 173,
     "metadata": {},
     "output_type": "execute_result"
    }
   ],
   "source": [
    "pd.read_sql(queens_query, drag_race_data_base)"
   ]
  },
  {
   "cell_type": "code",
   "execution_count": null,
   "metadata": {},
   "outputs": [],
   "source": []
  },
  {
   "cell_type": "code",
   "execution_count": null,
   "metadata": {},
   "outputs": [],
   "source": []
  },
  {
   "cell_type": "code",
   "execution_count": 109,
   "metadata": {},
   "outputs": [],
   "source": [
    "# winners_query = \"\"\"\n",
    "#     SELECT id, name, quote, image_url\n",
    "#     FROM queens\n",
    "#     WHERE winner IS True\n",
    "# \"\"\"\n",
    "\n",
    "# winners_df = pd.read_sql(winners_query, drag_race_data_base).set_index('id')\n",
    "# winners_df"
   ]
  }
 ],
 "metadata": {
  "kernelspec": {
   "display_name": "Python 3",
   "language": "python",
   "name": "python3"
  },
  "language_info": {
   "codemirror_mode": {
    "name": "ipython",
    "version": 3
   },
   "file_extension": ".py",
   "mimetype": "text/x-python",
   "name": "python",
   "nbconvert_exporter": "python",
   "pygments_lexer": "ipython3",
   "version": "3.7.4"
  }
 },
 "nbformat": 4,
 "nbformat_minor": 2
}
