{
 "cells": [
  {
   "cell_type": "markdown",
   "metadata": {
    "slideshow": {
     "slide_type": "-"
    }
   },
   "source": [
    "\n",
    "<center>\n",
    "    <h1 style=\"color:deeppink\">Just between us SQL Friends...</h1>\n",
    "    <h2 style=\"color:deeppink\">RuPaul's Drag Race: Visualized</h2>\n",
    "    <img src=\"media/header.gif\" height=\"100px\">\n",
    "</center>"
   ]
  },
  {
   "cell_type": "markdown",
   "metadata": {},
   "source": [
    "<h2 style=\"color:deeppink\">Check Dependencies, Import Libraries, and Connect SQLite Database</h2>"
   ]
  },
  {
   "cell_type": "code",
   "execution_count": 1,
   "metadata": {},
   "outputs": [],
   "source": [
    "from helper import *\n",
    "\n",
    "try:\n",
    "    import pandas as pd\n",
    "    from pandas.io.json import json_normalize\n",
    "except ImportError as e:\n",
    "    pass\n",
    "\n",
    "try:\n",
    "    import sqlite3\n",
    "except ImportError as e:\n",
    "    pass\n",
    "\n",
    "try:\n",
    "    import matplotlib.pyplot as plt\n",
    "except ImportError as e:\n",
    "    pass\n",
    "\n",
    "try:\n",
    "    from bokeh.plotting import ColumnDataSource, figure, show, output_notebook\n",
    "except ImportError as e:\n",
    "    pass"
   ]
  },
  {
   "cell_type": "code",
   "execution_count": 2,
   "metadata": {},
   "outputs": [],
   "source": [
    "drag_race_data_base = sqlite3.connect(\"drag_race_data.db\")"
   ]
  },
  {
   "cell_type": "markdown",
   "metadata": {},
   "source": [
    "<h2 style=\"color:deeppink\">Define Constants, Global Variables, and API endpoints</h2>"
   ]
  },
  {
   "cell_type": "code",
   "execution_count": 3,
   "metadata": {},
   "outputs": [],
   "source": [
    "DRAG_RACE_API_URL = \"http://www.nokeynoshade.party/api/\"\n",
    "\n",
    "#API Endpoints\n",
    "QUEENS = \"queens/all\"\n",
    "SEASONS = \"seasons\"\n",
    "SEASON_BY_NUMBER = \"seasons/{}\"\n",
    "ALL_CHALLENGES = \"challenges\"\n",
    "CHALLENGE_BY_NUMBER = \"challenges/{}\"\n",
    "CHALLENGES_BY_QUEEN_ID = \"queens/{}/challenges\"\n",
    "CHALLENGES_BY_SEASON = \"seasons/{}/challenges\""
   ]
  },
  {
   "cell_type": "markdown",
   "metadata": {},
   "source": [
    "<h2 style=\"color:deeppink\">Define Functions</h2>"
   ]
  },
  {
   "cell_type": "code",
   "execution_count": 4,
   "metadata": {},
   "outputs": [],
   "source": [
    "#some, not all, api endpoints require a season_id number... we'll make that argument optional.\n",
    "def get_data(endpoint, SEASON = None):\n",
    "    df = pd.read_json(DRAG_RACE_API_URL + endpoint.format(SEASON))\n",
    "    return df\n",
    "\n",
    "\n",
    "def get_seasons():\n",
    "    df = pd.DataFrame()\n",
    "    temp_df = pd.DataFrame()\n",
    "    for i in range(len(season_id_df)):\n",
    "        temp_df = get_data(SEASON_BY_NUMBER, i +1)\n",
    "        temp_df = json_normalize(temp_df['queens'])\n",
    "        temp_df['season_id'] = i + 1\n",
    "        df = pd.concat([df, temp_df], sort=False)\n",
    "        i += 1\n",
    "    return df\n",
    "\n",
    "\n",
    "def get_challenges():\n",
    "    df = pd.DataFrame()\n",
    "    temp_df = pd.DataFrame()\n",
    "    for i in range(15):\n",
    "        temp_df = get_data(CHALLENGES_BY_SEASON, i + 1)\n",
    "        temp_df['season_id'] = i + 1\n",
    "        df = pd.concat([df, temp_df], sort=False)\n",
    "        i += 1\n",
    "    return df\n",
    "\n",
    "\n",
    "def get_image_urls(data_set):\n",
    "    images = []\n",
    "    for i in range(len(data_set['image_url'])):\n",
    "        images.append(Image(url = data_set['image_url'][i], width = 50))\n",
    "        i += 1\n",
    "    return images\n",
    "\n",
    "\n",
    "def display_images(images):\n",
    "    for image in images:\n",
    "        display(image)\n",
    "        "
   ]
  },
  {
   "cell_type": "markdown",
   "metadata": {},
   "source": [
    "<h2 style=\"color:deeppink\">Define SQL Queries</h2>"
   ]
  },
  {
   "cell_type": "code",
   "execution_count": 5,
   "metadata": {},
   "outputs": [],
   "source": [
    "SELECT_QUEENS = \"\"\"\n",
    "    SELECT queens.id, name, season_number, place, winner, missCongeniality AS miss_congeniality, image_url, quote FROM seasons\n",
    "    INNER JOIN season_ids ON seasons.season_id = season_ids.season_id\n",
    "    INNER JOIN queens ON seasons.id = queens.id\n",
    "\"\"\"\n",
    "\n",
    "all_queens_query = SELECT_QUEENS + \"\"\"\n",
    "    ORDER BY season_number, place DESC\n",
    "\"\"\"\n",
    "\n",
    "\n",
    "all_stars_query = SELECT_QUEENS + \"\"\"\n",
    "    WHERE season_number LIKE \"%A%\"\n",
    "    ORDER BY season_number, place DESC\n",
    "\"\"\"\n",
    "\n",
    "\n",
    "main_seasons_query = SELECT_QUEENS + \"\"\"\n",
    "    WHERE season_number NOT LIKE \"A%\" \n",
    "    ORDER BY season_number, place DESC\n",
    "\"\"\"\n",
    "\n",
    "\n",
    "main_season_winners_query = SELECT_QUEENS + \"\"\"\n",
    "    WHERE winner IS True AND season_number NOT LIKE \"A%\" AND place = 1\n",
    "\"\"\"\n",
    "\n",
    "\n",
    "all_stars_winners_query = SELECT_QUEENS + \"\"\"\n",
    "    WHERE season_number LIKE \"A%\" AND place = 1\n",
    "\"\"\"\n",
    "\n",
    "\n",
    "miss_congeniality_query = SELECT_QUEENS + \"\"\"\n",
    "    WHERE missCongeniality IS True\n",
    "    ORDER BY season_id\"\"\"\n",
    "\n",
    "main_challenge_wins_query = \"\"\"\n",
    "    SELECT name, count(won) AS wins\n",
    "    FROM challenges\n",
    "    WHERE won IS True\n",
    "    GROUP BY name\n",
    "    ORDER BY wins DESC\n",
    "    LIMIT 10\n",
    "\"\"\"\n",
    "\n",
    "all_stars_performance_query = \"\"\"\n",
    "    SELECT main_seasons_queens.id, \n",
    "            main_seasons_queens.name, \n",
    "            main_seasons_queens.season_number AS \"Main Season Number\", \n",
    "            main_seasons_queens.place AS \"Main Season Place\", \n",
    "            all_stars_queens.season_number AS \"All Stars Season Number\",\n",
    "            all_stars_queens.place AS \"All Stars Place\",\n",
    "            main_seasons_queens.image_url,\n",
    "            main_seasons_queens.quote\n",
    "    FROM main_seasons_queens\n",
    "    INNER JOIN all_stars_queens ON main_seasons_queens.id = all_stars_queens.id\n",
    "\"\"\""
   ]
  },
  {
   "cell_type": "markdown",
   "metadata": {},
   "source": [
    "<h2 style=\"color:deeppink\">Define values used for cleanup</h2>"
   ]
  },
  {
   "cell_type": "code",
   "execution_count": 6,
   "metadata": {},
   "outputs": [],
   "source": [
    "queens_drop_cols = ['queens', 'name']"
   ]
  },
  {
   "cell_type": "markdown",
   "metadata": {},
   "source": [
    "<h2 style=\"color:deeppink\">Create raw dataframes from API endpoints</h2>"
   ]
  },
  {
   "cell_type": "code",
   "execution_count": 7,
   "metadata": {},
   "outputs": [],
   "source": [
    "raw_seasons_df = get_data(SEASONS)\n",
    "raw_queens_df = get_data(QUEENS)\n",
    "\n",
    "# create season_id_df to look up season numbers by id\n",
    "season_id_df = pd.DataFrame({\"season_id\": raw_seasons_df['id'], \"season_number\": raw_seasons_df['seasonNumber']})"
   ]
  },
  {
   "cell_type": "markdown",
   "metadata": {},
   "source": [
    "<h2 style=\"color:deeppink\">Create SQL Tables</h2>"
   ]
  },
  {
   "cell_type": "code",
   "execution_count": 8,
   "metadata": {},
   "outputs": [],
   "source": [
    "# queens table\n",
    "raw_queens_df.to_sql('queens', drag_race_data_base, if_exists='replace')\n",
    "\n",
    "# seasons table\n",
    "seasons_df = get_seasons().set_index('id').drop(queens_drop_cols, axis=1)\n",
    "seasons_df.to_sql('seasons', drag_race_data_base, if_exists = 'replace')\n",
    "\n",
    "# season_ids table\n",
    "season_id_df.to_sql('season_ids', drag_race_data_base, if_exists='replace')\n",
    "\n",
    "#challenges table\n",
    "main_challenges = get_challenges()[get_challenges().type.eq('main')]\n",
    "json_normalize(main_challenges['queens'].explode()).to_sql('challenges', drag_race_data_base, if_exists=\"replace\")"
   ]
  },
  {
   "cell_type": "markdown",
   "metadata": {},
   "source": [
    "<h2 style=\"color:deeppink\">Create DataFrames from the SQL Tables</h2>"
   ]
  },
  {
   "cell_type": "code",
   "execution_count": 9,
   "metadata": {},
   "outputs": [],
   "source": [
    "#FIX THE SORTING FOR main_seasons... needs to be sorted by season ascending, then place descending. \n",
    "# the dtype change is what is causing the trouble\n",
    "\n",
    "#all queens, ranked\n",
    "main_seasons_df = pd.read_sql(main_seasons_query, drag_race_data_base).astype({'season_number':'int32'}).sort_values(by=['season_number']).set_index('id')\n",
    "all_stars_df = pd.read_sql(all_stars_query, drag_race_data_base).sort_values(by=['season_number'])\n",
    "\n",
    "#winners\n",
    "main_season_winners_df = pd.read_sql(main_season_winners_query, drag_race_data_base).astype({'season_number':'int32'}).sort_values(by=['season_number'])\n",
    "all_stars_winners_df = pd.read_sql(all_stars_winners_query, drag_race_data_base).sort_values(by=['season_number'])\n",
    "#for some reason, Trinity and Monet X Change are not marked as AS 4 winners... The shade...\n",
    "all_stars_winners_df['winner'] = 1\n",
    "\n",
    "#most main challenge wins\n",
    "top_ten_main_challenge_wins_df = pd.read_sql(main_challenge_wins_query, drag_race_data_base)\n",
    "\n",
    "\n",
    "#queens performance in all stars as related to their main season performance\n",
    "all_stars_performance_df = pd.read_sql(all_stars_performance_query, drag_race_data_base)"
   ]
  },
  {
   "cell_type": "markdown",
   "metadata": {},
   "source": [
    "<h2 style=\"color:deeppink\">Create more specific SQL Tables</h2>"
   ]
  },
  {
   "cell_type": "code",
   "execution_count": 10,
   "metadata": {},
   "outputs": [],
   "source": [
    "# all_stars_winners_df.to_sql('all_stars_winners', drag_race_data_base, if_exists='replace')\n",
    "main_seasons_df.to_sql('main_seasons_queens', drag_race_data_base, if_exists='replace')\n",
    "all_stars_df.to_sql('all_stars_queens', drag_race_data_base, if_exists='replace')"
   ]
  },
  {
   "cell_type": "markdown",
   "metadata": {},
   "source": [
    "<h2 style=\"color:deeppink\">Bring back my girls...</h2>"
   ]
  },
  {
   "cell_type": "markdown",
   "metadata": {},
   "source": [
    "<b style=\"color:deeppink\">Display photos of Main Season winners</b>"
   ]
  },
  {
   "cell_type": "code",
   "execution_count": 11,
   "metadata": {},
   "outputs": [
    {
     "data": {
      "text/html": [
       "<img src=\"http://www.nokeynoshade.party/images/bebe-zahara-benet.jpg\" width=\"50\"/>"
      ],
      "text/plain": [
       "<IPython.core.display.Image object>"
      ]
     },
     "metadata": {},
     "output_type": "display_data"
    },
    {
     "data": {
      "text/html": [
       "<img src=\"http://www.nokeynoshade.party/images/tyra-sanchez.jpg\" width=\"50\"/>"
      ],
      "text/plain": [
       "<IPython.core.display.Image object>"
      ]
     },
     "metadata": {},
     "output_type": "display_data"
    },
    {
     "data": {
      "text/html": [
       "<img src=\"http://www.nokeynoshade.party/images/raja.jpg\" width=\"50\"/>"
      ],
      "text/plain": [
       "<IPython.core.display.Image object>"
      ]
     },
     "metadata": {},
     "output_type": "display_data"
    },
    {
     "data": {
      "text/html": [
       "<img src=\"http://www.nokeynoshade.party/images/sharon-needles.jpg\" width=\"50\"/>"
      ],
      "text/plain": [
       "<IPython.core.display.Image object>"
      ]
     },
     "metadata": {},
     "output_type": "display_data"
    },
    {
     "data": {
      "text/html": [
       "<img src=\"http://www.nokeynoshade.party/images/jinkx-monsoon.jpg\" width=\"50\"/>"
      ],
      "text/plain": [
       "<IPython.core.display.Image object>"
      ]
     },
     "metadata": {},
     "output_type": "display_data"
    },
    {
     "data": {
      "text/html": [
       "<img src=\"http://www.nokeynoshade.party/images/bianca-del-rio.jpg\" width=\"50\"/>"
      ],
      "text/plain": [
       "<IPython.core.display.Image object>"
      ]
     },
     "metadata": {},
     "output_type": "display_data"
    },
    {
     "data": {
      "text/html": [
       "<img src=\"http://www.nokeynoshade.party/images/violet-chachki.jpg\" width=\"50\"/>"
      ],
      "text/plain": [
       "<IPython.core.display.Image object>"
      ]
     },
     "metadata": {},
     "output_type": "display_data"
    },
    {
     "data": {
      "text/html": [
       "<img src=\"http://www.nokeynoshade.party/images/bob-the-drag-queen.jpg\" width=\"50\"/>"
      ],
      "text/plain": [
       "<IPython.core.display.Image object>"
      ]
     },
     "metadata": {},
     "output_type": "display_data"
    },
    {
     "data": {
      "text/html": [
       "<img src=\"http://www.nokeynoshade.party/images/sasha-velour.jpg\" width=\"50\"/>"
      ],
      "text/plain": [
       "<IPython.core.display.Image object>"
      ]
     },
     "metadata": {},
     "output_type": "display_data"
    },
    {
     "data": {
      "text/html": [
       "<img src=\"http://www.nokeynoshade.party/images/aquaria.jpg\" width=\"50\"/>"
      ],
      "text/plain": [
       "<IPython.core.display.Image object>"
      ]
     },
     "metadata": {},
     "output_type": "display_data"
    },
    {
     "data": {
      "text/html": [
       "<img src=\"https://www.nokeynoshade.party/images/yvie-oddly.jpg\" width=\"50\"/>"
      ],
      "text/plain": [
       "<IPython.core.display.Image object>"
      ]
     },
     "metadata": {},
     "output_type": "display_data"
    }
   ],
   "source": [
    "# #TO DO: I'd like to show all of the images, but can this be done inline? Research says subplots may be a good answer\n",
    "display_images(get_image_urls(main_season_winners_df))"
   ]
  },
  {
   "cell_type": "markdown",
   "metadata": {},
   "source": [
    "<h2 style=\"color:deeppink\">Bring back my All Stars...</h2>\n",
    "<b style=\"color:deeppink\">Display photos of All Stars season winners</b>"
   ]
  },
  {
   "cell_type": "code",
   "execution_count": 12,
   "metadata": {},
   "outputs": [
    {
     "data": {
      "text/html": [
       "<img src=\"http://www.nokeynoshade.party/images/chad-michaels.jpg\" width=\"50\"/>"
      ],
      "text/plain": [
       "<IPython.core.display.Image object>"
      ]
     },
     "metadata": {},
     "output_type": "display_data"
    },
    {
     "data": {
      "text/html": [
       "<img src=\"http://www.nokeynoshade.party/images/alaska-thunderfuck.jpg\" width=\"50\"/>"
      ],
      "text/plain": [
       "<IPython.core.display.Image object>"
      ]
     },
     "metadata": {},
     "output_type": "display_data"
    },
    {
     "data": {
      "text/html": [
       "<img src=\"http://www.nokeynoshade.party/images/trixie-mattel.jpg\" width=\"50\"/>"
      ],
      "text/plain": [
       "<IPython.core.display.Image object>"
      ]
     },
     "metadata": {},
     "output_type": "display_data"
    },
    {
     "data": {
      "text/html": [
       "<img src=\"http://www.nokeynoshade.party/images/trinity-taylor.jpg\" width=\"50\"/>"
      ],
      "text/plain": [
       "<IPython.core.display.Image object>"
      ]
     },
     "metadata": {},
     "output_type": "display_data"
    },
    {
     "data": {
      "text/html": [
       "<img src=\"http://www.nokeynoshade.party/images/monet_x_change.jpg\" width=\"50\"/>"
      ],
      "text/plain": [
       "<IPython.core.display.Image object>"
      ]
     },
     "metadata": {},
     "output_type": "display_data"
    }
   ],
   "source": [
    "# #TO DO: I'd like to show all of the images, but can this be done inline? Research says subplots may be a good answer\n",
    "display_images(get_image_urls(all_stars_winners_df))"
   ]
  },
  {
   "cell_type": "markdown",
   "metadata": {},
   "source": [
    "<h2 style=\"color:deeppink\">The Winners' Circle</h2>\n",
    "<b style=\"color:deeppink\">Show the number of Main Challenge Wins for the Top 10 Queens </b>"
   ]
  },
  {
   "cell_type": "code",
   "execution_count": 13,
   "metadata": {},
   "outputs": [
    {
     "data": {
      "text/plain": [
       "<matplotlib.axes._subplots.AxesSubplot at 0x115601d50>"
      ]
     },
     "execution_count": 13,
     "metadata": {},
     "output_type": "execute_result"
    },
    {
     "data": {
      "image/png": "[encoded data removed]",
      "text/plain": [
       "<Figure size 2160x720 with 1 Axes>"
      ]
     },
     "metadata": {
      "needs_background": "light"
     },
     "output_type": "display_data"
    }
   ],
   "source": [
    "top_ten_main_challenge_wins_df.plot.bar(x=\"name\", y=\"wins\", color=\"deeppink\", figsize=(30, 10), title=\"Most Main Challenge Wins\")"
   ]
  },
  {
   "cell_type": "markdown",
   "metadata": {},
   "source": [
    "<h2 style=\"color:deeppink\">How'd they do?</h2>\n",
    "<b style=\"color:deeppink\">Use a Bokeh scatter plot to show the relationship between a queen's place in their Main Season and their place in All Stars</b>"
   ]
  },
  {
   "cell_type": "code",
   "execution_count": 14,
   "metadata": {},
   "outputs": [],
   "source": [
    "TOOLTIP = \"\"\"\n",
    "    <div>\n",
    "        <div>\n",
    "            <img\n",
    "                src=\"@imgs\" alt=\"@imgs\" width=\"100\"\n",
    "                style=\" margin: 0px 15px 15px 0px;\"\n",
    "                border=\"2\"\n",
    "            ></img>\n",
    "        </div>\n",
    "        <div>\n",
    "            <span style=\"font-size: 17px; font-weight: bold; color:deeppink\">@name</span>\n",
    "        </div>\n",
    "        <div style=\"width:150px\">\n",
    "            <span style=\"font-size: 10px; color: deeppink;\">Season @season: $x{0}</span><br/>\n",
    "            <span style=\"font-size: 10px; color: deeppink;\">All Stars @as_season: $y{0}</span><br />\n",
    "        </div>\n",
    "    </div>\n",
    "\"\"\"\n",
    "\n",
    "TOOLS = []"
   ]
  },
  {
   "cell_type": "code",
   "execution_count": 15,
   "metadata": {},
   "outputs": [
    {
     "data": {
      "text/html": [
       "\n",
       "    <div class=\"bk-root\">\n",
       "        <a href=\"https://bokeh.pydata.org\" target=\"_blank\" class=\"bk-logo bk-logo-small bk-logo-notebook\"></a>\n",
       "        <span id=\"1031\">Loading BokehJS ...</span>\n",
       "    </div>"
      ]
     },
     "metadata": {},
     "output_type": "display_data"
    },
    {
     "data": {
      "application/javascript": [
       "\n",
       "(function(root) {\n",
       "  function now() {\n",
       "    return new Date();\n",
       "  }\n",
       "\n",
       "  var force = true;\n",
       "\n",
       "  if (typeof root._bokeh_onload_callbacks === \"undefined\" || force === true) {\n",
       "    root._bokeh_onload_callbacks = [];\n",
       "    root._bokeh_is_loading = undefined;\n",
       "  }\n",
       "\n",
       "  var JS_MIME_TYPE = 'application/javascript';\n",
       "  var HTML_MIME_TYPE = 'text/html';\n",
       "  var EXEC_MIME_TYPE = 'application/vnd.bokehjs_exec.v0+json';\n",
       "  var CLASS_NAME = 'output_bokeh rendered_html';\n",
       "\n",
       "  /**\n",
       "   * Render data to the DOM node\n",
       "   */\n",
       "  function render(props, node) {\n",
       "    var script = document.createElement(\"script\");\n",
       "    node.appendChild(script);\n",
       "  }\n",
       "\n",
       "  /**\n",
       "   * Handle when an output is cleared or removed\n",
       "   */\n",
       "  function handleClearOutput(event, handle) {\n",
       "    var cell = handle.cell;\n",
       "\n",
       "    var id = cell.output_area._bokeh_element_id;\n",
       "    var server_id = cell.output_area._bokeh_server_id;\n",
       "    // Clean up Bokeh references\n",
       "    if (id != null && id in Bokeh.index) {\n",
       "      Bokeh.index[id].model.document.clear();\n",
       "      delete Bokeh.index[id];\n",
       "    }\n",
       "\n",
       "    if (server_id !== undefined) {\n",
       "      // Clean up Bokeh references\n",
       "      var cmd = \"from bokeh.io.state import curstate; print(curstate().uuid_to_server['\" + server_id + \"'].get_sessions()[0].document.roots[0]._id)\";\n",
       "      cell.notebook.kernel.execute(cmd, {\n",
       "        iopub: {\n",
       "          output: function(msg) {\n",
       "            var id = msg.content.text.trim();\n",
       "            if (id in Bokeh.index) {\n",
       "              Bokeh.index[id].model.document.clear();\n",
       "              delete Bokeh.index[id];\n",
       "            }\n",
       "          }\n",
       "        }\n",
       "      });\n",
       "      // Destroy server and session\n",
       "      var cmd = \"import bokeh.io.notebook as ion; ion.destroy_server('\" + server_id + \"')\";\n",
       "      cell.notebook.kernel.execute(cmd);\n",
       "    }\n",
       "  }\n",
       "\n",
       "  /**\n",
       "   * Handle when a new output is added\n",
       "   */\n",
       "  function handleAddOutput(event, handle) {\n",
       "    var output_area = handle.output_area;\n",
       "    var output = handle.output;\n",
       "\n",
       "    // limit handleAddOutput to display_data with EXEC_MIME_TYPE content only\n",
       "    if ((output.output_type != \"display_data\") || (!output.data.hasOwnProperty(EXEC_MIME_TYPE))) {\n",
       "      return\n",
       "    }\n",
       "\n",
       "    var toinsert = output_area.element.find(\".\" + CLASS_NAME.split(' ')[0]);\n",
       "\n",
       "    if (output.metadata[EXEC_MIME_TYPE][\"id\"] !== undefined) {\n",
       "      toinsert[toinsert.length - 1].firstChild.textContent = output.data[JS_MIME_TYPE];\n",
       "      // store reference to embed id on output_area\n",
       "      output_area._bokeh_element_id = output.metadata[EXEC_MIME_TYPE][\"id\"];\n",
       "    }\n",
       "    if (output.metadata[EXEC_MIME_TYPE][\"server_id\"] !== undefined) {\n",
       "      var bk_div = document.createElement(\"div\");\n",
       "      bk_div.innerHTML = output.data[HTML_MIME_TYPE];\n",
       "      var script_attrs = bk_div.children[0].attributes;\n",
       "      for (var i = 0; i < script_attrs.length; i++) {\n",
       "        toinsert[toinsert.length - 1].firstChild.setAttribute(script_attrs[i].name, script_attrs[i].value);\n",
       "      }\n",
       "      // store reference to server id on output_area\n",
       "      output_area._bokeh_server_id = output.metadata[EXEC_MIME_TYPE][\"server_id\"];\n",
       "    }\n",
       "  }\n",
       "\n",
       "  function register_renderer(events, OutputArea) {\n",
       "\n",
       "    function append_mime(data, metadata, element) {\n",
       "      // create a DOM node to render to\n",
       "      var toinsert = this.create_output_subarea(\n",
       "        metadata,\n",
       "        CLASS_NAME,\n",
       "        EXEC_MIME_TYPE\n",
       "      );\n",
       "      this.keyboard_manager.register_events(toinsert);\n",
       "      // Render to node\n",
       "      var props = {data: data, metadata: metadata[EXEC_MIME_TYPE]};\n",
       "      render(props, toinsert[toinsert.length - 1]);\n",
       "      element.append(toinsert);\n",
       "      return toinsert\n",
       "    }\n",
       "\n",
       "    /* Handle when an output is cleared or removed */\n",
       "    events.on('clear_output.CodeCell', handleClearOutput);\n",
       "    events.on('delete.Cell', handleClearOutput);\n",
       "\n",
       "    /* Handle when a new output is added */\n",
       "    events.on('output_added.OutputArea', handleAddOutput);\n",
       "\n",
       "    /**\n",
       "     * Register the mime type and append_mime function with output_area\n",
       "     */\n",
       "    OutputArea.prototype.register_mime_type(EXEC_MIME_TYPE, append_mime, {\n",
       "      /* Is output safe? */\n",
       "      safe: true,\n",
       "      /* Index of renderer in `output_area.display_order` */\n",
       "      index: 0\n",
       "    });\n",
       "  }\n",
       "\n",
       "  // register the mime type if in Jupyter Notebook environment and previously unregistered\n",
       "  if (root.Jupyter !== undefined) {\n",
       "    var events = require('base/js/events');\n",
       "    var OutputArea = require('notebook/js/outputarea').OutputArea;\n",
       "\n",
       "    if (OutputArea.prototype.mime_types().indexOf(EXEC_MIME_TYPE) == -1) {\n",
       "      register_renderer(events, OutputArea);\n",
       "    }\n",
       "  }\n",
       "\n",
       "  \n",
       "  if (typeof (root._bokeh_timeout) === \"undefined\" || force === true) {\n",
       "    root._bokeh_timeout = Date.now() + 5000;\n",
       "    root._bokeh_failed_load = false;\n",
       "  }\n",
       "\n",
       "  var NB_LOAD_WARNING = {'data': {'text/html':\n",
       "     \"<div style='background-color: #fdd'>\\n\"+\n",
       "     \"<p>\\n\"+\n",
       "     \"BokehJS does not appear to have successfully loaded. If loading BokehJS from CDN, this \\n\"+\n",
       "     \"may be due to a slow or bad network connection. Possible fixes:\\n\"+\n",
       "     \"</p>\\n\"+\n",
       "     \"<ul>\\n\"+\n",
       "     \"<li>re-rerun `output_notebook()` to attempt to load from CDN again, or</li>\\n\"+\n",
       "     \"<li>use INLINE resources instead, as so:</li>\\n\"+\n",
       "     \"</ul>\\n\"+\n",
       "     \"<code>\\n\"+\n",
       "     \"from bokeh.resources import INLINE\\n\"+\n",
       "     \"output_notebook(resources=INLINE)\\n\"+\n",
       "     \"</code>\\n\"+\n",
       "     \"</div>\"}};\n",
       "\n",
       "  function display_loaded() {\n",
       "    var el = document.getElementById(\"1031\");\n",
       "    if (el != null) {\n",
       "      el.textContent = \"BokehJS is loading...\";\n",
       "    }\n",
       "    if (root.Bokeh !== undefined) {\n",
       "      if (el != null) {\n",
       "        el.textContent = \"BokehJS \" + root.Bokeh.version + \" successfully loaded.\";\n",
       "      }\n",
       "    } else if (Date.now() < root._bokeh_timeout) {\n",
       "      setTimeout(display_loaded, 100)\n",
       "    }\n",
       "  }\n",
       "\n",
       "\n",
       "  function run_callbacks() {\n",
       "    try {\n",
       "      root._bokeh_onload_callbacks.forEach(function(callback) {\n",
       "        if (callback != null)\n",
       "          callback();\n",
       "      });\n",
       "    } finally {\n",
       "      delete root._bokeh_onload_callbacks\n",
       "    }\n",
       "    console.debug(\"Bokeh: all callbacks have finished\");\n",
       "  }\n",
       "\n",
       "  function load_libs(css_urls, js_urls, callback) {\n",
       "    if (css_urls == null) css_urls = [];\n",
       "    if (js_urls == null) js_urls = [];\n",
       "\n",
       "    root._bokeh_onload_callbacks.push(callback);\n",
       "    if (root._bokeh_is_loading > 0) {\n",
       "      console.debug(\"Bokeh: BokehJS is being loaded, scheduling callback at\", now());\n",
       "      return null;\n",
       "    }\n",
       "    if (js_urls == null || js_urls.length === 0) {\n",
       "      run_callbacks();\n",
       "      return null;\n",
       "    }\n",
       "    console.debug(\"Bokeh: BokehJS not loaded, scheduling load and callback at\", now());\n",
       "    root._bokeh_is_loading = css_urls.length + js_urls.length;\n",
       "\n",
       "    function on_load() {\n",
       "      root._bokeh_is_loading--;\n",
       "      if (root._bokeh_is_loading === 0) {\n",
       "        console.debug(\"Bokeh: all BokehJS libraries/stylesheets loaded\");\n",
       "        run_callbacks()\n",
       "      }\n",
       "    }\n",
       "\n",
       "    function on_error() {\n",
       "      console.error(\"failed to load \" + url);\n",
       "    }\n",
       "\n",
       "    for (var i = 0; i < css_urls.length; i++) {\n",
       "      var url = css_urls[i];\n",
       "      const element = document.createElement(\"link\");\n",
       "      element.onload = on_load;\n",
       "      element.onerror = on_error;\n",
       "      element.rel = \"stylesheet\";\n",
       "      element.type = \"text/css\";\n",
       "      element.href = url;\n",
       "      console.debug(\"Bokeh: injecting link tag for BokehJS stylesheet: \", url);\n",
       "      document.body.appendChild(element);\n",
       "    }\n",
       "\n",
       "    for (var i = 0; i < js_urls.length; i++) {\n",
       "      var url = js_urls[i];\n",
       "      var element = document.createElement('script');\n",
       "      element.onload = on_load;\n",
       "      element.onerror = on_error;\n",
       "      element.async = false;\n",
       "      element.src = url;\n",
       "      console.debug(\"Bokeh: injecting script tag for BokehJS library: \", url);\n",
       "      document.head.appendChild(element);\n",
       "    }\n",
       "  };var element = document.getElementById(\"1031\");\n",
       "  if (element == null) {\n",
       "    console.error(\"Bokeh: ERROR: autoload.js configured with elementid '1031' but no matching script tag was found. \")\n",
       "    return false;\n",
       "  }\n",
       "\n",
       "  function inject_raw_css(css) {\n",
       "    const element = document.createElement(\"style\");\n",
       "    element.appendChild(document.createTextNode(css));\n",
       "    document.body.appendChild(element);\n",
       "  }\n",
       "\n",
       "  var js_urls = [\"https://cdn.pydata.org/bokeh/release/bokeh-1.3.4.min.js\", \"https://cdn.pydata.org/bokeh/release/bokeh-widgets-1.3.4.min.js\", \"https://cdn.pydata.org/bokeh/release/bokeh-tables-1.3.4.min.js\", \"https://cdn.pydata.org/bokeh/release/bokeh-gl-1.3.4.min.js\"];\n",
       "  var css_urls = [];\n",
       "\n",
       "  var inline_js = [\n",
       "    function(Bokeh) {\n",
       "      Bokeh.set_log_level(\"info\");\n",
       "    },\n",
       "    \n",
       "    function(Bokeh) {\n",
       "      \n",
       "    },\n",
       "    function(Bokeh) {} // ensure no trailing comma for IE\n",
       "  ];\n",
       "\n",
       "  function run_inline_js() {\n",
       "    \n",
       "    if ((root.Bokeh !== undefined) || (force === true)) {\n",
       "      for (var i = 0; i < inline_js.length; i++) {\n",
       "        inline_js[i].call(root, root.Bokeh);\n",
       "      }if (force === true) {\n",
       "        display_loaded();\n",
       "      }} else if (Date.now() < root._bokeh_timeout) {\n",
       "      setTimeout(run_inline_js, 100);\n",
       "    } else if (!root._bokeh_failed_load) {\n",
       "      console.log(\"Bokeh: BokehJS failed to load within specified timeout.\");\n",
       "      root._bokeh_failed_load = true;\n",
       "    } else if (force !== true) {\n",
       "      var cell = $(document.getElementById(\"1031\")).parents('.cell').data().cell;\n",
       "      cell.output_area.append_execute_result(NB_LOAD_WARNING)\n",
       "    }\n",
       "\n",
       "  }\n",
       "\n",
       "  if (root._bokeh_is_loading === 0) {\n",
       "    console.debug(\"Bokeh: BokehJS loaded, going straight to plotting\");\n",
       "    run_inline_js();\n",
       "  } else {\n",
       "    load_libs(css_urls, js_urls, function() {\n",
       "      console.debug(\"Bokeh: BokehJS plotting callback run at\", now());\n",
       "      run_inline_js();\n",
       "    });\n",
       "  }\n",
       "}(window));"
      ],
      "application/vnd.bokehjs_load.v0+json": "\n(function(root) {\n  function now() {\n    return new Date();\n  }\n\n  var force = true;\n\n  if (typeof root._bokeh_onload_callbacks === \"undefined\" || force === true) {\n    root._bokeh_onload_callbacks = [];\n    root._bokeh_is_loading = undefined;\n  }\n\n  \n\n  \n  if (typeof (root._bokeh_timeout) === \"undefined\" || force === true) {\n    root._bokeh_timeout = Date.now() + 5000;\n    root._bokeh_failed_load = false;\n  }\n\n  var NB_LOAD_WARNING = {'data': {'text/html':\n     \"<div style='background-color: #fdd'>\\n\"+\n     \"<p>\\n\"+\n     \"BokehJS does not appear to have successfully loaded. If loading BokehJS from CDN, this \\n\"+\n     \"may be due to a slow or bad network connection. Possible fixes:\\n\"+\n     \"</p>\\n\"+\n     \"<ul>\\n\"+\n     \"<li>re-rerun `output_notebook()` to attempt to load from CDN again, or</li>\\n\"+\n     \"<li>use INLINE resources instead, as so:</li>\\n\"+\n     \"</ul>\\n\"+\n     \"<code>\\n\"+\n     \"from bokeh.resources import INLINE\\n\"+\n     \"output_notebook(resources=INLINE)\\n\"+\n     \"</code>\\n\"+\n     \"</div>\"}};\n\n  function display_loaded() {\n    var el = document.getElementById(\"1031\");\n    if (el != null) {\n      el.textContent = \"BokehJS is loading...\";\n    }\n    if (root.Bokeh !== undefined) {\n      if (el != null) {\n        el.textContent = \"BokehJS \" + root.Bokeh.version + \" successfully loaded.\";\n      }\n    } else if (Date.now() < root._bokeh_timeout) {\n      setTimeout(display_loaded, 100)\n    }\n  }\n\n\n  function run_callbacks() {\n    try {\n      root._bokeh_onload_callbacks.forEach(function(callback) {\n        if (callback != null)\n          callback();\n      });\n    } finally {\n      delete root._bokeh_onload_callbacks\n    }\n    console.debug(\"Bokeh: all callbacks have finished\");\n  }\n\n  function load_libs(css_urls, js_urls, callback) {\n    if (css_urls == null) css_urls = [];\n    if (js_urls == null) js_urls = [];\n\n    root._bokeh_onload_callbacks.push(callback);\n    if (root._bokeh_is_loading > 0) {\n      console.debug(\"Bokeh: BokehJS is being loaded, scheduling callback at\", now());\n      return null;\n    }\n    if (js_urls == null || js_urls.length === 0) {\n      run_callbacks();\n      return null;\n    }\n    console.debug(\"Bokeh: BokehJS not loaded, scheduling load and callback at\", now());\n    root._bokeh_is_loading = css_urls.length + js_urls.length;\n\n    function on_load() {\n      root._bokeh_is_loading--;\n      if (root._bokeh_is_loading === 0) {\n        console.debug(\"Bokeh: all BokehJS libraries/stylesheets loaded\");\n        run_callbacks()\n      }\n    }\n\n    function on_error() {\n      console.error(\"failed to load \" + url);\n    }\n\n    for (var i = 0; i < css_urls.length; i++) {\n      var url = css_urls[i];\n      const element = document.createElement(\"link\");\n      element.onload = on_load;\n      element.onerror = on_error;\n      element.rel = \"stylesheet\";\n      element.type = \"text/css\";\n      element.href = url;\n      console.debug(\"Bokeh: injecting link tag for BokehJS stylesheet: \", url);\n      document.body.appendChild(element);\n    }\n\n    for (var i = 0; i < js_urls.length; i++) {\n      var url = js_urls[i];\n      var element = document.createElement('script');\n      element.onload = on_load;\n      element.onerror = on_error;\n      element.async = false;\n      element.src = url;\n      console.debug(\"Bokeh: injecting script tag for BokehJS library: \", url);\n      document.head.appendChild(element);\n    }\n  };var element = document.getElementById(\"1031\");\n  if (element == null) {\n    console.error(\"Bokeh: ERROR: autoload.js configured with elementid '1031' but no matching script tag was found. \")\n    return false;\n  }\n\n  function inject_raw_css(css) {\n    const element = document.createElement(\"style\");\n    element.appendChild(document.createTextNode(css));\n    document.body.appendChild(element);\n  }\n\n  var js_urls = [\"https://cdn.pydata.org/bokeh/release/bokeh-1.3.4.min.js\", \"https://cdn.pydata.org/bokeh/release/bokeh-widgets-1.3.4.min.js\", \"https://cdn.pydata.org/bokeh/release/bokeh-tables-1.3.4.min.js\", \"https://cdn.pydata.org/bokeh/release/bokeh-gl-1.3.4.min.js\"];\n  var css_urls = [];\n\n  var inline_js = [\n    function(Bokeh) {\n      Bokeh.set_log_level(\"info\");\n    },\n    \n    function(Bokeh) {\n      \n    },\n    function(Bokeh) {} // ensure no trailing comma for IE\n  ];\n\n  function run_inline_js() {\n    \n    if ((root.Bokeh !== undefined) || (force === true)) {\n      for (var i = 0; i < inline_js.length; i++) {\n        inline_js[i].call(root, root.Bokeh);\n      }if (force === true) {\n        display_loaded();\n      }} else if (Date.now() < root._bokeh_timeout) {\n      setTimeout(run_inline_js, 100);\n    } else if (!root._bokeh_failed_load) {\n      console.log(\"Bokeh: BokehJS failed to load within specified timeout.\");\n      root._bokeh_failed_load = true;\n    } else if (force !== true) {\n      var cell = $(document.getElementById(\"1031\")).parents('.cell').data().cell;\n      cell.output_area.append_execute_result(NB_LOAD_WARNING)\n    }\n\n  }\n\n  if (root._bokeh_is_loading === 0) {\n    console.debug(\"Bokeh: BokehJS loaded, going straight to plotting\");\n    run_inline_js();\n  } else {\n    load_libs(css_urls, js_urls, function() {\n      console.debug(\"Bokeh: BokehJS plotting callback run at\", now());\n      run_inline_js();\n    });\n  }\n}(window));"
     },
     "metadata": {},
     "output_type": "display_data"
    },
    {
     "data": {
      "text/html": [
       "\n",
       "\n",
       "\n",
       "\n",
       "\n",
       "\n",
       "  <div class=\"bk-root\" id=\"d72e24ae-65f5-4aa9-b2bc-f277ee66e655\" data-root-id=\"1002\"></div>\n"
      ]
     },
     "metadata": {},
     "output_type": "display_data"
    },
    {
     "data": {
      "application/javascript": [
       "(function(root) {\n",
       "  function embed_document(root) {\n",
       "    \n",
       "  var docs_json = {\"cbbdbf87-9ad9-4ff2-8a09-437810d18703\":{\"roots\":{\"references\":[{\"attributes\":{\"background_fill_color\":{\"value\":\"#FF8ADA\"},\"below\":[{\"id\":\"1013\",\"type\":\"LinearAxis\"}],\"center\":[{\"id\":\"1017\",\"type\":\"Grid\"},{\"id\":\"1022\",\"type\":\"Grid\"}],\"left\":[{\"id\":\"1018\",\"type\":\"LinearAxis\"}],\"outline_line_dash_offset\":1,\"plot_height\":800,\"plot_width\":800,\"renderers\":[{\"id\":\"1029\",\"type\":\"GlyphRenderer\"}],\"title\":{\"id\":\"1003\",\"type\":\"Title\"},\"toolbar\":{\"id\":\"1024\",\"type\":\"Toolbar\"},\"x_range\":{\"id\":\"1005\",\"type\":\"DataRange1d\"},\"x_scale\":{\"id\":\"1009\",\"type\":\"LinearScale\"},\"y_range\":{\"id\":\"1007\",\"type\":\"DataRange1d\"},\"y_scale\":{\"id\":\"1011\",\"type\":\"LinearScale\"}},\"id\":\"1002\",\"subtype\":\"Figure\",\"type\":\"Plot\"},{\"attributes\":{\"axis_label\":\"Main Season Place\",\"formatter\":{\"id\":\"1035\",\"type\":\"BasicTickFormatter\"},\"ticker\":{\"id\":\"1014\",\"type\":\"BasicTicker\"}},\"id\":\"1013\",\"type\":\"LinearAxis\"},{\"attributes\":{\"callback\":null,\"tooltips\":\"\\n    <div>\\n        <div>\\n            <img\\n                src=\\\"@imgs\\\" alt=\\\"@imgs\\\" width=\\\"100\\\"\\n                style=\\\" margin: 0px 15px 15px 0px;\\\"\\n                border=\\\"2\\\"\\n            ></img>\\n        </div>\\n        <div>\\n            <span style=\\\"font-size: 17px; font-weight: bold; color:deeppink\\\">@name</span>\\n        </div>\\n        <div style=\\\"width:150px\\\">\\n            <span style=\\\"font-size: 10px; color: deeppink;\\\">Season @season: $x{0}</span><br/>\\n            <span style=\\\"font-size: 10px; color: deeppink;\\\">All Stars @as_season: $y{0}</span><br />\\n        </div>\\n    </div>\\n\"},\"id\":\"1023\",\"type\":\"HoverTool\"},{\"attributes\":{\"callback\":null},\"id\":\"1007\",\"type\":\"DataRange1d\"},{\"attributes\":{},\"id\":\"1011\",\"type\":\"LinearScale\"},{\"attributes\":{\"axis_label\":\"All Stars Place\",\"formatter\":{\"id\":\"1033\",\"type\":\"BasicTickFormatter\"},\"ticker\":{\"id\":\"1019\",\"type\":\"BasicTicker\"}},\"id\":\"1018\",\"type\":\"LinearAxis\"},{\"attributes\":{\"text\":\"Main Season Performance vs. All Stars Performance\"},\"id\":\"1003\",\"type\":\"Title\"},{\"attributes\":{\"active_drag\":\"auto\",\"active_inspect\":\"auto\",\"active_multi\":null,\"active_scroll\":\"auto\",\"active_tap\":\"auto\",\"tools\":[{\"id\":\"1023\",\"type\":\"HoverTool\"}]},\"id\":\"1024\",\"type\":\"Toolbar\"},{\"attributes\":{\"callback\":null,\"data\":{\"as_season\":[\"A1\",\"A1\",\"A1\",\"A1\",\"A1\",\"A1\",\"A1\",\"A1\",\"A1\",\"A1\",\"A1\",\"A2\",\"A2\",\"A2\",\"A2\",\"A2\",\"A2\",\"A2\",\"A2\",\"A2\",\"A2\",\"A3\",\"A3\",\"A3\",\"A3\",\"A3\",\"A3\",\"A3\",\"A3\",\"A3\",\"A3\",\"A3\",\"A4\",\"A4\",\"A4\",\"A4\",\"A4\",\"A4\",\"A4\",\"A4\",\"A4\",\"A4\"],\"imgs\":[\"http://www.nokeynoshade.party/images/mimi-imfurst.jpg\",\"http://www.nokeynoshade.party/images/pandora-boxx.jpg\",\"http://www.nokeynoshade.party/images/tammie-brown.jpg\",\"http://www.nokeynoshade.party/images/manila-luzon.jpg\",\"http://www.nokeynoshade.party/images/latrice-royale.jpg\",\"http://www.nokeynoshade.party/images/alexis-mateo.jpg\",\"http://www.nokeynoshade.party/images/yara-sofia.jpg\",\"http://www.nokeynoshade.party/images/shannel.jpg\",\"http://www.nokeynoshade.party/images/jujubee.jpg\",\"http://www.nokeynoshade.party/images/raven.jpg\",\"http://www.nokeynoshade.party/images/chad-michaels.jpg\",\"http://www.nokeynoshade.party/images/katya.jpg\",\"http://www.nokeynoshade.party/images/detox.jpg\",\"http://www.nokeynoshade.party/images/roxxy-andrews.jpg\",\"http://www.nokeynoshade.party/images/alyssa-edwards.jpg\",\"http://www.nokeynoshade.party/images/alaska-thunderfuck.jpg\",\"http://www.nokeynoshade.party/images/phi-phi-o'hara.png\",\"http://www.nokeynoshade.party/images/ginger-minj.jpg\",\"http://www.nokeynoshade.party/images/adore-delano.jpg\",\"http://www.nokeynoshade.party/images/coco-montrese.jpg\",\"http://www.nokeynoshade.party/images/tatianna.jpg\",\"http://www.nokeynoshade.party/images/trixie-mattel.jpg\",\"http://www.nokeynoshade.party/images/kennedy-davenport.jpg\",\"http://www.nokeynoshade.party/images/shangela-laquifa-wadley.jpg\",\"http://www.nokeynoshade.party/images/shangela-laquifa-wadley.jpg\",\"http://www.nokeynoshade.party/images/morgan-mcmichaels.jpg\",\"http://www.nokeynoshade.party/images/bebe-zahara-benet.jpg\",\"http://www.nokeynoshade.party/images/aja.jpg\",\"http://www.nokeynoshade.party/images/chi-chi-devayne.jpg\",\"http://www.nokeynoshade.party/images/milk.jpg\",\"http://www.nokeynoshade.party/images/thorgy-thor.jpg\",\"http://www.nokeynoshade.party/images/benda-la-creme.jpg\",\"http://www.nokeynoshade.party/images/trinity-taylor.jpg\",\"http://www.nokeynoshade.party/images/jasmine-masters.jpg\",\"http://www.nokeynoshade.party/images/farrah-moan.jpg\",\"http://www.nokeynoshade.party/images/gia-gunn.jpg\",\"http://www.nokeynoshade.party/images/valentina.jpg\",\"http://www.nokeynoshade.party/images/manila-luzon.jpg\",\"http://www.nokeynoshade.party/images/latrice-royale.jpg\",\"http://www.nokeynoshade.party/images/naomi-smalls.jpg\",\"http://www.nokeynoshade.party/images/monique-heart.jpg\",\"http://www.nokeynoshade.party/images/monet_x_change.jpg\"],\"name\":[\"Mimi Imfurst\",\"Pandora Boxx\",\"Tammie Brown\",\"Manila Luzon\",\"Latrice Royale\",\"Alexis Mateo\",\"Yara Sofia\",\"Shannel\",\"Jujubee\",\"Raven\",\"Chad Michaels\",\"Katya Zamolodchikova\",\"Detox Icunt\",\"Roxxy Andrews\",\"Alyssa Edwards\",\"Alaska Thunderfuck 5000\",\"Phi Phi O'Hara\",\"Ginger Minj\",\"Adore Delano\",\"Coco Montrese\",\"Tatianna\",\"Trixie Mattel\",\"Kennedy Davenport\",\"Shangela Laquifa Wadley\",\"Shangela Laquifa Wadley\",\"Morgan McMichaels\",\"Bebe Zahara Benet\",\"Aja\",\"Chi Chi DeVayne\",\"Milk\",\"Thorgy Thor\",\"BenDeLaCreme\",\"Trinity Taylor\",\"Jasmine Masters\",\"Farrah Moan\",\"Gia Gunn\",\"Valentina\",\"Manila Luzon\",\"Latrice Royale\",\"Naomi Smalls\",\"Monique Heart\",\"Monet X Change\"],\"quote\":[\"This time around, I will not pick nobody up, it is time for America to see who I really am.\",\"I'm Pandora Boxx and I'm thirty-bleep years old.\",\"I'm not a slut, I'm a lady. You look under my skirt, and it will stick you in the eye though.\",\"Try something new -- do it with an Indian guy!\",\"Jesus is a biscuit! Let him sop you up!\",\"I don't like when they label you as 'the latin queen'.\",\"\\\"\\\"\",\"I am amazed at myself; In my mind... I've already won.\",\"Jujubee's just this fabulous Asian girl, she's very like poppy and like, fashion-forward. She loves accessories and she likes glitter, 'cause it's wicked sparkly!\",\"I like to be that mysterious, dark, ice queen. I think I have a look that people might be a little intimidated by.\",\"Everything I've gone through in my life has been because of Cher... the people I've gotten to meet, the clothes on my back. I basically owe her everything.\",\"I\\u2019m trying to just serve sexy and confident whore slutty cougar on the prowl. 3rd rate Faith Hill impersonator. 80% sexy, 20% disgusting.\",\"Wow... Holy shit we're here\",\"When life pulls you down, put on a shiny sequence gown\",\"BACKROLLS?!?!\",\"I'll send you 10,000 dollars via PayPal if you let me stay in this competition\",\"You don't need RuPaul to be big. I can say for a fact that people knew who Phi Phi was before I got here. So I don't need RuPaul to say I'm sickening. I know I'm sickening. I don't need her to tell me that.\",\"I'm about to flood my basement.\",\"So Laganja has ideas and I mean I was raised right so all I can do is nervous laugh at them because I don't know how to respond to them. I'm not going to say 'No bitch that's an awful idea and mine is better' but that was the truth of this situation.\",\"I'm not joking bitch!\",\"Cause baby boy what you see, isnt always the truth.\",\"Alright, Public school, calm down.\",\"Love is understanding, unconditional. Love is accepting, and never fails.\",\"Halleloo!\",\"Halleloo!\",\"People think that, since I'm pretty, and I'm sexy, that I should just do slutty all the time.\",\"I bring a lot of international influence, and right now I really feel like I'm ahead of the game.\",\"You\\u2019re perfect, you\\u2019re beautiful, you look like Linda Evangelista, you\\u2019re a model! Everything about you is perfect! Did you stone those tights?\",\"I'm a cheap queen.\",\"Milk does the body good, gurl.\",\"Now take this orange shit of my body!\",\"Excuse me, we originated the language\",\"I have 50 units of botox in my face, I don't know what y'all want from me.\",\"You gotta pop dem corns so the kids can eat!\",\"Someone told me for the first time in my life that I wear too much highlighter!\",\"Just got off the boat, you know, little trip from Asia, just landed like fresh tilapia\",\"I'm glad these girls see me as a threat.\",\"Try something new -- do it with an Indian guy!\",\"Jesus is a biscuit! Let him sop you up!\",\"Check your lipstick before you come for me.\",\"Cat kitty cat cat cat cat. Cat kitty cat cat cat. Bringing you the heart of Season 10, honey. Monique Heart. The face.\",\"Oh, don't mind me. I just came here to sweep up the competition, girl.\"],\"season\":[3,2,1,3,4,3,3,1,2,2,4,7,5,5,5,5,4,7,6,5,2,7,7,2,3,2,1,9,8,6,8,6,9,7,9,6,9,3,4,8,10,10],\"x\":{\"__ndarray__\":\"CwUIAgQDBAQDAgIFBAMGAgMCAgUEBgQMBggBCQQJBgUEDAgKBwIEAwgG\",\"dtype\":\"int8\",\"shape\":[42]},\"y\":{\"__ndarray__\":\"DAsKBwcGBQMDAgECAwQFAQcICQoGAQIEBAUDBwgJCgYBCgkIBwYFBAMB\",\"dtype\":\"int8\",\"shape\":[42]}},\"selected\":{\"id\":\"1038\",\"type\":\"Selection\"},\"selection_policy\":{\"id\":\"1037\",\"type\":\"UnionRenderers\"}},\"id\":\"1001\",\"type\":\"ColumnDataSource\"},{\"attributes\":{},\"id\":\"1009\",\"type\":\"LinearScale\"},{\"attributes\":{},\"id\":\"1035\",\"type\":\"BasicTickFormatter\"},{\"attributes\":{\"callback\":null},\"id\":\"1005\",\"type\":\"DataRange1d\"},{\"attributes\":{\"data_source\":{\"id\":\"1001\",\"type\":\"ColumnDataSource\"},\"glyph\":{\"id\":\"1027\",\"type\":\"Scatter\"},\"hover_glyph\":null,\"muted_glyph\":null,\"nonselection_glyph\":{\"id\":\"1028\",\"type\":\"Scatter\"},\"selection_glyph\":null,\"view\":{\"id\":\"1030\",\"type\":\"CDSView\"}},\"id\":\"1029\",\"type\":\"GlyphRenderer\"},{\"attributes\":{\"dimension\":1,\"ticker\":{\"id\":\"1019\",\"type\":\"BasicTicker\"}},\"id\":\"1022\",\"type\":\"Grid\"},{\"attributes\":{\"fill_alpha\":{\"value\":0.1},\"fill_color\":{\"value\":\"#1f77b4\"},\"line_alpha\":{\"value\":0.1},\"line_color\":{\"value\":\"#1f77b4\"},\"size\":{\"units\":\"screen\",\"value\":15},\"x\":{\"field\":\"x\"},\"y\":{\"field\":\"y\"}},\"id\":\"1028\",\"type\":\"Scatter\"},{\"attributes\":{},\"id\":\"1033\",\"type\":\"BasicTickFormatter\"},{\"attributes\":{},\"id\":\"1014\",\"type\":\"BasicTicker\"},{\"attributes\":{},\"id\":\"1038\",\"type\":\"Selection\"},{\"attributes\":{\"ticker\":{\"id\":\"1014\",\"type\":\"BasicTicker\"}},\"id\":\"1017\",\"type\":\"Grid\"},{\"attributes\":{\"source\":{\"id\":\"1001\",\"type\":\"ColumnDataSource\"}},\"id\":\"1030\",\"type\":\"CDSView\"},{\"attributes\":{},\"id\":\"1037\",\"type\":\"UnionRenderers\"},{\"attributes\":{\"fill_alpha\":{\"value\":0.75},\"fill_color\":{\"value\":\"darkviolet\"},\"line_color\":{\"value\":null},\"size\":{\"units\":\"screen\",\"value\":15},\"x\":{\"field\":\"x\"},\"y\":{\"field\":\"y\"}},\"id\":\"1027\",\"type\":\"Scatter\"},{\"attributes\":{},\"id\":\"1019\",\"type\":\"BasicTicker\"}],\"root_ids\":[\"1002\"]},\"title\":\"Bokeh Application\",\"version\":\"1.3.4\"}};\n",
       "  var render_items = [{\"docid\":\"cbbdbf87-9ad9-4ff2-8a09-437810d18703\",\"roots\":{\"1002\":\"d72e24ae-65f5-4aa9-b2bc-f277ee66e655\"}}];\n",
       "  root.Bokeh.embed.embed_items_notebook(docs_json, render_items);\n",
       "\n",
       "  }\n",
       "  if (root.Bokeh !== undefined) {\n",
       "    embed_document(root);\n",
       "  } else {\n",
       "    var attempts = 0;\n",
       "    var timer = setInterval(function(root) {\n",
       "      if (root.Bokeh !== undefined) {\n",
       "        embed_document(root);\n",
       "        clearInterval(timer);\n",
       "      }\n",
       "      attempts++;\n",
       "      if (attempts > 100) {\n",
       "        console.log(\"Bokeh: ERROR: Unable to run BokehJS code because BokehJS library is missing\");\n",
       "        clearInterval(timer);\n",
       "      }\n",
       "    }, 10, root)\n",
       "  }\n",
       "})(window);"
      ],
      "application/vnd.bokehjs_exec.v0+json": ""
     },
     "metadata": {
      "application/vnd.bokehjs_exec.v0+json": {
       "id": "1002"
      }
     },
     "output_type": "display_data"
    }
   ],
   "source": [
    "df = all_stars_performance_df\n",
    "source = ColumnDataSource(data=dict(\n",
    "    x = df[\"Main Season Place\"].astype('int8'), \n",
    "    y = df[\"All Stars Place\"].astype('int8'),\n",
    "    name=list(df['name']),\n",
    "    imgs=list(df['image_url']),\n",
    "    quote=list(df['quote']),\n",
    "    season=list(df['Main Season Number']),\n",
    "    as_season=list(df['All Stars Season Number'])\n",
    "))\n",
    "\n",
    "p = figure(plot_width=800, plot_height=800, \n",
    "           tooltips=TOOLTIP,\n",
    "           title=\"Main Season Performance vs. All Stars Performance\", \n",
    "           tools = TOOLS, background_fill_color=\"#FF8ADA\", \n",
    "           x_axis_label='Main Season Place', \n",
    "           y_axis_label='All Stars Place',\n",
    "           outline_line_dash_offset=1)\n",
    "\n",
    "p.scatter('x', 'y', fill_color=\"darkviolet\", size=15, fill_alpha=0.75,\n",
    "          line_color=None, source=source)\n",
    "\n",
    "output_notebook()\n",
    "show(p)"
   ]
  },
  {
   "cell_type": "markdown",
   "metadata": {},
   "source": [
    "<h2 style=\"color:deeppink\">Sandbox</h2>\n",
    "<b style=\"color:deeppink\">Use the space below to experiment. Nothing below will be included in the finished product.</b>"
   ]
  },
  {
   "cell_type": "code",
   "execution_count": 17,
   "metadata": {},
   "outputs": [],
   "source": [
    "dependencies = ['pandas', 'sqlite3', 'bokeh', 'matplotlib']"
   ]
  },
  {
   "cell_type": "code",
   "execution_count": null,
   "metadata": {},
   "outputs": [],
   "source": [
    "check_dependency_prompt(dependencies)"
   ]
  },
  {
   "cell_type": "code",
   "execution_count": null,
   "metadata": {},
   "outputs": [],
   "source": [
    "!conda install --yes --prefix {sys.prefix} pandas\n",
    "\n",
    "!conda install --yes --prefix {sys.prefix} sqlite3\n",
    "\n",
    "!conda install --yes --prefix {sys.prefix} matplotlib\n",
    "\n",
    "!conda install --yes --prefix {sys.prefix} bokeh"
   ]
  }
 ],
 "metadata": {
  "kernelspec": {
   "display_name": "Python 3",
   "language": "python",
   "name": "python3"
  },
  "language_info": {
   "codemirror_mode": {
    "name": "ipython",
    "version": 3
   },
   "file_extension": ".py",
   "mimetype": "text/x-python",
   "name": "python",
   "nbconvert_exporter": "python",
   "pygments_lexer": "ipython3",
   "version": "3.7.4"
  }
 },
 "nbformat": 4,
 "nbformat_minor": 4
}
