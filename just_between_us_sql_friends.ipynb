{
 "cells": [
  {
   "cell_type": "markdown",
   "metadata": {
    "slideshow": {
     "slide_type": "-"
    }
   },
   "source": [
    "<center>\n",
    "    <h1 style=\"color:deeppink\">Just between us SQL Friends...</h1>\n",
    "    <h2 style=\"color:deeppink\">RuPaul's Drag Race: Visualized</h2>\n",
    "    <img src=\"media/header.gif\" height=\"100px\">\n",
    "</center>"
   ]
  },
  {
   "cell_type": "markdown",
   "metadata": {},
   "source": [
    "<h2 style=\"color:deeppink\">Import Libraries & Connect SQLite Database</h2>"
   ]
  },
  {
   "cell_type": "code",
   "execution_count": 2,
   "metadata": {},
   "outputs": [],
   "source": [
    "import pandas as pd\n",
    "import sqlite3\n",
    "import matplotlib.pyplot as plt\n",
    "from IPython.display import Image\n",
    "from pandas.io.json import json_normalize\n",
    "\n",
    "\n",
    "drag_race_data_base = sqlite3.connect(\"drag_race_data.db\")"
   ]
  },
  {
   "cell_type": "markdown",
   "metadata": {},
   "source": [
    "<h2 style=\"color:deeppink\">Define Constants, Global Variables, and API endpoints</h2>"
   ]
  },
  {
   "cell_type": "code",
   "execution_count": 3,
   "metadata": {},
   "outputs": [],
   "source": [
    "DRAG_RACE_API_URL = \"http://www.nokeynoshade.party/api/\"\n",
    "\n",
    "#API Endpoints\n",
    "SEASONS = \"seasons\"\n",
    "QUEENS = \"queens/all\"\n",
    "SEASON_BY_NUMBER = \"seasons/{}\"\n",
    "\n",
    "ALL_CHALLENGES = \"challenges\"\n",
    "CHALLENGE_BY_NUMBER = \"challenges/{}\"\n",
    "CHALLENGES_BY_QUEEN_ID = \"queens/{}/challenges\"\n",
    "CHALLENGES_BY_SEASON = \"seasons/{}/challenges\"\n",
    "\n"
   ]
  },
  {
   "cell_type": "markdown",
   "metadata": {},
   "source": [
    "<h2 style=\"color:deeppink\">Define Functions</h2>"
   ]
  },
  {
   "cell_type": "code",
   "execution_count": 4,
   "metadata": {},
   "outputs": [],
   "source": [
    "#some, not all, api endpoints require a season_id number... we'll make that argument optional.\n",
    "def get_data(endpoint, SEASON = None):\n",
    "    df = pd.read_json(DRAG_RACE_API_URL + endpoint.format(SEASON))\n",
    "    return df\n",
    "\n",
    "\n",
    "def get_seasons():\n",
    "    df = pd.DataFrame()\n",
    "    temp_df = pd.DataFrame()\n",
    "    for i in range(len(season_id_df)):\n",
    "        temp_df = get_data(SEASON_BY_NUMBER, i +1)\n",
    "        temp_df = json_normalize(temp_df['queens'])\n",
    "        temp_df['season_id'] = i + 1\n",
    "        df = pd.concat([df, temp_df], sort=False)\n",
    "        i += 1\n",
    "    return df\n",
    "\n",
    "\n",
    "def get_challenges():\n",
    "    df = pd.DataFrame()\n",
    "    temp_df = pd.DataFrame()\n",
    "    for i in range(15):\n",
    "        temp_df = get_data(CHALLENGES_BY_SEASON, i + 1)\n",
    "        temp_df['season_id'] = i + 1\n",
    "        df = pd.concat([df, temp_df], sort=False)\n",
    "        i += 1\n",
    "    return df\n",
    "\n",
    "\n",
    "def get_image_urls(data_set):\n",
    "    images = []\n",
    "    for i in range(len(data_set['image_url'])):\n",
    "        images.append(Image(url = data_set['image_url'][i], width = 50))\n",
    "        i += 1\n",
    "    return images\n",
    "\n",
    "# various helper functions... these may come in handy down the road\n",
    "\n",
    "def display_images(images):\n",
    "    for image in images:\n",
    "        display(image)\n",
    "        \n",
    "def csv_export(df, file_name):\n",
    "    df.to_csv(file_name, index=True)\n",
    "    \n",
    "def xls_export(df, file_name, sheet_name):\n",
    "    df.to_excel(file_name, sheet_name=sheet_name)\n",
    "    \n",
    "    \n",
    "# This could come in handy for a nice clean excel export once everything is said and done.\n",
    "# df2 = df1.copy()\n",
    "# with pd.ExcelWriter('output.xlsx') as writer:  \n",
    "# df1.to_excel(writer, sheet_name='Sheet_name_1')\n",
    "# df2.to_excel(writer, sheet_name='Sheet_name_2')\n",
    "\n",
    "# df.to_excel(\"output.xlsx\", sheet_name='Sheet_name_1')  "
   ]
  },
  {
   "cell_type": "markdown",
   "metadata": {},
   "source": [
    "<h2 style=\"color:deeppink\">Define SQL Queries</h2>"
   ]
  },
  {
   "cell_type": "code",
   "execution_count": 97,
   "metadata": {},
   "outputs": [],
   "source": [
    "SELECT_QUEENS = \"\"\"\n",
    "    SELECT queens.id, name, season_number, place, winner, missCongeniality AS miss_congeniality, image_url, quote FROM seasons\n",
    "    INNER JOIN season_ids ON seasons.season_id = season_ids.season_id\n",
    "    INNER JOIN queens ON seasons.id = queens.id\n",
    "\"\"\"\n",
    "\n",
    "all_queens_query = SELECT_QUEENS + \"\"\"\n",
    "    ORDER BY season_number, place DESC\n",
    "\"\"\"\n",
    "\n",
    "\n",
    "all_stars_query = SELECT_QUEENS + \"\"\"\n",
    "    WHERE season_number LIKE \"%A%\"\n",
    "    ORDER BY season_number, place DESC\n",
    "\"\"\"\n",
    "\n",
    "\n",
    "main_seasons_query = SELECT_QUEENS + \"\"\"\n",
    "    WHERE season_number NOT LIKE \"A%\" \n",
    "    ORDER BY season_number, place DESC\n",
    "\"\"\"\n",
    "\n",
    "\n",
    "main_season_winners_query = SELECT_QUEENS + \"\"\"\n",
    "    WHERE winner IS True AND season_number NOT LIKE \"A%\" AND place = 1\n",
    "\"\"\"\n",
    "\n",
    "\n",
    "all_stars_winners_query = SELECT_QUEENS + \"\"\"\n",
    "    WHERE season_number LIKE \"A%\" AND place = 1\n",
    "\"\"\"\n",
    "\n",
    "\n",
    "miss_congeniality_query = SELECT_QUEENS + \"\"\"\n",
    "    WHERE missCongeniality IS True\n",
    "    ORDER BY season_id\"\"\"\n",
    "\n",
    "main_challenge_wins_query = \"\"\"\n",
    "    SELECT name, count(won) AS wins\n",
    "    FROM challenges\n",
    "    WHERE won IS True\n",
    "    GROUP BY name\n",
    "    ORDER BY wins DESC\n",
    "    LIMIT 10\n",
    "\"\"\"\n",
    "\n",
    "all_stars_performance_query = \"\"\"\n",
    "    SELECT main_seasons_queens.id, \n",
    "            main_seasons_queens.name, \n",
    "            main_seasons_queens.season_number AS \"Main Season Number\", \n",
    "            main_seasons_queens.place AS \"Main Season Place\", \n",
    "            all_stars_queens.season_number AS \"All Stars Season Number\",\n",
    "            all_stars_queens.place AS \"All Stars Place\",\n",
    "            main_seasons_queens.image_url,\n",
    "            main_seasons_queens.quote\n",
    "    FROM main_seasons_queens\n",
    "    INNER JOIN all_stars_queens ON main_seasons_queens.id = all_stars_queens.id\n",
    "\"\"\""
   ]
  },
  {
   "cell_type": "markdown",
   "metadata": {},
   "source": [
    "<h2 style=\"color:deeppink\">Define values used for cleanup</h2>"
   ]
  },
  {
   "cell_type": "code",
   "execution_count": 98,
   "metadata": {},
   "outputs": [],
   "source": [
    "queens_drop_cols = ['queens', 'name']"
   ]
  },
  {
   "cell_type": "markdown",
   "metadata": {},
   "source": [
    "<h2 style=\"color:deeppink\">Create raw dataframes from API endpoints</h2>"
   ]
  },
  {
   "cell_type": "code",
   "execution_count": 99,
   "metadata": {},
   "outputs": [],
   "source": [
    "raw_seasons_df = get_data(SEASONS)\n",
    "raw_queens_df = get_data(QUEENS)\n",
    "\n",
    "# create season_id_df to look up season numbers by id\n",
    "season_id_df = pd.DataFrame({\"season_id\": raw_seasons_df['id'], \"season_number\": raw_seasons_df['seasonNumber']})"
   ]
  },
  {
   "cell_type": "markdown",
   "metadata": {},
   "source": [
    "<h2 style=\"color:deeppink\">Clean and organize the data</h2>"
   ]
  },
  {
   "cell_type": "code",
   "execution_count": null,
   "metadata": {},
   "outputs": [],
   "source": []
  },
  {
   "cell_type": "markdown",
   "metadata": {},
   "source": [
    "<h2 style=\"color:deeppink\">Create SQL Tables</h2>"
   ]
  },
  {
   "cell_type": "code",
   "execution_count": 100,
   "metadata": {},
   "outputs": [],
   "source": [
    "# queens table\n",
    "raw_queens_df.to_sql('queens', drag_race_data_base, if_exists='replace')\n",
    "\n",
    "# seasons table\n",
    "seasons_df = get_seasons().set_index('id').drop(queens_drop_cols, axis=1)\n",
    "seasons_df.to_sql('seasons', drag_race_data_base, if_exists = 'replace')\n",
    "\n",
    "# season_ids table\n",
    "season_id_df.to_sql('season_ids', drag_race_data_base, if_exists='replace')\n",
    "\n",
    "#challenges table\n",
    "main_challenges = get_challenges()[get_challenges().type.eq('main')]\n",
    "json_normalize(main_challenges['queens'].explode()).to_sql('challenges', drag_race_data_base, if_exists=\"replace\")"
   ]
  },
  {
   "cell_type": "markdown",
   "metadata": {},
   "source": [
    "<h2 style=\"color:deeppink\">Create DataFrames from the SQL Tables</h2>"
   ]
  },
  {
   "cell_type": "code",
   "execution_count": 101,
   "metadata": {},
   "outputs": [],
   "source": [
    "#FIX THE SORTING FOR main_seasons... needs to be sorted by season ascending, then place descending. \n",
    "# the dtype change is what is causing the trouble\n",
    "\n",
    "#all queens, ranked\n",
    "main_seasons_df = pd.read_sql(main_seasons_query, drag_race_data_base).astype({'season_number':'int32'}).sort_values(by=['season_number']).set_index('id')\n",
    "all_stars_df = pd.read_sql(all_stars_query, drag_race_data_base).sort_values(by=['season_number'])\n",
    "\n",
    "#winners\n",
    "main_season_winners_df = pd.read_sql(main_season_winners_query, drag_race_data_base).astype({'season_number':'int32'}).sort_values(by=['season_number'])\n",
    "all_stars_winners_df = pd.read_sql(all_stars_winners_query, drag_race_data_base).sort_values(by=['season_number'])\n",
    "#for some reason, Trinity and Monet X Change are not marked as AS 4 winners... The shade...\n",
    "all_stars_winners_df['winner'] = 1\n",
    "\n",
    "#most main challenge wins\n",
    "top_ten_main_challenge_wins_df = pd.read_sql(main_challenge_wins_query, drag_race_data_base)\n",
    "\n",
    "\n",
    "#queens performance in all stars as related to their main season performance\n",
    "all_stars_performance_df = pd.read_sql(all_stars_performance_query, drag_race_data_base)\n",
    "\n"
   ]
  },
  {
   "cell_type": "markdown",
   "metadata": {},
   "source": [
    "<h2 style=\"color:deeppink\">Create more specific SQL Tables</h2>"
   ]
  },
  {
   "cell_type": "code",
   "execution_count": 102,
   "metadata": {},
   "outputs": [],
   "source": [
    "# all_stars_winners_df.to_sql('all_stars_winners', drag_race_data_base, if_exists='replace')\n",
    "main_seasons_df.to_sql('main_seasons_queens', drag_race_data_base, if_exists='replace')\n",
    "all_stars_df.to_sql('all_stars_queens', drag_race_data_base, if_exists='replace')"
   ]
  },
  {
   "cell_type": "markdown",
   "metadata": {},
   "source": [
    "<h2 style=\"color:deeppink\">Bring back my girls...</h2>"
   ]
  },
  {
   "cell_type": "markdown",
   "metadata": {},
   "source": [
    "<b style=\"color:deeppink\">Display photos of Main Season winners</b>"
   ]
  },
  {
   "cell_type": "code",
   "execution_count": 105,
   "metadata": {},
   "outputs": [
    {
     "data": {
      "text/html": [
       "<img src=\"http://www.nokeynoshade.party/images/bebe-zahara-benet.jpg\" width=\"50\"/>"
      ],
      "text/plain": [
       "<IPython.core.display.Image object>"
      ]
     },
     "metadata": {},
     "output_type": "display_data"
    },
    {
     "data": {
      "text/html": [
       "<img src=\"http://www.nokeynoshade.party/images/tyra-sanchez.jpg\" width=\"50\"/>"
      ],
      "text/plain": [
       "<IPython.core.display.Image object>"
      ]
     },
     "metadata": {},
     "output_type": "display_data"
    },
    {
     "data": {
      "text/html": [
       "<img src=\"http://www.nokeynoshade.party/images/raja.jpg\" width=\"50\"/>"
      ],
      "text/plain": [
       "<IPython.core.display.Image object>"
      ]
     },
     "metadata": {},
     "output_type": "display_data"
    },
    {
     "data": {
      "text/html": [
       "<img src=\"http://www.nokeynoshade.party/images/sharon-needles.jpg\" width=\"50\"/>"
      ],
      "text/plain": [
       "<IPython.core.display.Image object>"
      ]
     },
     "metadata": {},
     "output_type": "display_data"
    },
    {
     "data": {
      "text/html": [
       "<img src=\"http://www.nokeynoshade.party/images/jinkx-monsoon.jpg\" width=\"50\"/>"
      ],
      "text/plain": [
       "<IPython.core.display.Image object>"
      ]
     },
     "metadata": {},
     "output_type": "display_data"
    },
    {
     "data": {
      "text/html": [
       "<img src=\"http://www.nokeynoshade.party/images/bianca-del-rio.jpg\" width=\"50\"/>"
      ],
      "text/plain": [
       "<IPython.core.display.Image object>"
      ]
     },
     "metadata": {},
     "output_type": "display_data"
    },
    {
     "data": {
      "text/html": [
       "<img src=\"http://www.nokeynoshade.party/images/violet-chachki.jpg\" width=\"50\"/>"
      ],
      "text/plain": [
       "<IPython.core.display.Image object>"
      ]
     },
     "metadata": {},
     "output_type": "display_data"
    },
    {
     "data": {
      "text/html": [
       "<img src=\"http://www.nokeynoshade.party/images/bob-the-drag-queen.jpg\" width=\"50\"/>"
      ],
      "text/plain": [
       "<IPython.core.display.Image object>"
      ]
     },
     "metadata": {},
     "output_type": "display_data"
    },
    {
     "data": {
      "text/html": [
       "<img src=\"http://www.nokeynoshade.party/images/sasha-velour.jpg\" width=\"50\"/>"
      ],
      "text/plain": [
       "<IPython.core.display.Image object>"
      ]
     },
     "metadata": {},
     "output_type": "display_data"
    },
    {
     "data": {
      "text/html": [
       "<img src=\"http://www.nokeynoshade.party/images/aquaria.jpg\" width=\"50\"/>"
      ],
      "text/plain": [
       "<IPython.core.display.Image object>"
      ]
     },
     "metadata": {},
     "output_type": "display_data"
    },
    {
     "data": {
      "text/html": [
       "<img src=\"https://www.nokeynoshade.party/images/yvie-oddly.jpg\" width=\"50\"/>"
      ],
      "text/plain": [
       "<IPython.core.display.Image object>"
      ]
     },
     "metadata": {},
     "output_type": "display_data"
    }
   ],
   "source": [
    "#TO DO: I'd like to show all of the images, but can this be done inline? Research says subplots may be a good answer\n",
    "display_images(get_image_urls(main_season_winners_df))"
   ]
  },
  {
   "cell_type": "markdown",
   "metadata": {},
   "source": [
    "<h2 style=\"color:deeppink\">Bring back my All Stars...</h2>\n",
    "<b style=\"color:deeppink\">Display photos of All Stars season winners</b>"
   ]
  },
  {
   "cell_type": "code",
   "execution_count": 106,
   "metadata": {},
   "outputs": [
    {
     "data": {
      "text/html": [
       "<img src=\"http://www.nokeynoshade.party/images/chad-michaels.jpg\" width=\"50\"/>"
      ],
      "text/plain": [
       "<IPython.core.display.Image object>"
      ]
     },
     "metadata": {},
     "output_type": "display_data"
    },
    {
     "data": {
      "text/html": [
       "<img src=\"http://www.nokeynoshade.party/images/alaska-thunderfuck.jpg\" width=\"50\"/>"
      ],
      "text/plain": [
       "<IPython.core.display.Image object>"
      ]
     },
     "metadata": {},
     "output_type": "display_data"
    },
    {
     "data": {
      "text/html": [
       "<img src=\"http://www.nokeynoshade.party/images/trixie-mattel.jpg\" width=\"50\"/>"
      ],
      "text/plain": [
       "<IPython.core.display.Image object>"
      ]
     },
     "metadata": {},
     "output_type": "display_data"
    },
    {
     "data": {
      "text/html": [
       "<img src=\"http://www.nokeynoshade.party/images/trinity-taylor.jpg\" width=\"50\"/>"
      ],
      "text/plain": [
       "<IPython.core.display.Image object>"
      ]
     },
     "metadata": {},
     "output_type": "display_data"
    },
    {
     "data": {
      "text/html": [
       "<img src=\"http://www.nokeynoshade.party/images/monet_x_change.jpg\" width=\"50\"/>"
      ],
      "text/plain": [
       "<IPython.core.display.Image object>"
      ]
     },
     "metadata": {},
     "output_type": "display_data"
    }
   ],
   "source": [
    "#TO DO: I'd like to show all of the images, but can this be done inline? Research says subplots may be a good answer\n",
    "display_images(get_image_urls(all_stars_winners_df))"
   ]
  },
  {
   "cell_type": "markdown",
   "metadata": {},
   "source": [
    "<h2 style=\"color:deeppink\">The Winners' Circle</h2>\n",
    "<b style=\"color:deeppink\">Show the number of Main Challenge Wins for the Top 10 Queens </b>"
   ]
  },
  {
   "cell_type": "code",
   "execution_count": 107,
   "metadata": {},
   "outputs": [
    {
     "data": {
      "text/plain": [
       "<matplotlib.axes._subplots.AxesSubplot at 0x121fe3590>"
      ]
     },
     "execution_count": 107,
     "metadata": {},
     "output_type": "execute_result"
    },
    {
     "data": {
      "image/png": "[encoded data removed]",
      "text/plain": [
       "<Figure size 2160x720 with 1 Axes>"
      ]
     },
     "metadata": {
      "needs_background": "light"
     },
     "output_type": "display_data"
    }
   ],
   "source": [
    "top_ten_main_challenge_wins_df.plot.bar(x=\"name\", y=\"wins\", color=\"deeppink\", figsize=(30, 10), title=\"Most Main Challenge Wins\")"
   ]
  },
  {
   "cell_type": "markdown",
   "metadata": {},
   "source": [
    "<h2 style=\"color:deeppink\">How'd they do?</h2>\n",
    "<b style=\"color:deeppink\">Use a scatter plot to show the relationship between a queen's place in their Main Season and their place in All Stars</b>"
   ]
  },
  {
   "cell_type": "code",
   "execution_count": 108,
   "metadata": {},
   "outputs": [
    {
     "data": {
      "text/plain": [
       "<matplotlib.axes._subplots.AxesSubplot at 0x11ddd6f50>"
      ]
     },
     "execution_count": 108,
     "metadata": {},
     "output_type": "execute_result"
    },
    {
     "data": {
      "image/png": "[encoded data removed]",
      "text/plain": [
       "<Figure size 720x720 with 1 Axes>"
      ]
     },
     "metadata": {
      "needs_background": "light"
     },
     "output_type": "display_data"
    }
   ],
   "source": [
    "#TO DO: Minimum, i'd like to color code the data points by All Stars Season,\n",
    "#   but would it be possible to make this interactive, to select specific Main/All Stars Seasons to display?\n",
    "\n",
    "all_stars_performance_df.plot.scatter(x = \"Main Season Place\", y = \"All Stars Place\", c = \"deeppink\", figsize=(10, 10), title=\"Main Season vs. All Stars Performance\")\n"
   ]
  },
  {
   "cell_type": "markdown",
   "metadata": {},
   "source": [
    "<h2 style=\"color:deeppink\">Sandbox</h2>\n",
    "<b style=\"color:deeppink\">Use the space below to experiment. Nothing below will be included in the finished product.</b>"
   ]
  },
  {
   "cell_type": "code",
   "execution_count": 122,
   "metadata": {},
   "outputs": [],
   "source": [
    "from bokeh.plotting import ColumnDataSource, figure, output_file, show\n",
    "\n",
    "output_file(\"all_stars_performance_scatterplot.html\")\n",
    "\n",
    "source = ColumnDataSource(data=dict(\n",
    "    x = all_stars_performance_df[\"Main Season Place\"], \n",
    "    y = all_stars_performance_df[\"All Stars Place\"],\n",
    "    name=list(all_stars_performance_df['name']),\n",
    "    imgs=list(all_stars_performance_df['image_url']),\n",
    "    quote=list(all_stars_performance_df['quote'])\n",
    "))\n",
    "\n",
    "# colormap = {'A1': 'deeppink', 'A2': 'lavender', 'A3': 'pink', 'A4': 'lightblue'}\n",
    "# colors = [colormap[x] for x in all_stars_performance_df['All Stars Season Number']]\n",
    "\n",
    "TOOLTIPS = \"\"\"\n",
    "    <div>\n",
    "        <div>\n",
    "            <img\n",
    "                src=\"@imgs\" alt=\"@imgs\" width=\"100\"\n",
    "                style=\" margin: 0px 15px 15px 0px;\"\n",
    "                border=\"2\"\n",
    "            ></img>\n",
    "        </div>\n",
    "        <div>\n",
    "            <span style=\"font-size: 17px; font-weight: bold; color:deeppink\">@name</span>\n",
    "        </div>\n",
    "        <div style=\"width:100px\">\n",
    "            <span style=\"font-size: 10px; color: deeppink;\">Main Season: $x{0}</span><br/>\n",
    "            <span style=\"font-size: 10px; color: deeppink;\">All Stars: $y{0}</span><br />\n",
    "        </div>\n",
    "    </div>\n",
    "\"\"\"\n",
    "\n",
    "TOOLS = []\n",
    "\n",
    "p = figure(plot_width=800, plot_height=800, tooltips=TOOLTIPS,\n",
    "           title=\"Main Season Performance vs. All Stars Performance\", tools = TOOLS, background_fill_color=\"hotpink\")\n",
    "\n",
    "p.scatter('x', 'y', fill_color=\"darkviolet\", size=20, fill_alpha=0.5,\n",
    "          line_color=None, source=source)\n",
    "\n",
    "show(p)"
   ]
  },
  {
   "cell_type": "code",
   "execution_count": 119,
   "metadata": {
    "collapsed": true,
    "jupyter": {
     "outputs_hidden": true
    }
   },
   "outputs": [
    {
     "data": {
      "text/html": [
       "<div>\n",
       "<style scoped>\n",
       "    .dataframe tbody tr th:only-of-type {\n",
       "        vertical-align: middle;\n",
       "    }\n",
       "\n",
       "    .dataframe tbody tr th {\n",
       "        vertical-align: top;\n",
       "    }\n",
       "\n",
       "    .dataframe thead th {\n",
       "        text-align: right;\n",
       "    }\n",
       "</style>\n",
       "<table border=\"1\" class=\"dataframe\">\n",
       "  <thead>\n",
       "    <tr style=\"text-align: right;\">\n",
       "      <th></th>\n",
       "      <th>id</th>\n",
       "      <th>name</th>\n",
       "      <th>Main Season Number</th>\n",
       "      <th>Main Season Place</th>\n",
       "      <th>All Stars Season Number</th>\n",
       "      <th>All Stars Place</th>\n",
       "      <th>image_url</th>\n",
       "      <th>quote</th>\n",
       "    </tr>\n",
       "  </thead>\n",
       "  <tbody>\n",
       "    <tr>\n",
       "      <td>0</td>\n",
       "      <td>27</td>\n",
       "      <td>Mimi Imfurst</td>\n",
       "      <td>3</td>\n",
       "      <td>11.0</td>\n",
       "      <td>A1</td>\n",
       "      <td>12.0</td>\n",
       "      <td>http://www.nokeynoshade.party/images/mimi-imfu...</td>\n",
       "      <td>This time around, I will not pick nobody up, i...</td>\n",
       "    </tr>\n",
       "    <tr>\n",
       "      <td>1</td>\n",
       "      <td>20</td>\n",
       "      <td>Pandora Boxx</td>\n",
       "      <td>2</td>\n",
       "      <td>5.0</td>\n",
       "      <td>A1</td>\n",
       "      <td>11.0</td>\n",
       "      <td>http://www.nokeynoshade.party/images/pandora-b...</td>\n",
       "      <td>I'm Pandora Boxx and I'm thirty-bleep years old.</td>\n",
       "    </tr>\n",
       "    <tr>\n",
       "      <td>2</td>\n",
       "      <td>2</td>\n",
       "      <td>Tammie Brown</td>\n",
       "      <td>1</td>\n",
       "      <td>8.0</td>\n",
       "      <td>A1</td>\n",
       "      <td>10.0</td>\n",
       "      <td>http://www.nokeynoshade.party/images/tammie-br...</td>\n",
       "      <td>I'm not a slut, I'm a lady. You look under my ...</td>\n",
       "    </tr>\n",
       "    <tr>\n",
       "      <td>3</td>\n",
       "      <td>35</td>\n",
       "      <td>Manila Luzon</td>\n",
       "      <td>3</td>\n",
       "      <td>2.0</td>\n",
       "      <td>A1</td>\n",
       "      <td>7.0</td>\n",
       "      <td>http://www.nokeynoshade.party/images/manila-lu...</td>\n",
       "      <td>Try something new -- do it with an Indian guy!</td>\n",
       "    </tr>\n",
       "    <tr>\n",
       "      <td>4</td>\n",
       "      <td>46</td>\n",
       "      <td>Latrice Royale</td>\n",
       "      <td>4</td>\n",
       "      <td>4.0</td>\n",
       "      <td>A1</td>\n",
       "      <td>7.0</td>\n",
       "      <td>http://www.nokeynoshade.party/images/latrice-r...</td>\n",
       "      <td>Jesus is a biscuit! Let him sop you up!</td>\n",
       "    </tr>\n",
       "    <tr>\n",
       "      <td>5</td>\n",
       "      <td>34</td>\n",
       "      <td>Alexis Mateo</td>\n",
       "      <td>3</td>\n",
       "      <td>3.0</td>\n",
       "      <td>A1</td>\n",
       "      <td>6.0</td>\n",
       "      <td>http://www.nokeynoshade.party/images/alexis-ma...</td>\n",
       "      <td>I don't like when they label you as 'the latin...</td>\n",
       "    </tr>\n",
       "    <tr>\n",
       "      <td>6</td>\n",
       "      <td>33</td>\n",
       "      <td>Yara Sofia</td>\n",
       "      <td>3</td>\n",
       "      <td>4.0</td>\n",
       "      <td>A1</td>\n",
       "      <td>5.0</td>\n",
       "      <td>http://www.nokeynoshade.party/images/yara-sofi...</td>\n",
       "      <td>\"\"</td>\n",
       "    </tr>\n",
       "    <tr>\n",
       "      <td>7</td>\n",
       "      <td>9</td>\n",
       "      <td>Shannel</td>\n",
       "      <td>1</td>\n",
       "      <td>4.0</td>\n",
       "      <td>A1</td>\n",
       "      <td>3.0</td>\n",
       "      <td>http://www.nokeynoshade.party/images/shannel.jpg</td>\n",
       "      <td>I am amazed at myself; In my mind... I've alre...</td>\n",
       "    </tr>\n",
       "    <tr>\n",
       "      <td>8</td>\n",
       "      <td>22</td>\n",
       "      <td>Jujubee</td>\n",
       "      <td>2</td>\n",
       "      <td>3.0</td>\n",
       "      <td>A1</td>\n",
       "      <td>3.0</td>\n",
       "      <td>http://www.nokeynoshade.party/images/jujubee.jpg</td>\n",
       "      <td>Jujubee's just this fabulous Asian girl, she's...</td>\n",
       "    </tr>\n",
       "    <tr>\n",
       "      <td>9</td>\n",
       "      <td>23</td>\n",
       "      <td>Raven</td>\n",
       "      <td>2</td>\n",
       "      <td>2.0</td>\n",
       "      <td>A1</td>\n",
       "      <td>2.0</td>\n",
       "      <td>http://www.nokeynoshade.party/images/raven.jpg</td>\n",
       "      <td>I like to be that mysterious, dark, ice queen....</td>\n",
       "    </tr>\n",
       "    <tr>\n",
       "      <td>10</td>\n",
       "      <td>48</td>\n",
       "      <td>Chad Michaels</td>\n",
       "      <td>4</td>\n",
       "      <td>2.0</td>\n",
       "      <td>A1</td>\n",
       "      <td>1.0</td>\n",
       "      <td>http://www.nokeynoshade.party/images/chad-mich...</td>\n",
       "      <td>Everything I've gone through in my life has be...</td>\n",
       "    </tr>\n",
       "    <tr>\n",
       "      <td>11</td>\n",
       "      <td>90</td>\n",
       "      <td>Katya Zamolodchikova</td>\n",
       "      <td>7</td>\n",
       "      <td>5.0</td>\n",
       "      <td>A2</td>\n",
       "      <td>2.0</td>\n",
       "      <td>http://www.nokeynoshade.party/images/katya.jpg</td>\n",
       "      <td>I’m trying to just serve sexy and confident wh...</td>\n",
       "    </tr>\n",
       "    <tr>\n",
       "      <td>12</td>\n",
       "      <td>60</td>\n",
       "      <td>Detox Icunt</td>\n",
       "      <td>5</td>\n",
       "      <td>4.0</td>\n",
       "      <td>A2</td>\n",
       "      <td>3.0</td>\n",
       "      <td>http://www.nokeynoshade.party/images/detox.jpg</td>\n",
       "      <td>Wow... Holy shit we're here</td>\n",
       "    </tr>\n",
       "    <tr>\n",
       "      <td>13</td>\n",
       "      <td>61</td>\n",
       "      <td>Roxxy Andrews</td>\n",
       "      <td>5</td>\n",
       "      <td>3.0</td>\n",
       "      <td>A2</td>\n",
       "      <td>4.0</td>\n",
       "      <td>http://www.nokeynoshade.party/images/roxxy-and...</td>\n",
       "      <td>When life pulls you down, put on a shiny seque...</td>\n",
       "    </tr>\n",
       "    <tr>\n",
       "      <td>14</td>\n",
       "      <td>58</td>\n",
       "      <td>Alyssa Edwards</td>\n",
       "      <td>5</td>\n",
       "      <td>6.0</td>\n",
       "      <td>A2</td>\n",
       "      <td>5.0</td>\n",
       "      <td>http://www.nokeynoshade.party/images/alyssa-ed...</td>\n",
       "      <td>BACKROLLS?!?!</td>\n",
       "    </tr>\n",
       "    <tr>\n",
       "      <td>15</td>\n",
       "      <td>62</td>\n",
       "      <td>Alaska Thunderfuck 5000</td>\n",
       "      <td>5</td>\n",
       "      <td>2.0</td>\n",
       "      <td>A2</td>\n",
       "      <td>1.0</td>\n",
       "      <td>http://www.nokeynoshade.party/images/alaska-th...</td>\n",
       "      <td>I'll send you 10,000 dollars via PayPal if you...</td>\n",
       "    </tr>\n",
       "    <tr>\n",
       "      <td>16</td>\n",
       "      <td>47</td>\n",
       "      <td>Phi Phi O'Hara</td>\n",
       "      <td>4</td>\n",
       "      <td>3.0</td>\n",
       "      <td>A2</td>\n",
       "      <td>7.0</td>\n",
       "      <td>http://www.nokeynoshade.party/images/phi-phi-o...</td>\n",
       "      <td>You don't need RuPaul to be big. I can say for...</td>\n",
       "    </tr>\n",
       "    <tr>\n",
       "      <td>17</td>\n",
       "      <td>93</td>\n",
       "      <td>Ginger Minj</td>\n",
       "      <td>7</td>\n",
       "      <td>2.0</td>\n",
       "      <td>A2</td>\n",
       "      <td>8.0</td>\n",
       "      <td>http://www.nokeynoshade.party/images/ginger-mi...</td>\n",
       "      <td>I'm about to flood my basement.</td>\n",
       "    </tr>\n",
       "    <tr>\n",
       "      <td>18</td>\n",
       "      <td>79</td>\n",
       "      <td>Adore Delano</td>\n",
       "      <td>6</td>\n",
       "      <td>2.0</td>\n",
       "      <td>A2</td>\n",
       "      <td>9.0</td>\n",
       "      <td>http://www.nokeynoshade.party/images/adore-del...</td>\n",
       "      <td>So Laganja has ideas and I mean I was raised r...</td>\n",
       "    </tr>\n",
       "    <tr>\n",
       "      <td>19</td>\n",
       "      <td>59</td>\n",
       "      <td>Coco Montrese</td>\n",
       "      <td>5</td>\n",
       "      <td>5.0</td>\n",
       "      <td>A2</td>\n",
       "      <td>10.0</td>\n",
       "      <td>http://www.nokeynoshade.party/images/coco-mont...</td>\n",
       "      <td>I'm not joking bitch!</td>\n",
       "    </tr>\n",
       "    <tr>\n",
       "      <td>20</td>\n",
       "      <td>21</td>\n",
       "      <td>Tatianna</td>\n",
       "      <td>2</td>\n",
       "      <td>4.0</td>\n",
       "      <td>A2</td>\n",
       "      <td>6.0</td>\n",
       "      <td>http://www.nokeynoshade.party/images/tatianna.jpg</td>\n",
       "      <td>Cause baby boy what you see, isnt always the t...</td>\n",
       "    </tr>\n",
       "    <tr>\n",
       "      <td>21</td>\n",
       "      <td>89</td>\n",
       "      <td>Trixie Mattel</td>\n",
       "      <td>7</td>\n",
       "      <td>6.0</td>\n",
       "      <td>A3</td>\n",
       "      <td>1.0</td>\n",
       "      <td>http://www.nokeynoshade.party/images/trixie-ma...</td>\n",
       "      <td>Alright, Public school, calm down.</td>\n",
       "    </tr>\n",
       "    <tr>\n",
       "      <td>22</td>\n",
       "      <td>91</td>\n",
       "      <td>Kennedy Davenport</td>\n",
       "      <td>7</td>\n",
       "      <td>4.0</td>\n",
       "      <td>A3</td>\n",
       "      <td>2.0</td>\n",
       "      <td>http://www.nokeynoshade.party/images/kennedy-d...</td>\n",
       "      <td>Love is understanding, unconditional. Love is ...</td>\n",
       "    </tr>\n",
       "    <tr>\n",
       "      <td>23</td>\n",
       "      <td>13</td>\n",
       "      <td>Shangela Laquifa Wadley</td>\n",
       "      <td>2</td>\n",
       "      <td>12.0</td>\n",
       "      <td>A3</td>\n",
       "      <td>4.0</td>\n",
       "      <td>http://www.nokeynoshade.party/images/shangela-...</td>\n",
       "      <td>Halleloo!</td>\n",
       "    </tr>\n",
       "    <tr>\n",
       "      <td>24</td>\n",
       "      <td>13</td>\n",
       "      <td>Shangela Laquifa Wadley</td>\n",
       "      <td>3</td>\n",
       "      <td>6.0</td>\n",
       "      <td>A3</td>\n",
       "      <td>4.0</td>\n",
       "      <td>http://www.nokeynoshade.party/images/shangela-...</td>\n",
       "      <td>Halleloo!</td>\n",
       "    </tr>\n",
       "    <tr>\n",
       "      <td>25</td>\n",
       "      <td>17</td>\n",
       "      <td>Morgan McMichaels</td>\n",
       "      <td>2</td>\n",
       "      <td>8.0</td>\n",
       "      <td>A3</td>\n",
       "      <td>5.0</td>\n",
       "      <td>http://www.nokeynoshade.party/images/morgan-mc...</td>\n",
       "      <td>People think that, since I'm pretty, and I'm s...</td>\n",
       "    </tr>\n",
       "    <tr>\n",
       "      <td>26</td>\n",
       "      <td>12</td>\n",
       "      <td>Bebe Zahara Benet</td>\n",
       "      <td>1</td>\n",
       "      <td>1.0</td>\n",
       "      <td>A3</td>\n",
       "      <td>3.0</td>\n",
       "      <td>http://www.nokeynoshade.party/images/bebe-zaha...</td>\n",
       "      <td>I bring a lot of international influence, and ...</td>\n",
       "    </tr>\n",
       "    <tr>\n",
       "      <td>27</td>\n",
       "      <td>111</td>\n",
       "      <td>Aja</td>\n",
       "      <td>9</td>\n",
       "      <td>9.0</td>\n",
       "      <td>A3</td>\n",
       "      <td>7.0</td>\n",
       "      <td>http://www.nokeynoshade.party/images/aja.jpg</td>\n",
       "      <td>You’re perfect, you’re beautiful, you look lik...</td>\n",
       "    </tr>\n",
       "    <tr>\n",
       "      <td>28</td>\n",
       "      <td>103</td>\n",
       "      <td>Chi Chi DeVayne</td>\n",
       "      <td>8</td>\n",
       "      <td>4.0</td>\n",
       "      <td>A3</td>\n",
       "      <td>8.0</td>\n",
       "      <td>http://www.nokeynoshade.party/images/chi-chi-d...</td>\n",
       "      <td>I'm a cheap queen.</td>\n",
       "    </tr>\n",
       "    <tr>\n",
       "      <td>29</td>\n",
       "      <td>72</td>\n",
       "      <td>Milk</td>\n",
       "      <td>6</td>\n",
       "      <td>9.0</td>\n",
       "      <td>A3</td>\n",
       "      <td>9.0</td>\n",
       "      <td>http://www.nokeynoshade.party/images/milk.jpg</td>\n",
       "      <td>Milk does the body good, gurl.</td>\n",
       "    </tr>\n",
       "    <tr>\n",
       "      <td>30</td>\n",
       "      <td>101</td>\n",
       "      <td>Thorgy Thor</td>\n",
       "      <td>8</td>\n",
       "      <td>6.0</td>\n",
       "      <td>A3</td>\n",
       "      <td>10.0</td>\n",
       "      <td>http://www.nokeynoshade.party/images/thorgy-th...</td>\n",
       "      <td>Now take this orange shit of my body!</td>\n",
       "    </tr>\n",
       "    <tr>\n",
       "      <td>31</td>\n",
       "      <td>75</td>\n",
       "      <td>BenDeLaCreme</td>\n",
       "      <td>6</td>\n",
       "      <td>5.0</td>\n",
       "      <td>A3</td>\n",
       "      <td>6.0</td>\n",
       "      <td>http://www.nokeynoshade.party/images/benda-la-...</td>\n",
       "      <td>Excuse me, we originated the language</td>\n",
       "    </tr>\n",
       "    <tr>\n",
       "      <td>32</td>\n",
       "      <td>123</td>\n",
       "      <td>Trinity Taylor</td>\n",
       "      <td>9</td>\n",
       "      <td>4.0</td>\n",
       "      <td>A4</td>\n",
       "      <td>1.0</td>\n",
       "      <td>http://www.nokeynoshade.party/images/trinity-t...</td>\n",
       "      <td>I have 50 units of botox in my face, I don't k...</td>\n",
       "    </tr>\n",
       "    <tr>\n",
       "      <td>33</td>\n",
       "      <td>83</td>\n",
       "      <td>Jasmine Masters</td>\n",
       "      <td>7</td>\n",
       "      <td>12.0</td>\n",
       "      <td>A4</td>\n",
       "      <td>10.0</td>\n",
       "      <td>http://www.nokeynoshade.party/images/jasmine-m...</td>\n",
       "      <td>You gotta pop dem corns so the kids can eat!</td>\n",
       "    </tr>\n",
       "    <tr>\n",
       "      <td>34</td>\n",
       "      <td>112</td>\n",
       "      <td>Farrah Moan</td>\n",
       "      <td>9</td>\n",
       "      <td>8.0</td>\n",
       "      <td>A4</td>\n",
       "      <td>9.0</td>\n",
       "      <td>http://www.nokeynoshade.party/images/farrah-mo...</td>\n",
       "      <td>Someone told me for the first time in my life ...</td>\n",
       "    </tr>\n",
       "    <tr>\n",
       "      <td>35</td>\n",
       "      <td>71</td>\n",
       "      <td>Gia Gunn</td>\n",
       "      <td>6</td>\n",
       "      <td>10.0</td>\n",
       "      <td>A4</td>\n",
       "      <td>8.0</td>\n",
       "      <td>http://www.nokeynoshade.party/images/gia-gunn.jpg</td>\n",
       "      <td>Just got off the boat, you know, little trip f...</td>\n",
       "    </tr>\n",
       "    <tr>\n",
       "      <td>36</td>\n",
       "      <td>113</td>\n",
       "      <td>Valentina</td>\n",
       "      <td>9</td>\n",
       "      <td>7.0</td>\n",
       "      <td>A4</td>\n",
       "      <td>7.0</td>\n",
       "      <td>http://www.nokeynoshade.party/images/valentina...</td>\n",
       "      <td>I'm glad these girls see me as a threat.</td>\n",
       "    </tr>\n",
       "    <tr>\n",
       "      <td>37</td>\n",
       "      <td>35</td>\n",
       "      <td>Manila Luzon</td>\n",
       "      <td>3</td>\n",
       "      <td>2.0</td>\n",
       "      <td>A4</td>\n",
       "      <td>6.0</td>\n",
       "      <td>http://www.nokeynoshade.party/images/manila-lu...</td>\n",
       "      <td>Try something new -- do it with an Indian guy!</td>\n",
       "    </tr>\n",
       "    <tr>\n",
       "      <td>38</td>\n",
       "      <td>46</td>\n",
       "      <td>Latrice Royale</td>\n",
       "      <td>4</td>\n",
       "      <td>4.0</td>\n",
       "      <td>A4</td>\n",
       "      <td>5.0</td>\n",
       "      <td>http://www.nokeynoshade.party/images/latrice-r...</td>\n",
       "      <td>Jesus is a biscuit! Let him sop you up!</td>\n",
       "    </tr>\n",
       "    <tr>\n",
       "      <td>39</td>\n",
       "      <td>104</td>\n",
       "      <td>Naomi Smalls</td>\n",
       "      <td>8</td>\n",
       "      <td>3.0</td>\n",
       "      <td>A4</td>\n",
       "      <td>4.0</td>\n",
       "      <td>http://www.nokeynoshade.party/images/naomi-sma...</td>\n",
       "      <td>Check your lipstick before you come for me.</td>\n",
       "    </tr>\n",
       "    <tr>\n",
       "      <td>40</td>\n",
       "      <td>136</td>\n",
       "      <td>Monique Heart</td>\n",
       "      <td>10</td>\n",
       "      <td>8.0</td>\n",
       "      <td>A4</td>\n",
       "      <td>3.0</td>\n",
       "      <td>http://www.nokeynoshade.party/images/monique-h...</td>\n",
       "      <td>Cat kitty cat cat cat cat. Cat kitty cat cat c...</td>\n",
       "    </tr>\n",
       "    <tr>\n",
       "      <td>41</td>\n",
       "      <td>130</td>\n",
       "      <td>Monet X Change</td>\n",
       "      <td>10</td>\n",
       "      <td>6.0</td>\n",
       "      <td>A4</td>\n",
       "      <td>1.0</td>\n",
       "      <td>http://www.nokeynoshade.party/images/monet_x_c...</td>\n",
       "      <td>Oh, don't mind me. I just came here to sweep u...</td>\n",
       "    </tr>\n",
       "  </tbody>\n",
       "</table>\n",
       "</div>"
      ],
      "text/plain": [
       "     id                     name  Main Season Number  Main Season Place  \\\n",
       "0    27             Mimi Imfurst                   3               11.0   \n",
       "1    20             Pandora Boxx                   2                5.0   \n",
       "2     2             Tammie Brown                   1                8.0   \n",
       "3    35             Manila Luzon                   3                2.0   \n",
       "4    46           Latrice Royale                   4                4.0   \n",
       "5    34             Alexis Mateo                   3                3.0   \n",
       "6    33               Yara Sofia                   3                4.0   \n",
       "7     9                  Shannel                   1                4.0   \n",
       "8    22                  Jujubee                   2                3.0   \n",
       "9    23                    Raven                   2                2.0   \n",
       "10   48            Chad Michaels                   4                2.0   \n",
       "11   90     Katya Zamolodchikova                   7                5.0   \n",
       "12   60              Detox Icunt                   5                4.0   \n",
       "13   61            Roxxy Andrews                   5                3.0   \n",
       "14   58           Alyssa Edwards                   5                6.0   \n",
       "15   62  Alaska Thunderfuck 5000                   5                2.0   \n",
       "16   47           Phi Phi O'Hara                   4                3.0   \n",
       "17   93              Ginger Minj                   7                2.0   \n",
       "18   79             Adore Delano                   6                2.0   \n",
       "19   59            Coco Montrese                   5                5.0   \n",
       "20   21                 Tatianna                   2                4.0   \n",
       "21   89            Trixie Mattel                   7                6.0   \n",
       "22   91        Kennedy Davenport                   7                4.0   \n",
       "23   13  Shangela Laquifa Wadley                   2               12.0   \n",
       "24   13  Shangela Laquifa Wadley                   3                6.0   \n",
       "25   17        Morgan McMichaels                   2                8.0   \n",
       "26   12        Bebe Zahara Benet                   1                1.0   \n",
       "27  111                      Aja                   9                9.0   \n",
       "28  103          Chi Chi DeVayne                   8                4.0   \n",
       "29   72                     Milk                   6                9.0   \n",
       "30  101              Thorgy Thor                   8                6.0   \n",
       "31   75             BenDeLaCreme                   6                5.0   \n",
       "32  123           Trinity Taylor                   9                4.0   \n",
       "33   83          Jasmine Masters                   7               12.0   \n",
       "34  112              Farrah Moan                   9                8.0   \n",
       "35   71                 Gia Gunn                   6               10.0   \n",
       "36  113                Valentina                   9                7.0   \n",
       "37   35             Manila Luzon                   3                2.0   \n",
       "38   46           Latrice Royale                   4                4.0   \n",
       "39  104             Naomi Smalls                   8                3.0   \n",
       "40  136            Monique Heart                  10                8.0   \n",
       "41  130           Monet X Change                  10                6.0   \n",
       "\n",
       "   All Stars Season Number  All Stars Place  \\\n",
       "0                       A1             12.0   \n",
       "1                       A1             11.0   \n",
       "2                       A1             10.0   \n",
       "3                       A1              7.0   \n",
       "4                       A1              7.0   \n",
       "5                       A1              6.0   \n",
       "6                       A1              5.0   \n",
       "7                       A1              3.0   \n",
       "8                       A1              3.0   \n",
       "9                       A1              2.0   \n",
       "10                      A1              1.0   \n",
       "11                      A2              2.0   \n",
       "12                      A2              3.0   \n",
       "13                      A2              4.0   \n",
       "14                      A2              5.0   \n",
       "15                      A2              1.0   \n",
       "16                      A2              7.0   \n",
       "17                      A2              8.0   \n",
       "18                      A2              9.0   \n",
       "19                      A2             10.0   \n",
       "20                      A2              6.0   \n",
       "21                      A3              1.0   \n",
       "22                      A3              2.0   \n",
       "23                      A3              4.0   \n",
       "24                      A3              4.0   \n",
       "25                      A3              5.0   \n",
       "26                      A3              3.0   \n",
       "27                      A3              7.0   \n",
       "28                      A3              8.0   \n",
       "29                      A3              9.0   \n",
       "30                      A3             10.0   \n",
       "31                      A3              6.0   \n",
       "32                      A4              1.0   \n",
       "33                      A4             10.0   \n",
       "34                      A4              9.0   \n",
       "35                      A4              8.0   \n",
       "36                      A4              7.0   \n",
       "37                      A4              6.0   \n",
       "38                      A4              5.0   \n",
       "39                      A4              4.0   \n",
       "40                      A4              3.0   \n",
       "41                      A4              1.0   \n",
       "\n",
       "                                            image_url  \\\n",
       "0   http://www.nokeynoshade.party/images/mimi-imfu...   \n",
       "1   http://www.nokeynoshade.party/images/pandora-b...   \n",
       "2   http://www.nokeynoshade.party/images/tammie-br...   \n",
       "3   http://www.nokeynoshade.party/images/manila-lu...   \n",
       "4   http://www.nokeynoshade.party/images/latrice-r...   \n",
       "5   http://www.nokeynoshade.party/images/alexis-ma...   \n",
       "6   http://www.nokeynoshade.party/images/yara-sofi...   \n",
       "7    http://www.nokeynoshade.party/images/shannel.jpg   \n",
       "8    http://www.nokeynoshade.party/images/jujubee.jpg   \n",
       "9      http://www.nokeynoshade.party/images/raven.jpg   \n",
       "10  http://www.nokeynoshade.party/images/chad-mich...   \n",
       "11     http://www.nokeynoshade.party/images/katya.jpg   \n",
       "12     http://www.nokeynoshade.party/images/detox.jpg   \n",
       "13  http://www.nokeynoshade.party/images/roxxy-and...   \n",
       "14  http://www.nokeynoshade.party/images/alyssa-ed...   \n",
       "15  http://www.nokeynoshade.party/images/alaska-th...   \n",
       "16  http://www.nokeynoshade.party/images/phi-phi-o...   \n",
       "17  http://www.nokeynoshade.party/images/ginger-mi...   \n",
       "18  http://www.nokeynoshade.party/images/adore-del...   \n",
       "19  http://www.nokeynoshade.party/images/coco-mont...   \n",
       "20  http://www.nokeynoshade.party/images/tatianna.jpg   \n",
       "21  http://www.nokeynoshade.party/images/trixie-ma...   \n",
       "22  http://www.nokeynoshade.party/images/kennedy-d...   \n",
       "23  http://www.nokeynoshade.party/images/shangela-...   \n",
       "24  http://www.nokeynoshade.party/images/shangela-...   \n",
       "25  http://www.nokeynoshade.party/images/morgan-mc...   \n",
       "26  http://www.nokeynoshade.party/images/bebe-zaha...   \n",
       "27       http://www.nokeynoshade.party/images/aja.jpg   \n",
       "28  http://www.nokeynoshade.party/images/chi-chi-d...   \n",
       "29      http://www.nokeynoshade.party/images/milk.jpg   \n",
       "30  http://www.nokeynoshade.party/images/thorgy-th...   \n",
       "31  http://www.nokeynoshade.party/images/benda-la-...   \n",
       "32  http://www.nokeynoshade.party/images/trinity-t...   \n",
       "33  http://www.nokeynoshade.party/images/jasmine-m...   \n",
       "34  http://www.nokeynoshade.party/images/farrah-mo...   \n",
       "35  http://www.nokeynoshade.party/images/gia-gunn.jpg   \n",
       "36  http://www.nokeynoshade.party/images/valentina...   \n",
       "37  http://www.nokeynoshade.party/images/manila-lu...   \n",
       "38  http://www.nokeynoshade.party/images/latrice-r...   \n",
       "39  http://www.nokeynoshade.party/images/naomi-sma...   \n",
       "40  http://www.nokeynoshade.party/images/monique-h...   \n",
       "41  http://www.nokeynoshade.party/images/monet_x_c...   \n",
       "\n",
       "                                                quote  \n",
       "0   This time around, I will not pick nobody up, i...  \n",
       "1    I'm Pandora Boxx and I'm thirty-bleep years old.  \n",
       "2   I'm not a slut, I'm a lady. You look under my ...  \n",
       "3      Try something new -- do it with an Indian guy!  \n",
       "4             Jesus is a biscuit! Let him sop you up!  \n",
       "5   I don't like when they label you as 'the latin...  \n",
       "6                                                  \"\"  \n",
       "7   I am amazed at myself; In my mind... I've alre...  \n",
       "8   Jujubee's just this fabulous Asian girl, she's...  \n",
       "9   I like to be that mysterious, dark, ice queen....  \n",
       "10  Everything I've gone through in my life has be...  \n",
       "11  I’m trying to just serve sexy and confident wh...  \n",
       "12                        Wow... Holy shit we're here  \n",
       "13  When life pulls you down, put on a shiny seque...  \n",
       "14                                      BACKROLLS?!?!  \n",
       "15  I'll send you 10,000 dollars via PayPal if you...  \n",
       "16  You don't need RuPaul to be big. I can say for...  \n",
       "17                    I'm about to flood my basement.  \n",
       "18  So Laganja has ideas and I mean I was raised r...  \n",
       "19                              I'm not joking bitch!  \n",
       "20  Cause baby boy what you see, isnt always the t...  \n",
       "21                 Alright, Public school, calm down.  \n",
       "22  Love is understanding, unconditional. Love is ...  \n",
       "23                                          Halleloo!  \n",
       "24                                          Halleloo!  \n",
       "25  People think that, since I'm pretty, and I'm s...  \n",
       "26  I bring a lot of international influence, and ...  \n",
       "27  You’re perfect, you’re beautiful, you look lik...  \n",
       "28                                 I'm a cheap queen.  \n",
       "29                     Milk does the body good, gurl.  \n",
       "30              Now take this orange shit of my body!  \n",
       "31              Excuse me, we originated the language  \n",
       "32  I have 50 units of botox in my face, I don't k...  \n",
       "33       You gotta pop dem corns so the kids can eat!  \n",
       "34  Someone told me for the first time in my life ...  \n",
       "35  Just got off the boat, you know, little trip f...  \n",
       "36           I'm glad these girls see me as a threat.  \n",
       "37     Try something new -- do it with an Indian guy!  \n",
       "38            Jesus is a biscuit! Let him sop you up!  \n",
       "39        Check your lipstick before you come for me.  \n",
       "40  Cat kitty cat cat cat cat. Cat kitty cat cat c...  \n",
       "41  Oh, don't mind me. I just came here to sweep u...  "
      ]
     },
     "execution_count": 119,
     "metadata": {},
     "output_type": "execute_result"
    }
   ],
   "source": [
    "all_stars_performance_df"
   ]
  },
  {
   "cell_type": "code",
   "execution_count": null,
   "metadata": {},
   "outputs": [],
   "source": []
  }
 ],
 "metadata": {
  "kernelspec": {
   "display_name": "Python 3",
   "language": "python",
   "name": "python3"
  },
  "language_info": {
   "codemirror_mode": {
    "name": "ipython",
    "version": 3
   },
   "file_extension": ".py",
   "mimetype": "text/x-python",
   "name": "python",
   "nbconvert_exporter": "python",
   "pygments_lexer": "ipython3",
   "version": "3.7.4"
  }
 },
 "nbformat": 4,
 "nbformat_minor": 4
}
