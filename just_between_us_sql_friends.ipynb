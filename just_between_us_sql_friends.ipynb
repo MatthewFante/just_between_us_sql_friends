{
 "cells": [
  {
   "cell_type": "markdown",
   "metadata": {
    "slideshow": {
     "slide_type": "-"
    }
   },
   "source": [
    "<center>\n",
    "    <h1 style=\"color:deeppink\">Just between us SQL Friends...</h1>\n",
    "    <h2 style=\"color:deeppink\">RuPaul's Drag Race: Visualized</h2>\n",
    "    <img src=\"media/header.gif\" height=\"100px\">\n",
    "</center>"
   ]
  },
  {
   "cell_type": "markdown",
   "metadata": {},
   "source": [
    "<h2 style=\"color:deeppink\">Import Libraries & Connect SQLite Database</h2>"
   ]
  },
  {
   "cell_type": "code",
   "execution_count": null,
   "metadata": {},
   "outputs": [],
   "source": [
    "import pandas as pd\n",
    "import sqlite3\n",
    "from pandas.io.json import json_normalize\n",
    "import matplotlib.pyplot as plt\n",
    "\n",
    "drag_race_data_base = sqlite3.connect(\"drag_race_data.db\")"
   ]
  },
  {
   "cell_type": "markdown",
   "metadata": {},
   "source": [
    "<h2 style=\"color:deeppink\">Define Constants, Global Variables, and API endpoints</h2>"
   ]
  },
  {
   "cell_type": "code",
   "execution_count": null,
   "metadata": {},
   "outputs": [],
   "source": [
    "DRAG_RACE_API_URL = \"http://www.nokeynoshade.party/api/\"\n",
    "\n",
    "#API Endpoints\n",
    "SEASONS = \"seasons\"\n",
    "QUEENS = \"queens/all\"\n",
    "SEASON_BY_NUMBER = \"seasons/{}\"\n",
    "\n",
    "ALL_CHALLENGES = \"challenges\"\n",
    "CHALLENGE_BY_NUMBER = \"challenges/{}\"\n",
    "CHALLENGES_BY_QUEEN_ID = \"queens/{}/challenges\"\n",
    "CHALLENGES_BY_SEASON = \"seasons/{}/challenges\"\n",
    "\n"
   ]
  },
  {
   "cell_type": "markdown",
   "metadata": {},
   "source": [
    "<h2 style=\"color:deeppink\">Define Functions</h2>"
   ]
  },
  {
   "cell_type": "code",
   "execution_count": null,
   "metadata": {},
   "outputs": [],
   "source": [
    "#some, not all, api endpoints require a season_id number... we'll make that argument optional.\n",
    "def get_data(endpoint, SEASON = None):\n",
    "    data = pd.read_json(DRAG_RACE_API_URL + endpoint.format(SEASON))\n",
    "    return data\n",
    "\n",
    "\n",
    "def get_seasons():\n",
    "    df = pd.DataFrame()\n",
    "    temp_df = pd.DataFrame()\n",
    "    for i in range(len(season_id_df)):\n",
    "        temp_df = get_data(\"seasons/{}\", i)\n",
    "        temp_df = json_normalize(temp_df['queens'])\n",
    "        temp_df['season_id'] = i + 1\n",
    "        df = pd.concat([df, temp_df], sort=False)\n",
    "        i += 1\n",
    "    return df\n",
    "\n",
    "\n",
    "def get_challenges():\n",
    "    df = pd.DataFrame()\n",
    "    temp_df = pd.DataFrame()\n",
    "    for i in range(15):\n",
    "        temp_df = get_data(CHALLENGES_BY_SEASON, i + 1)\n",
    "        temp_df['season_id'] = i + 1\n",
    "        df = pd.concat([df, temp_df], sort=False)\n",
    "        i += 1\n",
    "    return df\n",
    "\n",
    "\n",
    "def csv_export(df, file_name):\n",
    "    df.to_csv(file_name, index=True)"
   ]
  },
  {
   "cell_type": "markdown",
   "metadata": {},
   "source": [
    "<h2 style=\"color:deeppink\">Define SQL Queries</h2>"
   ]
  },
  {
   "cell_type": "code",
   "execution_count": null,
   "metadata": {},
   "outputs": [],
   "source": [
    "SELECT_QUEENS = \"\"\"\n",
    "    SELECT queens.id, name, season_number, place, winner, missCongeniality AS miss_congeniality, image_url, quote FROM seasons\n",
    "    INNER JOIN season_ids ON seasons.season_id = season_ids.season_id\n",
    "    INNER JOIN queens ON seasons.id = queens.id\n",
    "\"\"\"\n",
    "\n",
    "all_queens_query = SELECT_QUEENS + \"\"\"\n",
    "    ORDER BY season_number, place DESC\n",
    "\"\"\"\n",
    "\n",
    "\n",
    "all_stars_query = SELECT_QUEENS + \"\"\"\n",
    "    WHERE season_number LIKE \"%A%\"\n",
    "    ORDER BY season_number, place DESC\n",
    "\"\"\"\n",
    "\n",
    "\n",
    "main_seasons_query = SELECT_QUEENS + \"\"\"\n",
    "    WHERE season_number NOT LIKE \"A%\" \n",
    "    ORDER BY season_number, place DESC\n",
    "\"\"\"\n",
    "\n",
    "\n",
    "main_season_winners_query = SELECT_QUEENS + \"\"\"\n",
    "    WHERE winner IS True AND season_number NOT LIKE \"A%\" AND place = 1\n",
    "\"\"\"\n",
    "\n",
    "\n",
    "all_stars_winners_query = SELECT_QUEENS + \"\"\"\n",
    "    WHERE season_number LIKE \"A%\" AND place = 1\n",
    "\"\"\"\n",
    "\n",
    "\n",
    "miss_congeniality_query = SELECT_QUEENS + \"\"\"\n",
    "    WHERE missCongeniality IS True\n",
    "    ORDER BY season_id\"\"\"\n",
    "\n",
    "main_challenge_wins_query = \"\"\"\n",
    "    SELECT name, count(won) AS wins\n",
    "    FROM challenges\n",
    "    WHERE won IS True\n",
    "    GROUP BY name\n",
    "    ORDER BY wins DESC\n",
    "    LIMIT 10\n",
    "\"\"\""
   ]
  },
  {
   "cell_type": "markdown",
   "metadata": {},
   "source": [
    "<h2 style=\"color:deeppink\">Define values used for cleanup</h2>"
   ]
  },
  {
   "cell_type": "code",
   "execution_count": null,
   "metadata": {},
   "outputs": [],
   "source": [
    "queens_drop_cols = ['queens', 'name']"
   ]
  },
  {
   "cell_type": "markdown",
   "metadata": {},
   "source": [
    "<h2 style=\"color:deeppink\">Create raw dataframes from API endpoints</h2>"
   ]
  },
  {
   "cell_type": "code",
   "execution_count": null,
   "metadata": {},
   "outputs": [],
   "source": [
    "raw_seasons_df = get_data(SEASONS)\n",
    "raw_queens_df = get_data(QUEENS)\n",
    "\n",
    "# create season_id_df to look up season numbers by id\n",
    "season_id_df = pd.DataFrame({\"season_id\": raw_seasons_df['id'], \"season_number\": raw_seasons_df['seasonNumber']})"
   ]
  },
  {
   "cell_type": "markdown",
   "metadata": {},
   "source": [
    "<h2 style=\"color:deeppink\">Clean and organize the data</h2>"
   ]
  },
  {
   "cell_type": "code",
   "execution_count": null,
   "metadata": {},
   "outputs": [],
   "source": []
  },
  {
   "cell_type": "markdown",
   "metadata": {},
   "source": [
    "<h2 style=\"color:deeppink\">Create SQL Tables</h2>"
   ]
  },
  {
   "cell_type": "code",
   "execution_count": null,
   "metadata": {},
   "outputs": [],
   "source": [
    "# queens table\n",
    "raw_queens_df.to_sql('queens', drag_race_data_base, if_exists='replace')\n",
    "\n",
    "# seasons table\n",
    "seasons_df = get_seasons().set_index('id').drop(queens_drop_cols, axis=1)\n",
    "seasons_df.to_sql('seasons', drag_race_data_base, if_exists = 'replace')\n",
    "\n",
    "# season_ids table\n",
    "season_id_df.to_sql('season_ids', drag_race_data_base, if_exists='replace')\n",
    "\n",
    "\n",
    "main_challenges = get_challenges()[get_challenges().type.eq('main')]\n",
    "json_normalize(main_challenges['queens'].explode()).to_sql('challenges', drag_race_data_base, if_exists=\"replace\")"
   ]
  },
  {
   "cell_type": "markdown",
   "metadata": {},
   "source": [
    "<h2 style=\"color:deeppink\">Create DataFrames from the SQL Tables</h2>"
   ]
  },
  {
   "cell_type": "code",
   "execution_count": null,
   "metadata": {},
   "outputs": [],
   "source": [
    "#FIX THE SORTING FOR main_seasons... needs to be sorted by season ascending, then place descending. \n",
    "# the dtype change is what is causing the trouble\n",
    "\n",
    "#all queens, ranked\n",
    "main_seasons_df = pd.read_sql(main_seasons_query, drag_race_data_base).astype({'season_number':'int32'}).sort_values(by=['season_number']).set_index('id')\n",
    "all_stars_df = pd.read_sql(all_stars_query, drag_race_data_base).sort_values(by=['season_number'])\n",
    "\n",
    "#winners\n",
    "main_season_winners_df = pd.read_sql(main_season_winners_query, drag_race_data_base).astype({'season_number':'int32'}).sort_values(by=['season_number'])\n",
    "all_stars_winners_df = pd.read_sql(all_stars_winners_query, drag_race_data_base).sort_values(by=['season_number'])\n",
    "#for some reason, Trinity and Monet X Change are not marked as AS 4 winners... The shade...\n",
    "all_stars_winners_df['winner'] = 1\n",
    "\n",
    "#most main challenge wins\n",
    "top_ten_main_challenge_wins_df = pd.read_sql(main_challenge_wins_query, drag_race_data_base)"
   ]
  },
  {
   "cell_type": "markdown",
   "metadata": {},
   "source": [
    "<h2 style=\"color:deeppink\">Create more specific SQL Tables</h2>"
   ]
  },
  {
   "cell_type": "code",
   "execution_count": null,
   "metadata": {},
   "outputs": [],
   "source": [
    "all_stars_winners_df.to_sql('all_stars_winners', drag_race_data_base, if_exists='replace')"
   ]
  },
  {
   "cell_type": "markdown",
   "metadata": {},
   "source": [
    "<h2 style=\"color:deeppink\">Export to CSV</h2>"
   ]
  },
  {
   "cell_type": "code",
   "execution_count": null,
   "metadata": {},
   "outputs": [],
   "source": [
    "# csv_export(df, file_name)"
   ]
  },
  {
   "cell_type": "markdown",
   "metadata": {},
   "source": [
    "<h2 style=\"color:deeppink\">Sandbox</h2>\n",
    "<b style=\"color:deeppink\">Use the space below to experiment. Nothing below will be included in the finished product.</b>"
   ]
  },
  {
   "cell_type": "code",
   "execution_count": null,
   "metadata": {},
   "outputs": [],
   "source": [
    "# def get_challenges():\n",
    "#     df = pd.DataFrame()\n",
    "#     temp_df = pd.DataFrame\n",
    "#     for i in range(10):\n",
    "#         temp_df = get_data(CHALLENGE_BY_NUMBER, i + 1)\n",
    "#         temp_df = json_normalize(temp_df['queens'])\n",
    "#         temp_df['challenge_number'] = i + 1\n",
    "#         df = pd.concat([df, temp_df], sort=False)\n",
    "#         i += 1\n",
    "#     return df\n",
    "\n",
    "# get_challenges().to_sql('challenges', drag_race_data_base, if_exists=\"replace\")\n",
    "# challenge_wins_df = pd.read_sql(\"SELECT id, name, count(won) AS challenge_wins FROM challenges GROUP BY name ORDER BY challenge_wins DESC LIMIT 10\", drag_race_data_base)\n",
    "\n",
    "# challenge_wins_df.plot.bar(y='challenge_wins', x=\"name\", color=\"deeppink\", title=\"Most Challenge Wins\")"
   ]
  },
  {
   "cell_type": "code",
   "execution_count": null,
   "metadata": {},
   "outputs": [],
   "source": []
  }
 ],
 "metadata": {
  "kernelspec": {
   "display_name": "Python 3",
   "language": "python",
   "name": "python3"
  },
  "language_info": {
   "codemirror_mode": {
    "name": "ipython",
    "version": 3
   },
   "file_extension": ".py",
   "mimetype": "text/x-python",
   "name": "python",
   "nbconvert_exporter": "python",
   "pygments_lexer": "ipython3",
   "version": "3.7.4"
  }
 },
 "nbformat": 4,
 "nbformat_minor": 4
}
