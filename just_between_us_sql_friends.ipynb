{
 "cells": [
  {
   "cell_type": "markdown",
   "metadata": {
    "slideshow": {
     "slide_type": "-"
    }
   },
   "source": [
    "<center>\n",
    "    <h1 style=\"color:deeppink\">Just between us SQL Friends...</h1>\n",
    "    <b style=\"color:deeppink\">RuPaul's Drag Race: Visualized<b>\n",
    "    <img src=\"media/header.gif\" height=\"100px\">\n",
    "</center>"
   ]
  },
  {
   "cell_type": "markdown",
   "metadata": {},
   "source": [
    "<h2 style=\"color:deeppink\">Project Requirements</h2>"
   ]
  },
  {
   "cell_type": "markdown",
   "metadata": {},
   "source": [
    "<ul>\n",
    "    <li><strike>You must include a SQL database (MySQL or SQLite) where your data will be stored</strike></li>\n",
    "    <li><strike>You need to include the sql or python script that creates your database</strike></li>\n",
    "    <li><strike>You must include a Python script used to fetch data from a data source and load it into your SQL database</strike></li>\n",
    "    <li><strike>Your data source may be an external API, database, a CSV file, JSON, or any other data source that you can read/parse via Python code</strike></li>\n",
    "    <li><strike>You must include a Python script to retrieve the data from your SQL database into a Python object</strike></li>\n",
    "    <li>Visualize the results of your analysis using Matplotlib, Seaborn, Bokeh or another Python Data </li>Visualization library. Your results can not be a plain text representation and you are encouraged to explore a visualization approach that clearly supports a conclusion/result of the analysis of your data.</li>\n",
    "    <li>Your data retrieval for visualization uses at least one SQL query, meaning you can't parse records from your data set using only Python or an ORM. </li>\n",
    "</ul>"
   ]
  },
  {
   "cell_type": "markdown",
   "metadata": {},
   "source": [
    "<h2 style=\"color:deeppink\">Data Schema</h2>\n",
    "<ul>\n",
    "    <li>\n",
    "        <h3 style=\"color:deeppink\">queens_df</h3>\n",
    "        <ul>\n",
    "            <li>id - int</li>\n",
    "            <li>name - str</li>\n",
    "            <li>quote - str</li>\n",
    "            <li>image_url - str</li>\n",
    "            <li>miss_congeniality - bool</li>\n",
    "            <li>winner - bool</li>\n",
    "        </ul>\n",
    "    </li>\n",
    "    <li>\n",
    "        <h3 style=\"color:deeppink\">main_seasons_df</h3>  \n",
    "        <ul>\n",
    "            <li>season_number - int</li>\n",
    "            <li>queen_id - int</li>\n",
    "            <li>place - int</li>\n",
    "        </ul>\n",
    "    </li> \n",
    "    <li>\n",
    "        <h3 style=\"color:deeppink\">all_stars_df</h3>\n",
    "        <ul>\n",
    "            <li>season_number - int</li>\n",
    "            <li>queen_id - int</li>\n",
    "            <li>place - int</li>\n",
    "        </ul>\n",
    "    </li>\n",
    "</ul>"
   ]
  },
  {
   "cell_type": "markdown",
   "metadata": {},
   "source": [
    "<h2 style=\"color:deeppink\">To-Do:</h2>"
   ]
  },
  {
   "cell_type": "markdown",
   "metadata": {},
   "source": [
    "<ul>\n",
    "    <li></li>\n",
    "    <li></li>    \n",
    "    <li></li>\n",
    "</ul>"
   ]
  },
  {
   "cell_type": "markdown",
   "metadata": {},
   "source": [
    "<h2 style=\"color:deeppink\">Import Libraries & Connect SQLite Database</h2>"
   ]
  },
  {
   "cell_type": "code",
   "execution_count": 147,
   "metadata": {},
   "outputs": [],
   "source": [
    "import pandas as pd\n",
    "import sqlite3\n",
    "from IPython.display import Image\n",
    "from pandas.io.json import json_normalize\n",
    "\n",
    "drag_race_data_base = sqlite3.connect(\"drag_race_data.db\")"
   ]
  },
  {
   "cell_type": "markdown",
   "metadata": {},
   "source": [
    "<h2 style=\"color:deeppink\">Define Constants, Global Variables, and API endpoints</h2>"
   ]
  },
  {
   "cell_type": "code",
   "execution_count": 148,
   "metadata": {},
   "outputs": [],
   "source": [
    "#API URL\n",
    "DRAG_RACE_API_URL = \"http://www.nokeynoshade.party/api/\"\n",
    "\n",
    "#API Endpoints - may not need all of these in the finished product\n",
    "SEASONS = \"seasons\"\n",
    "SEASON_BY_NUMBER = \"seasons/{}\"\n",
    "QUEENS = \"queens/all\"\n",
    "QUEENS_BY_SEASON = \"seasons/{}/queens\"\n",
    "EPISODES = \"episodes\"\n",
    "EPISODES_BY_SEASON = \"seasons/{}/episodes\"\n",
    "CHALLENGES_BY_SEASON = \"seasons/{}/challenges\"\n",
    "WINNERS = \"queens/winners\"\n",
    "CHALLENGES = \"challenges\""
   ]
  },
  {
   "cell_type": "markdown",
   "metadata": {},
   "source": [
    "<h2 style=\"color:deeppink\">Define Functions</h2>"
   ]
  },
  {
   "cell_type": "code",
   "execution_count": 149,
   "metadata": {},
   "outputs": [],
   "source": [
    "def get_data(endpoint, SEASON = None):\n",
    "    data = pd.read_json(DRAG_RACE_API_URL + endpoint.format(SEASON))\n",
    "    return data\n",
    "\n",
    "# is this even necessary?\n",
    "def sqlite_query_to_df(query, db, index):\n",
    "    data = pd.read_sql(query, db).set_index(index)\n",
    "    return data"
   ]
  },
  {
   "cell_type": "markdown",
   "metadata": {},
   "source": [
    "<h2 style=\"color:deeppink\">Define SQL Queries</h2>"
   ]
  },
  {
   "cell_type": "code",
   "execution_count": 155,
   "metadata": {},
   "outputs": [],
   "source": [
    "queens_query = \"\"\"\n",
    "    SELECT id, name, quote, image_url, missCongeniality AS miss_congeniality, winner \n",
    "    FROM queens\n",
    "\"\"\""
   ]
  },
  {
   "cell_type": "markdown",
   "metadata": {},
   "source": [
    "<h2 style=\"color:deeppink\">Create raw dataframes from API endpoints</h2>"
   ]
  },
  {
   "cell_type": "code",
   "execution_count": 156,
   "metadata": {},
   "outputs": [],
   "source": [
    "raw_seasons_df = get_data(SEASONS)\n",
    "raw_queens_df = get_data(QUEENS)"
   ]
  },
  {
   "cell_type": "markdown",
   "metadata": {},
   "source": [
    "<h2 style=\"color:deeppink\">Create SQL Tables from raw dataframes</h2>"
   ]
  },
  {
   "cell_type": "code",
   "execution_count": 157,
   "metadata": {},
   "outputs": [],
   "source": [
    "#create a sqlite table 'queens' from raw data\n",
    "raw_queens_df.to_sql('queens', drag_race_data_base, if_exists=\"replace\")"
   ]
  },
  {
   "cell_type": "markdown",
   "metadata": {},
   "source": [
    "<h2 style=\"color:deeppink\">Define values used for cleanup</h2>"
   ]
  },
  {
   "cell_type": "code",
   "execution_count": null,
   "metadata": {},
   "outputs": [],
   "source": []
  },
  {
   "cell_type": "markdown",
   "metadata": {},
   "source": [
    "<h2 style=\"color:deeppink\">Clean and organize the data</h2>"
   ]
  },
  {
   "cell_type": "code",
   "execution_count": 141,
   "metadata": {},
   "outputs": [],
   "source": [
    "queens_df = pd.read_sql(queens_query, drag_race_data_base).set_index('id')"
   ]
  },
  {
   "cell_type": "markdown",
   "metadata": {},
   "source": [
    "<h2 style=\"color:deeppink\">Sandbox</h2>\n",
    "<b style=\"color:deeppink\">Use the space below to experiment. Nothing below will be included in the finished product.</b>"
   ]
  },
  {
   "cell_type": "code",
   "execution_count": 154,
   "metadata": {},
   "outputs": [
    {
     "data": {
      "text/html": [
       "<div>\n",
       "<style scoped>\n",
       "    .dataframe tbody tr th:only-of-type {\n",
       "        vertical-align: middle;\n",
       "    }\n",
       "\n",
       "    .dataframe tbody tr th {\n",
       "        vertical-align: top;\n",
       "    }\n",
       "\n",
       "    .dataframe thead th {\n",
       "        text-align: right;\n",
       "    }\n",
       "</style>\n",
       "<table border=\"1\" class=\"dataframe\">\n",
       "  <thead>\n",
       "    <tr style=\"text-align: right;\">\n",
       "      <th></th>\n",
       "      <th>name</th>\n",
       "      <th>quote</th>\n",
       "      <th>image_url</th>\n",
       "      <th>miss_congeniality</th>\n",
       "      <th>winner</th>\n",
       "    </tr>\n",
       "    <tr>\n",
       "      <th>id</th>\n",
       "      <th></th>\n",
       "      <th></th>\n",
       "      <th></th>\n",
       "      <th></th>\n",
       "      <th></th>\n",
       "    </tr>\n",
       "  </thead>\n",
       "  <tbody>\n",
       "    <tr>\n",
       "      <td>1</td>\n",
       "      <td>Victoria 'Porkchop' Parker</td>\n",
       "      <td>Would you fuck me? I'd fuck me.</td>\n",
       "      <td>http://www.nokeynoshade.party/images/victoria-...</td>\n",
       "      <td>0</td>\n",
       "      <td>0</td>\n",
       "    </tr>\n",
       "    <tr>\n",
       "      <td>2</td>\n",
       "      <td>Tammie Brown</td>\n",
       "      <td>I'm not a slut, I'm a lady. You look under my ...</td>\n",
       "      <td>http://www.nokeynoshade.party/images/tammie-br...</td>\n",
       "      <td>0</td>\n",
       "      <td>0</td>\n",
       "    </tr>\n",
       "    <tr>\n",
       "      <td>3</td>\n",
       "      <td>Akashia</td>\n",
       "      <td>If I was a girl, I'd be a stripper, or a slut ...</td>\n",
       "      <td>http://www.nokeynoshade.party/images/akashia.jpg</td>\n",
       "      <td>0</td>\n",
       "      <td>0</td>\n",
       "    </tr>\n",
       "    <tr>\n",
       "      <td>4</td>\n",
       "      <td>Jade</td>\n",
       "      <td>Jade is definitely my alter-ego, basically she...</td>\n",
       "      <td>http://www.nokeynoshade.party/images/jade.jpg</td>\n",
       "      <td>0</td>\n",
       "      <td>0</td>\n",
       "    </tr>\n",
       "    <tr>\n",
       "      <td>5</td>\n",
       "      <td>Ongina</td>\n",
       "      <td>If I don't win this, I swear to god I'm gonna ...</td>\n",
       "      <td>http://www.nokeynoshade.party/images/ongina.jpg</td>\n",
       "      <td>0</td>\n",
       "      <td>0</td>\n",
       "    </tr>\n",
       "    <tr>\n",
       "      <td>...</td>\n",
       "      <td>...</td>\n",
       "      <td>...</td>\n",
       "      <td>...</td>\n",
       "      <td>...</td>\n",
       "      <td>...</td>\n",
       "    </tr>\n",
       "    <tr>\n",
       "      <td>148</td>\n",
       "      <td>Nina West</td>\n",
       "      <td>Welcome to Season 11. It looks like things jus...</td>\n",
       "      <td>https://www.nokeynoshade.party/images/nina-wes...</td>\n",
       "      <td>1</td>\n",
       "      <td>0</td>\n",
       "    </tr>\n",
       "    <tr>\n",
       "      <td>149</td>\n",
       "      <td>Silky Nutmeg Ganache</td>\n",
       "      <td>Big Silk got the good ol' milk!</td>\n",
       "      <td>https://www.nokeynoshade.party/images/silky-nu...</td>\n",
       "      <td>0</td>\n",
       "      <td>0</td>\n",
       "    </tr>\n",
       "    <tr>\n",
       "      <td>150</td>\n",
       "      <td>A'keria Chanel Davenport</td>\n",
       "      <td>Oh yes, it's me: Miss A'keria D-A-V-E-N-P-O-R,...</td>\n",
       "      <td>https://www.nokeynoshade.party/images/akeria-c...</td>\n",
       "      <td>0</td>\n",
       "      <td>0</td>\n",
       "    </tr>\n",
       "    <tr>\n",
       "      <td>151</td>\n",
       "      <td>Brooke Lynn Hytes</td>\n",
       "      <td>Never fear, the queen of the North is here.</td>\n",
       "      <td>https://www.nokeynoshade.party/images/brooke-l...</td>\n",
       "      <td>0</td>\n",
       "      <td>0</td>\n",
       "    </tr>\n",
       "    <tr>\n",
       "      <td>152</td>\n",
       "      <td>Yvie oddly</td>\n",
       "      <td>Move over ladies, this race just took an odd t...</td>\n",
       "      <td>https://www.nokeynoshade.party/images/yvie-odd...</td>\n",
       "      <td>0</td>\n",
       "      <td>1</td>\n",
       "    </tr>\n",
       "  </tbody>\n",
       "</table>\n",
       "<p>140 rows × 5 columns</p>\n",
       "</div>"
      ],
      "text/plain": [
       "                           name  \\\n",
       "id                                \n",
       "1    Victoria 'Porkchop' Parker   \n",
       "2                  Tammie Brown   \n",
       "3                       Akashia   \n",
       "4                          Jade   \n",
       "5                        Ongina   \n",
       "..                          ...   \n",
       "148                   Nina West   \n",
       "149        Silky Nutmeg Ganache   \n",
       "150    A'keria Chanel Davenport   \n",
       "151           Brooke Lynn Hytes   \n",
       "152                  Yvie oddly   \n",
       "\n",
       "                                                 quote  \\\n",
       "id                                                       \n",
       "1                      Would you fuck me? I'd fuck me.   \n",
       "2    I'm not a slut, I'm a lady. You look under my ...   \n",
       "3    If I was a girl, I'd be a stripper, or a slut ...   \n",
       "4    Jade is definitely my alter-ego, basically she...   \n",
       "5    If I don't win this, I swear to god I'm gonna ...   \n",
       "..                                                 ...   \n",
       "148  Welcome to Season 11. It looks like things jus...   \n",
       "149                    Big Silk got the good ol' milk!   \n",
       "150  Oh yes, it's me: Miss A'keria D-A-V-E-N-P-O-R,...   \n",
       "151        Never fear, the queen of the North is here.   \n",
       "152  Move over ladies, this race just took an odd t...   \n",
       "\n",
       "                                             image_url  miss_congeniality  \\\n",
       "id                                                                          \n",
       "1    http://www.nokeynoshade.party/images/victoria-...                  0   \n",
       "2    http://www.nokeynoshade.party/images/tammie-br...                  0   \n",
       "3     http://www.nokeynoshade.party/images/akashia.jpg                  0   \n",
       "4        http://www.nokeynoshade.party/images/jade.jpg                  0   \n",
       "5      http://www.nokeynoshade.party/images/ongina.jpg                  0   \n",
       "..                                                 ...                ...   \n",
       "148  https://www.nokeynoshade.party/images/nina-wes...                  1   \n",
       "149  https://www.nokeynoshade.party/images/silky-nu...                  0   \n",
       "150  https://www.nokeynoshade.party/images/akeria-c...                  0   \n",
       "151  https://www.nokeynoshade.party/images/brooke-l...                  0   \n",
       "152  https://www.nokeynoshade.party/images/yvie-odd...                  0   \n",
       "\n",
       "     winner  \n",
       "id           \n",
       "1         0  \n",
       "2         0  \n",
       "3         0  \n",
       "4         0  \n",
       "5         0  \n",
       "..      ...  \n",
       "148       0  \n",
       "149       0  \n",
       "150       0  \n",
       "151       0  \n",
       "152       1  \n",
       "\n",
       "[140 rows x 5 columns]"
      ]
     },
     "execution_count": 154,
     "metadata": {},
     "output_type": "execute_result"
    }
   ],
   "source": [
    "queens_df"
   ]
  },
  {
   "cell_type": "code",
   "execution_count": 151,
   "metadata": {},
   "outputs": [
    {
     "data": {
      "text/html": [
       "<div>\n",
       "<style scoped>\n",
       "    .dataframe tbody tr th:only-of-type {\n",
       "        vertical-align: middle;\n",
       "    }\n",
       "\n",
       "    .dataframe tbody tr th {\n",
       "        vertical-align: top;\n",
       "    }\n",
       "\n",
       "    .dataframe thead th {\n",
       "        text-align: right;\n",
       "    }\n",
       "</style>\n",
       "<table border=\"1\" class=\"dataframe\">\n",
       "  <thead>\n",
       "    <tr style=\"text-align: right;\">\n",
       "      <th></th>\n",
       "      <th>name</th>\n",
       "      <th>quote</th>\n",
       "      <th>image_url</th>\n",
       "    </tr>\n",
       "    <tr>\n",
       "      <th>id</th>\n",
       "      <th></th>\n",
       "      <th></th>\n",
       "      <th></th>\n",
       "    </tr>\n",
       "  </thead>\n",
       "  <tbody>\n",
       "    <tr>\n",
       "      <td>12</td>\n",
       "      <td>Bebe Zahara Benet</td>\n",
       "      <td>I bring a lot of international influence, and ...</td>\n",
       "      <td>http://www.nokeynoshade.party/images/bebe-zaha...</td>\n",
       "    </tr>\n",
       "    <tr>\n",
       "      <td>24</td>\n",
       "      <td>Tyra Sanchez</td>\n",
       "      <td>I'm not a bitch. I'm America's Sweetheart.</td>\n",
       "      <td>http://www.nokeynoshade.party/images/tyra-sanc...</td>\n",
       "    </tr>\n",
       "    <tr>\n",
       "      <td>36</td>\n",
       "      <td>Raja</td>\n",
       "      <td>They're a star fucker. You're a star. Let them...</td>\n",
       "      <td>http://www.nokeynoshade.party/images/raja.jpg</td>\n",
       "    </tr>\n",
       "    <tr>\n",
       "      <td>48</td>\n",
       "      <td>Chad Michaels</td>\n",
       "      <td>Everything I've gone through in my life has be...</td>\n",
       "      <td>http://www.nokeynoshade.party/images/chad-mich...</td>\n",
       "    </tr>\n",
       "    <tr>\n",
       "      <td>49</td>\n",
       "      <td>Sharon Needles</td>\n",
       "      <td>I look spooky, but I'm really nice!... At leas...</td>\n",
       "      <td>http://www.nokeynoshade.party/images/sharon-ne...</td>\n",
       "    </tr>\n",
       "    <tr>\n",
       "      <td>62</td>\n",
       "      <td>Alaska Thunderfuck 5000</td>\n",
       "      <td>I'll send you 10,000 dollars via PayPal if you...</td>\n",
       "      <td>http://www.nokeynoshade.party/images/alaska-th...</td>\n",
       "    </tr>\n",
       "    <tr>\n",
       "      <td>63</td>\n",
       "      <td>Jinkx Monsoon</td>\n",
       "      <td>The name comes from Jinx, like you owe me a co...</td>\n",
       "      <td>http://www.nokeynoshade.party/images/jinkx-mon...</td>\n",
       "    </tr>\n",
       "    <tr>\n",
       "      <td>80</td>\n",
       "      <td>Bianca Del Rio</td>\n",
       "      <td>I will show you versatility when Santino wins ...</td>\n",
       "      <td>http://www.nokeynoshade.party/images/bianca-de...</td>\n",
       "    </tr>\n",
       "    <tr>\n",
       "      <td>89</td>\n",
       "      <td>Trixie Mattel</td>\n",
       "      <td>Alright, Public school, calm down.</td>\n",
       "      <td>http://www.nokeynoshade.party/images/trixie-ma...</td>\n",
       "    </tr>\n",
       "    <tr>\n",
       "      <td>94</td>\n",
       "      <td>Violet Chachki</td>\n",
       "      <td>Pain is beauty and I'm the prettiest.</td>\n",
       "      <td>http://www.nokeynoshade.party/images/violet-ch...</td>\n",
       "    </tr>\n",
       "    <tr>\n",
       "      <td>106</td>\n",
       "      <td>Bob the Drag Queen</td>\n",
       "      <td>Purse first! Purse first! Walk into the room p...</td>\n",
       "      <td>http://www.nokeynoshade.party/images/bob-the-d...</td>\n",
       "    </tr>\n",
       "    <tr>\n",
       "      <td>124</td>\n",
       "      <td>Sasha Velour</td>\n",
       "      <td>Don't joke about that.</td>\n",
       "      <td>http://www.nokeynoshade.party/images/sasha-vel...</td>\n",
       "    </tr>\n",
       "    <tr>\n",
       "      <td>126</td>\n",
       "      <td>Aquaria</td>\n",
       "      <td>I don't define drag, drag is defined by me.</td>\n",
       "      <td>http://www.nokeynoshade.party/images/aquaria.jpg</td>\n",
       "    </tr>\n",
       "    <tr>\n",
       "      <td>152</td>\n",
       "      <td>Yvie oddly</td>\n",
       "      <td>Move over ladies, this race just took an odd t...</td>\n",
       "      <td>https://www.nokeynoshade.party/images/yvie-odd...</td>\n",
       "    </tr>\n",
       "  </tbody>\n",
       "</table>\n",
       "</div>"
      ],
      "text/plain": [
       "                        name  \\\n",
       "id                             \n",
       "12         Bebe Zahara Benet   \n",
       "24              Tyra Sanchez   \n",
       "36                      Raja   \n",
       "48             Chad Michaels   \n",
       "49            Sharon Needles   \n",
       "62   Alaska Thunderfuck 5000   \n",
       "63             Jinkx Monsoon   \n",
       "80            Bianca Del Rio   \n",
       "89             Trixie Mattel   \n",
       "94            Violet Chachki   \n",
       "106       Bob the Drag Queen   \n",
       "124             Sasha Velour   \n",
       "126                  Aquaria   \n",
       "152               Yvie oddly   \n",
       "\n",
       "                                                 quote  \\\n",
       "id                                                       \n",
       "12   I bring a lot of international influence, and ...   \n",
       "24          I'm not a bitch. I'm America's Sweetheart.   \n",
       "36   They're a star fucker. You're a star. Let them...   \n",
       "48   Everything I've gone through in my life has be...   \n",
       "49   I look spooky, but I'm really nice!... At leas...   \n",
       "62   I'll send you 10,000 dollars via PayPal if you...   \n",
       "63   The name comes from Jinx, like you owe me a co...   \n",
       "80   I will show you versatility when Santino wins ...   \n",
       "89                  Alright, Public school, calm down.   \n",
       "94               Pain is beauty and I'm the prettiest.   \n",
       "106  Purse first! Purse first! Walk into the room p...   \n",
       "124                             Don't joke about that.   \n",
       "126        I don't define drag, drag is defined by me.   \n",
       "152  Move over ladies, this race just took an odd t...   \n",
       "\n",
       "                                             image_url  \n",
       "id                                                      \n",
       "12   http://www.nokeynoshade.party/images/bebe-zaha...  \n",
       "24   http://www.nokeynoshade.party/images/tyra-sanc...  \n",
       "36       http://www.nokeynoshade.party/images/raja.jpg  \n",
       "48   http://www.nokeynoshade.party/images/chad-mich...  \n",
       "49   http://www.nokeynoshade.party/images/sharon-ne...  \n",
       "62   http://www.nokeynoshade.party/images/alaska-th...  \n",
       "63   http://www.nokeynoshade.party/images/jinkx-mon...  \n",
       "80   http://www.nokeynoshade.party/images/bianca-de...  \n",
       "89   http://www.nokeynoshade.party/images/trixie-ma...  \n",
       "94   http://www.nokeynoshade.party/images/violet-ch...  \n",
       "106  http://www.nokeynoshade.party/images/bob-the-d...  \n",
       "124  http://www.nokeynoshade.party/images/sasha-vel...  \n",
       "126   http://www.nokeynoshade.party/images/aquaria.jpg  \n",
       "152  https://www.nokeynoshade.party/images/yvie-odd...  "
      ]
     },
     "execution_count": 151,
     "metadata": {},
     "output_type": "execute_result"
    }
   ],
   "source": [
    "winners_query = \"\"\"\n",
    "    SELECT id, name, quote, image_url\n",
    "    FROM queens\n",
    "    WHERE winner IS True\n",
    "\"\"\"\n",
    "\n",
    "winners_df = pd.read_sql(winners_query, drag_race_data_base).set_index('id')\n",
    "winners_df"
   ]
  },
  {
   "cell_type": "code",
   "execution_count": null,
   "metadata": {},
   "outputs": [],
   "source": []
  }
 ],
 "metadata": {
  "kernelspec": {
   "display_name": "Python 3",
   "language": "python",
   "name": "python3"
  },
  "language_info": {
   "codemirror_mode": {
    "name": "ipython",
    "version": 3
   },
   "file_extension": ".py",
   "mimetype": "text/x-python",
   "name": "python",
   "nbconvert_exporter": "python",
   "pygments_lexer": "ipython3",
   "version": "3.7.4"
  }
 },
 "nbformat": 4,
 "nbformat_minor": 2
}
