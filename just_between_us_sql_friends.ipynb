{
 "cells": [
  {
   "cell_type": "markdown",
   "metadata": {},
   "source": [
    "<center>\n",
    "    <h1 style=\"color:deeppink\">Just between us SQL Friends... 👑</h1>\n",
    "    <b style=\"color:deeppink\">RuPaul's Drag Race: Visualized<b>\n",
    "    <img src=\"media/header.gif\" height=\"100px\">\n",
    "</center>"
   ]
  },
  {
   "cell_type": "markdown",
   "metadata": {},
   "source": [
    "<h2 style=\"color:deeppink\">Import Libraries & Connect SQLite Database</h2>"
   ]
  },
  {
   "cell_type": "code",
   "execution_count": 14,
   "metadata": {},
   "outputs": [],
   "source": [
    "import pandas as pd\n",
    "import sqlite3\n",
    "\n",
    "drag_race_data_base = sqlite3.connect(\"drag_race_data.db\")"
   ]
  },
  {
   "cell_type": "markdown",
   "metadata": {},
   "source": [
    "<h2 style=\"color:deeppink\">Define Constants, Global Variables, and API values</h2>"
   ]
  },
  {
   "cell_type": "code",
   "execution_count": 119,
   "metadata": {},
   "outputs": [],
   "source": [
    "#API URL\n",
    "DRAG_RACE_API_URL = \"http://www.nokeynoshade.party/api/\"\n",
    "\n",
    "#API Endpoints - may not need all of these in the finished product, uncomment the endpoints that are used\n",
    "# SEASONS = \"seasons\"\n",
    "# SEASON_BY_NUMBER = \"seasons/{}\"\n",
    "# QUEENS = \"queens/all\"\n",
    "# QUEENS_BY_SEASON = \"seasons/{}/queens\"\n",
    "# EPISODES = \"episodes\"\n",
    "# EPISODES_BY_SEASON = \"seasons/{}/episodes\"\n",
    "# CHALLENGES_BY_SEASON = \"seasons/{}/challenges\""
   ]
  },
  {
   "cell_type": "markdown",
   "metadata": {},
   "source": [
    "<h2 style=\"color:deeppink\">Define Functions</h2>"
   ]
  },
  {
   "cell_type": "code",
   "execution_count": 120,
   "metadata": {},
   "outputs": [],
   "source": [
    "#pull data from the API by passing the desired endpoint and \n",
    "#     the optional SEASON argument for the endpoints that require it\n",
    "#     returns a pandas dataframe\n",
    "\n",
    "def get_data(endpoint, SEASON = None):\n",
    "    data = pd.read_json(DRAG_RACE_API_URL + endpoint.format(SEASON))\n",
    "    return data"
   ]
  },
  {
   "cell_type": "markdown",
   "metadata": {},
   "source": [
    "<h2 style=\"color:deeppink\">Define SQLite Queries</h2>"
   ]
  },
  {
   "cell_type": "code",
   "execution_count": 121,
   "metadata": {},
   "outputs": [],
   "source": [
    "sort_by_place_query = \"\"\"\n",
    "    SELECT * FROM season_1_table\n",
    "    ORDER BY place ASC\n",
    "\"\"\""
   ]
  },
  {
   "cell_type": "markdown",
   "metadata": {},
   "source": [
    "<h2 style=\"color:deeppink\">Sandbox</h2>\n",
    "<b style=\"color:deeppink\">Use this space to experiment. Nothing below will be included in the finished product.</b>"
   ]
  },
  {
   "cell_type": "code",
   "execution_count": 134,
   "metadata": {},
   "outputs": [],
   "source": [
    "seasons_data_frame = get_data(SEASONS).drop('image_url', axis=1)\n",
    "\n",
    "queens_series = seasons_data_frame['queens'].explode()"
   ]
  },
  {
   "cell_type": "code",
   "execution_count": 112,
   "metadata": {},
   "outputs": [],
   "source": [
    "# seasons_data_frame.set_index('id').to_sql('seasons_table', drag_race_data_base, if_exists='replace')"
   ]
  },
  {
   "cell_type": "code",
   "execution_count": 113,
   "metadata": {},
   "outputs": [],
   "source": [
    "# season_1_queens_list = seasons_data_frame['queens'][0]\n",
    "\n",
    "# season_1_queens_frame = pd.DataFrame(season_1_queens_list)"
   ]
  },
  {
   "cell_type": "code",
   "execution_count": 114,
   "metadata": {},
   "outputs": [],
   "source": [
    "# queens_db = season_1_queens_frame.to_sql('season_1_table', drag_race_data_base, if_exists='replace')"
   ]
  },
  {
   "cell_type": "code",
   "execution_count": 115,
   "metadata": {},
   "outputs": [],
   "source": [
    "# pd.read_sql(sort_by_place_query, drag_race_data_base).set_index('id').drop('index')"
   ]
  },
  {
   "cell_type": "code",
   "execution_count": 136,
   "metadata": {},
   "outputs": [
    {
     "data": {
      "text/plain": [
       "pandas.core.series.Series"
      ]
     },
     "execution_count": 136,
     "metadata": {},
     "output_type": "execute_result"
    }
   ],
   "source": [
    "type(queens_series)"
   ]
  },
  {
   "cell_type": "code",
   "execution_count": 137,
   "metadata": {},
   "outputs": [
    {
     "data": {
      "text/plain": [
       "0     {'id': 1, 'name': 'Victoria 'Porkchop' Parker'...\n",
       "0         {'id': 2, 'name': 'Tammie Brown', 'place': 8}\n",
       "0              {'id': 3, 'name': 'Akashia', 'place': 7}\n",
       "0                 {'id': 4, 'name': 'Jade', 'place': 6}\n",
       "0               {'id': 5, 'name': 'Ongina', 'place': 5}\n",
       "                            ...                        \n",
       "14    {'id': 142, 'name': 'Mercedes Iman Diamond', '...\n",
       "14    {'id': 141, 'name': 'Honey Davenport', 'place'...\n",
       "14    {'id': 140, 'name': 'Kahanna Montrese', 'place...\n",
       "14             {'id': 139, 'name': 'Soju', 'place': 15}\n",
       "15                                                  NaN\n",
       "Name: queens, Length: 186, dtype: object"
      ]
     },
     "execution_count": 137,
     "metadata": {},
     "output_type": "execute_result"
    }
   ],
   "source": [
    "queens_series"
   ]
  },
  {
   "cell_type": "code",
   "execution_count": null,
   "metadata": {},
   "outputs": [],
   "source": []
  }
 ],
 "metadata": {
  "kernelspec": {
   "display_name": "Python 3",
   "language": "python",
   "name": "python3"
  },
  "language_info": {
   "codemirror_mode": {
    "name": "ipython",
    "version": 3
   },
   "file_extension": ".py",
   "mimetype": "text/x-python",
   "name": "python",
   "nbconvert_exporter": "python",
   "pygments_lexer": "ipython3",
   "version": "3.7.4"
  }
 },
 "nbformat": 4,
 "nbformat_minor": 2
}
