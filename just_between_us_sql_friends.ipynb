{
 "cells": [
  {
   "cell_type": "markdown",
   "metadata": {
    "slideshow": {
     "slide_type": "-"
    }
   },
   "source": [
    "<center>\n",
    "    <h1 style=\"color:deeppink\">Just between us SQL Friends...</h1>\n",
    "    <h2 style=\"color:deeppink\">RuPaul's Drag Race: Visualized</h2>\n",
    "    <img src=\"media/header.gif\" height=\"100px\">\n",
    "</center>"
   ]
  },
  {
   "cell_type": "markdown",
   "metadata": {},
   "source": [
    "<h2 style=\"color:deeppink\">Import Libraries & Connect SQLite Database</h2>"
   ]
  },
  {
   "cell_type": "code",
   "execution_count": 47,
   "metadata": {},
   "outputs": [],
   "source": [
    "import pandas as pd\n",
    "import sqlite3\n",
    "from IPython.display import Image\n",
    "from pandas.io.json import json_normalize\n",
    "\n",
    "drag_race_data_base = sqlite3.connect(\"drag_race_data.db\")"
   ]
  },
  {
   "cell_type": "markdown",
   "metadata": {},
   "source": [
    "<h2 style=\"color:deeppink\">Define Constants, Global Variables, and API endpoints</h2>"
   ]
  },
  {
   "cell_type": "code",
   "execution_count": 48,
   "metadata": {},
   "outputs": [],
   "source": [
    "#API URL\n",
    "DRAG_RACE_API_URL = \"http://www.nokeynoshade.party/api/\"\n",
    "\n",
    "#API Endpoints - may not need all of these in the finished product\n",
    "SEASONS = \"seasons\"\n",
    "QUEENS = \"queens/all\"\n",
    "SEASON_BY_NUMBER = \"seasons/{}\""
   ]
  },
  {
   "cell_type": "markdown",
   "metadata": {},
   "source": [
    "<h2 style=\"color:deeppink\">Define Functions</h2>"
   ]
  },
  {
   "cell_type": "code",
   "execution_count": 174,
   "metadata": {},
   "outputs": [],
   "source": [
    "def get_data(endpoint, SEASON = None):\n",
    "    data = pd.read_json(DRAG_RACE_API_URL + endpoint.format(SEASON))\n",
    "    return data\n",
    "\n",
    "def get_seasons():\n",
    "    df = pd.DataFrame()\n",
    "    temp_df = pd.DataFrame()\n",
    "    for i in range(len(season_id_df)):\n",
    "        temp_df = get_data(\"seasons/{}\", i + 1)\n",
    "        temp_df = json_normalize(temp_df['queens'])\n",
    "        temp_df['season_id'] = i + 1\n",
    "        df = pd.concat([df, temp_df], sort=False)\n",
    "        i += 1\n",
    "    return df\n"
   ]
  },
  {
   "cell_type": "markdown",
   "metadata": {},
   "source": [
    "<h2 style=\"color:deeppink\">Define SQL Queries</h2>"
   ]
  },
  {
   "cell_type": "code",
   "execution_count": 187,
   "metadata": {},
   "outputs": [],
   "source": [
    "queens_query = \"\"\"\n",
    "    SELECT season_id, queens.id, name, image_url FROM seasons\n",
    "    INNER JOIN queens ON seasons.id = queens.id\n",
    "    ORDER BY season_id\n",
    "\"\"\"\n",
    "\n",
    "queens_seasons_query = \"\"\"\n",
    "    SELECT * FROM seasons\n",
    "    INNER JOIN season_ids ON seasons.season_id = season_ids.season_id\n",
    "    INNER JOIN queens ON seasons.id = queens.id\n",
    "    ORDER BY season_number, place DESC\n",
    "\n",
    "\"\"\"\n",
    "\n",
    "miss_congeniality_query = \"\"\"\n",
    "    SELECT * FROM seasons\n",
    "    INNER JOIN season_ids ON seasons.season_id = season_ids.season_id\n",
    "    INNER JOIN queens ON seasons.id = queens.id\n",
    "    WHERE missCongeniality IS True\n",
    "    ORDER BY season_id\n",
    "    \n",
    "\"\"\""
   ]
  },
  {
   "cell_type": "markdown",
   "metadata": {},
   "source": [
    "<h2 style=\"color:deeppink\">Define values used for cleanup</h2>"
   ]
  },
  {
   "cell_type": "code",
   "execution_count": 188,
   "metadata": {},
   "outputs": [],
   "source": [
    "queens_drop_cols = ['queens', 'name']"
   ]
  },
  {
   "cell_type": "markdown",
   "metadata": {},
   "source": [
    "<h2 style=\"color:deeppink\">Create raw dataframes from API endpoints</h2>"
   ]
  },
  {
   "cell_type": "code",
   "execution_count": 189,
   "metadata": {},
   "outputs": [],
   "source": [
    "raw_seasons_df = get_data(SEASONS)\n",
    "raw_queens_df = get_data(QUEENS)"
   ]
  },
  {
   "cell_type": "markdown",
   "metadata": {},
   "source": [
    "<h2 style=\"color:deeppink\">Clean and organize the data</h2>"
   ]
  },
  {
   "cell_type": "code",
   "execution_count": 190,
   "metadata": {},
   "outputs": [],
   "source": [
    "# create the season_id_df to look up season numbers by id\n",
    "season_id_series = raw_seasons_df['id']\n",
    "season_number_series = raw_seasons_df['seasonNumber']\n",
    "seasons_dict = {\"season_id\":season_id_series, \"season_number\": season_number_series}\n",
    "\n",
    "season_id_df = pd.DataFrame(seasons_dict)"
   ]
  },
  {
   "cell_type": "markdown",
   "metadata": {},
   "source": [
    "<h2 style=\"color:deeppink\">Create SQL Tables</h2>"
   ]
  },
  {
   "cell_type": "code",
   "execution_count": 191,
   "metadata": {},
   "outputs": [],
   "source": [
    "# queens table\n",
    "raw_queens_df.to_sql('queens', drag_race_data_base, if_exists='replace')\n",
    "\n",
    "# seasons table\n",
    "seasons_df = get_seasons().set_index('id').drop(queens_drop_cols, axis=1)\n",
    "seasons_df.to_sql('seasons', drag_race_data_base, if_exists = 'replace')\n",
    "\n",
    "# season_ids table\n",
    "season_id_df.to_sql('season_ids', drag_race_data_base, if_exists='replace')"
   ]
  },
  {
   "cell_type": "markdown",
   "metadata": {},
   "source": [
    "<h2 style=\"color:deeppink\">Sandbox</h2>\n",
    "<b style=\"color:deeppink\">Use the space below to experiment. Nothing below will be included in the finished product.</b>"
   ]
  },
  {
   "cell_type": "code",
   "execution_count": 198,
   "metadata": {},
   "outputs": [
    {
     "data": {
      "text/html": [
       "<div>\n",
       "<style scoped>\n",
       "    .dataframe tbody tr th:only-of-type {\n",
       "        vertical-align: middle;\n",
       "    }\n",
       "\n",
       "    .dataframe tbody tr th {\n",
       "        vertical-align: top;\n",
       "    }\n",
       "\n",
       "    .dataframe thead th {\n",
       "        text-align: right;\n",
       "    }\n",
       "</style>\n",
       "<table border=\"1\" class=\"dataframe\">\n",
       "  <thead>\n",
       "    <tr style=\"text-align: right;\">\n",
       "      <th></th>\n",
       "      <th>id</th>\n",
       "      <th>place</th>\n",
       "      <th>season_id</th>\n",
       "      <th>index</th>\n",
       "      <th>season_id</th>\n",
       "      <th>season_number</th>\n",
       "      <th>index</th>\n",
       "      <th>id</th>\n",
       "      <th>name</th>\n",
       "      <th>winner</th>\n",
       "      <th>missCongeniality</th>\n",
       "      <th>image_url</th>\n",
       "      <th>quote</th>\n",
       "    </tr>\n",
       "  </thead>\n",
       "  <tbody>\n",
       "    <tr>\n",
       "      <td>0</td>\n",
       "      <td>1.0</td>\n",
       "      <td>9.0</td>\n",
       "      <td>1</td>\n",
       "      <td>0</td>\n",
       "      <td>1</td>\n",
       "      <td>1</td>\n",
       "      <td>0</td>\n",
       "      <td>1</td>\n",
       "      <td>Victoria 'Porkchop' Parker</td>\n",
       "      <td>0</td>\n",
       "      <td>0</td>\n",
       "      <td>http://www.nokeynoshade.party/images/victoria-...</td>\n",
       "      <td>Would you fuck me? I'd fuck me.</td>\n",
       "    </tr>\n",
       "    <tr>\n",
       "      <td>1</td>\n",
       "      <td>2.0</td>\n",
       "      <td>8.0</td>\n",
       "      <td>1</td>\n",
       "      <td>0</td>\n",
       "      <td>1</td>\n",
       "      <td>1</td>\n",
       "      <td>1</td>\n",
       "      <td>2</td>\n",
       "      <td>Tammie Brown</td>\n",
       "      <td>0</td>\n",
       "      <td>0</td>\n",
       "      <td>http://www.nokeynoshade.party/images/tammie-br...</td>\n",
       "      <td>I'm not a slut, I'm a lady. You look under my ...</td>\n",
       "    </tr>\n",
       "    <tr>\n",
       "      <td>2</td>\n",
       "      <td>3.0</td>\n",
       "      <td>7.0</td>\n",
       "      <td>1</td>\n",
       "      <td>0</td>\n",
       "      <td>1</td>\n",
       "      <td>1</td>\n",
       "      <td>2</td>\n",
       "      <td>3</td>\n",
       "      <td>Akashia</td>\n",
       "      <td>0</td>\n",
       "      <td>0</td>\n",
       "      <td>http://www.nokeynoshade.party/images/akashia.jpg</td>\n",
       "      <td>If I was a girl, I'd be a stripper, or a slut ...</td>\n",
       "    </tr>\n",
       "    <tr>\n",
       "      <td>3</td>\n",
       "      <td>4.0</td>\n",
       "      <td>6.0</td>\n",
       "      <td>1</td>\n",
       "      <td>0</td>\n",
       "      <td>1</td>\n",
       "      <td>1</td>\n",
       "      <td>3</td>\n",
       "      <td>4</td>\n",
       "      <td>Jade</td>\n",
       "      <td>0</td>\n",
       "      <td>0</td>\n",
       "      <td>http://www.nokeynoshade.party/images/jade.jpg</td>\n",
       "      <td>Jade is definitely my alter-ego, basically she...</td>\n",
       "    </tr>\n",
       "    <tr>\n",
       "      <td>4</td>\n",
       "      <td>5.0</td>\n",
       "      <td>5.0</td>\n",
       "      <td>1</td>\n",
       "      <td>0</td>\n",
       "      <td>1</td>\n",
       "      <td>1</td>\n",
       "      <td>4</td>\n",
       "      <td>5</td>\n",
       "      <td>Ongina</td>\n",
       "      <td>0</td>\n",
       "      <td>0</td>\n",
       "      <td>http://www.nokeynoshade.party/images/ongina.jpg</td>\n",
       "      <td>If I don't win this, I swear to god I'm gonna ...</td>\n",
       "    </tr>\n",
       "    <tr>\n",
       "      <td>...</td>\n",
       "      <td>...</td>\n",
       "      <td>...</td>\n",
       "      <td>...</td>\n",
       "      <td>...</td>\n",
       "      <td>...</td>\n",
       "      <td>...</td>\n",
       "      <td>...</td>\n",
       "      <td>...</td>\n",
       "      <td>...</td>\n",
       "      <td>...</td>\n",
       "      <td>...</td>\n",
       "      <td>...</td>\n",
       "      <td>...</td>\n",
       "    </tr>\n",
       "    <tr>\n",
       "      <td>180</td>\n",
       "      <td>46.0</td>\n",
       "      <td>5.0</td>\n",
       "      <td>14</td>\n",
       "      <td>12</td>\n",
       "      <td>14</td>\n",
       "      <td>A4</td>\n",
       "      <td>42</td>\n",
       "      <td>46</td>\n",
       "      <td>Latrice Royale</td>\n",
       "      <td>0</td>\n",
       "      <td>1</td>\n",
       "      <td>http://www.nokeynoshade.party/images/latrice-r...</td>\n",
       "      <td>Jesus is a biscuit! Let him sop you up!</td>\n",
       "    </tr>\n",
       "    <tr>\n",
       "      <td>181</td>\n",
       "      <td>104.0</td>\n",
       "      <td>4.0</td>\n",
       "      <td>14</td>\n",
       "      <td>12</td>\n",
       "      <td>14</td>\n",
       "      <td>A4</td>\n",
       "      <td>97</td>\n",
       "      <td>104</td>\n",
       "      <td>Naomi Smalls</td>\n",
       "      <td>0</td>\n",
       "      <td>0</td>\n",
       "      <td>http://www.nokeynoshade.party/images/naomi-sma...</td>\n",
       "      <td>Check your lipstick before you come for me.</td>\n",
       "    </tr>\n",
       "    <tr>\n",
       "      <td>182</td>\n",
       "      <td>136.0</td>\n",
       "      <td>3.0</td>\n",
       "      <td>14</td>\n",
       "      <td>12</td>\n",
       "      <td>14</td>\n",
       "      <td>A4</td>\n",
       "      <td>123</td>\n",
       "      <td>136</td>\n",
       "      <td>Monique Heart</td>\n",
       "      <td>0</td>\n",
       "      <td>0</td>\n",
       "      <td>http://www.nokeynoshade.party/images/monique-h...</td>\n",
       "      <td>Cat kitty cat cat cat cat. Cat kitty cat cat c...</td>\n",
       "    </tr>\n",
       "    <tr>\n",
       "      <td>183</td>\n",
       "      <td>123.0</td>\n",
       "      <td>1.0</td>\n",
       "      <td>14</td>\n",
       "      <td>12</td>\n",
       "      <td>14</td>\n",
       "      <td>A4</td>\n",
       "      <td>110</td>\n",
       "      <td>123</td>\n",
       "      <td>Trinity Taylor</td>\n",
       "      <td>0</td>\n",
       "      <td>0</td>\n",
       "      <td>http://www.nokeynoshade.party/images/trinity-t...</td>\n",
       "      <td>I have 50 units of botox in my face, I don't k...</td>\n",
       "    </tr>\n",
       "    <tr>\n",
       "      <td>184</td>\n",
       "      <td>130.0</td>\n",
       "      <td>1.0</td>\n",
       "      <td>14</td>\n",
       "      <td>12</td>\n",
       "      <td>14</td>\n",
       "      <td>A4</td>\n",
       "      <td>117</td>\n",
       "      <td>130</td>\n",
       "      <td>Monet X Change</td>\n",
       "      <td>0</td>\n",
       "      <td>1</td>\n",
       "      <td>http://www.nokeynoshade.party/images/monet_x_c...</td>\n",
       "      <td>Oh, don't mind me. I just came here to sweep u...</td>\n",
       "    </tr>\n",
       "  </tbody>\n",
       "</table>\n",
       "<p>185 rows × 13 columns</p>\n",
       "</div>"
      ],
      "text/plain": [
       "        id  place  season_id  index  season_id season_number  index   id  \\\n",
       "0      1.0    9.0          1      0          1             1      0    1   \n",
       "1      2.0    8.0          1      0          1             1      1    2   \n",
       "2      3.0    7.0          1      0          1             1      2    3   \n",
       "3      4.0    6.0          1      0          1             1      3    4   \n",
       "4      5.0    5.0          1      0          1             1      4    5   \n",
       "..     ...    ...        ...    ...        ...           ...    ...  ...   \n",
       "180   46.0    5.0         14     12         14            A4     42   46   \n",
       "181  104.0    4.0         14     12         14            A4     97  104   \n",
       "182  136.0    3.0         14     12         14            A4    123  136   \n",
       "183  123.0    1.0         14     12         14            A4    110  123   \n",
       "184  130.0    1.0         14     12         14            A4    117  130   \n",
       "\n",
       "                           name  winner  missCongeniality  \\\n",
       "0    Victoria 'Porkchop' Parker       0                 0   \n",
       "1                  Tammie Brown       0                 0   \n",
       "2                       Akashia       0                 0   \n",
       "3                          Jade       0                 0   \n",
       "4                        Ongina       0                 0   \n",
       "..                          ...     ...               ...   \n",
       "180              Latrice Royale       0                 1   \n",
       "181                Naomi Smalls       0                 0   \n",
       "182               Monique Heart       0                 0   \n",
       "183              Trinity Taylor       0                 0   \n",
       "184              Monet X Change       0                 1   \n",
       "\n",
       "                                             image_url  \\\n",
       "0    http://www.nokeynoshade.party/images/victoria-...   \n",
       "1    http://www.nokeynoshade.party/images/tammie-br...   \n",
       "2     http://www.nokeynoshade.party/images/akashia.jpg   \n",
       "3        http://www.nokeynoshade.party/images/jade.jpg   \n",
       "4      http://www.nokeynoshade.party/images/ongina.jpg   \n",
       "..                                                 ...   \n",
       "180  http://www.nokeynoshade.party/images/latrice-r...   \n",
       "181  http://www.nokeynoshade.party/images/naomi-sma...   \n",
       "182  http://www.nokeynoshade.party/images/monique-h...   \n",
       "183  http://www.nokeynoshade.party/images/trinity-t...   \n",
       "184  http://www.nokeynoshade.party/images/monet_x_c...   \n",
       "\n",
       "                                                 quote  \n",
       "0                      Would you fuck me? I'd fuck me.  \n",
       "1    I'm not a slut, I'm a lady. You look under my ...  \n",
       "2    If I was a girl, I'd be a stripper, or a slut ...  \n",
       "3    Jade is definitely my alter-ego, basically she...  \n",
       "4    If I don't win this, I swear to god I'm gonna ...  \n",
       "..                                                 ...  \n",
       "180            Jesus is a biscuit! Let him sop you up!  \n",
       "181        Check your lipstick before you come for me.  \n",
       "182  Cat kitty cat cat cat cat. Cat kitty cat cat c...  \n",
       "183  I have 50 units of botox in my face, I don't k...  \n",
       "184  Oh, don't mind me. I just came here to sweep u...  \n",
       "\n",
       "[185 rows x 13 columns]"
      ]
     },
     "execution_count": 198,
     "metadata": {},
     "output_type": "execute_result"
    }
   ],
   "source": [
    "RUN_THIS_QUERY = queens_seasons_query\n",
    "\n",
    "pd.read_sql(RUN_THIS_QUERY, drag_race_data_base)"
   ]
  },
  {
   "cell_type": "code",
   "execution_count": 207,
   "metadata": {},
   "outputs": [],
   "source": [
    "# Export the test query to a .csv file\n",
    "pd.read_sql(RUN_THIS_QUERY, drag_race_data_base).to_csv('output.csv', index=True)  "
   ]
  },
  {
   "cell_type": "code",
   "execution_count": null,
   "metadata": {},
   "outputs": [],
   "source": []
  },
  {
   "cell_type": "code",
   "execution_count": null,
   "metadata": {},
   "outputs": [],
   "source": []
  }
 ],
 "metadata": {
  "kernelspec": {
   "display_name": "Python 3",
   "language": "python",
   "name": "python3"
  },
  "language_info": {
   "codemirror_mode": {
    "name": "ipython",
    "version": 3
   },
   "file_extension": ".py",
   "mimetype": "text/x-python",
   "name": "python",
   "nbconvert_exporter": "python",
   "pygments_lexer": "ipython3",
   "version": "3.7.4"
  }
 },
 "nbformat": 4,
 "nbformat_minor": 4
}
