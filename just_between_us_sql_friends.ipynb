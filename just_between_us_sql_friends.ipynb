{
 "cells": [
  {
   "cell_type": "markdown",
   "metadata": {
    "slideshow": {
     "slide_type": "-"
    }
   },
   "source": [
    "\n",
    "<center>\n",
    "    <h1 style=\"color:deeppink\">Just between us SQL Friends...</h1>\n",
    "    <h2 style=\"color:deeppink\">RuPaul's Drag Race: Visualized</h2>\n",
    "    <img src=\"media/header.gif\" height=\"100px\">\n",
    "</center>"
   ]
  },
  {
   "cell_type": "markdown",
   "metadata": {},
   "source": [
    "<h2 style=\"color:deeppink\">Check Dependencies, Import Libraries, and Connect SQLite Database</h2>"
   ]
  },
  {
   "cell_type": "code",
   "execution_count": 1,
   "metadata": {},
   "outputs": [],
   "source": [
    "from time import sleep\n",
    "from IPython.display import clear_output, Image\n",
    "import sys\n",
    "from helper import *\n",
    "\n",
    "try:\n",
    "    import pandas as pd\n",
    "    from pandas.io.json import json_normalize\n",
    "    import sqlite3\n",
    "    import matplotlib.pyplot as plt\n",
    "    from bokeh.plotting import ColumnDataSource, figure, show, output_notebook\n",
    "except ImportError as e:\n",
    "    pass\n",
    "\n",
    "drag_race_data_base = sqlite3.connect(\"drag_race_data.db\")"
   ]
  },
  {
   "cell_type": "code",
   "execution_count": 2,
   "metadata": {},
   "outputs": [
    {
     "name": "stdout",
     "output_type": "stream",
     "text": [
      "The following libraries are missing:\n",
      "-  hamburger\n",
      "\n",
      "Before proceeding, please run the INSTALL/UPDATE DEPENDENCIES cell\n",
      "\tat the bottom of this notebook.\n"
     ]
    }
   ],
   "source": [
    "check_dependencies(['pandas', 'sqlite3', 'bokeh', 'matplotlib'])"
   ]
  },
  {
   "cell_type": "markdown",
   "metadata": {},
   "source": [
    "<h2 style=\"color:deeppink\">Define Constants, Global Variables, and API endpoints</h2>"
   ]
  },
  {
   "cell_type": "code",
   "execution_count": null,
   "metadata": {},
   "outputs": [],
   "source": [
    "DRAG_RACE_API_URL = \"http://www.nokeynoshade.party/api/\"\n",
    "\n",
    "#API Endpoints\n",
    "QUEENS = \"queens/all\"\n",
    "SEASONS = \"seasons\"\n",
    "SEASON_BY_NUMBER = \"seasons/{}\"\n",
    "ALL_CHALLENGES = \"challenges\"\n",
    "CHALLENGE_BY_NUMBER = \"challenges/{}\"\n",
    "CHALLENGES_BY_QUEEN_ID = \"queens/{}/challenges\"\n",
    "CHALLENGES_BY_SEASON = \"seasons/{}/challenges\""
   ]
  },
  {
   "cell_type": "markdown",
   "metadata": {},
   "source": [
    "<h2 style=\"color:deeppink\">Define Functions</h2>"
   ]
  },
  {
   "cell_type": "code",
   "execution_count": null,
   "metadata": {},
   "outputs": [],
   "source": [
    "#some, not all, api endpoints require a season_id number... we'll make that argument optional.\n",
    "def get_data(endpoint, SEASON = None):\n",
    "    df = pd.read_json(DRAG_RACE_API_URL + endpoint.format(SEASON))\n",
    "    return df\n",
    "\n",
    "\n",
    "def get_seasons():\n",
    "    df = pd.DataFrame()\n",
    "    temp_df = pd.DataFrame()\n",
    "    for i in range(len(season_id_df)):\n",
    "        temp_df = get_data(SEASON_BY_NUMBER, i +1)\n",
    "        temp_df = json_normalize(temp_df['queens'])\n",
    "        temp_df['season_id'] = i + 1\n",
    "        df = pd.concat([df, temp_df], sort=False)\n",
    "        i += 1\n",
    "    return df\n",
    "\n",
    "\n",
    "def get_challenges():\n",
    "    df = pd.DataFrame()\n",
    "    temp_df = pd.DataFrame()\n",
    "    for i in range(15):\n",
    "        temp_df = get_data(CHALLENGES_BY_SEASON, i + 1)\n",
    "        temp_df['season_id'] = i + 1\n",
    "        df = pd.concat([df, temp_df], sort=False)\n",
    "        i += 1\n",
    "    return df\n",
    "\n",
    "\n",
    "def get_image_urls(data_set):\n",
    "    images = []\n",
    "    for i in range(len(data_set['image_url'])):\n",
    "        images.append(Image(url = data_set['image_url'][i], width = 50))\n",
    "        i += 1\n",
    "    return images\n",
    "\n",
    "\n",
    "def display_images(images):\n",
    "    for image in images:\n",
    "        display(image)"
   ]
  },
  {
   "cell_type": "markdown",
   "metadata": {},
   "source": [
    "<h2 style=\"color:deeppink\">Define SQL Queries</h2>"
   ]
  },
  {
   "cell_type": "code",
   "execution_count": null,
   "metadata": {},
   "outputs": [],
   "source": [
    "SELECT_QUEENS = \"\"\"\n",
    "    SELECT queens.id, name, season_number, place, winner, missCongeniality AS miss_congeniality, image_url, quote FROM seasons\n",
    "    INNER JOIN season_ids ON seasons.season_id = season_ids.season_id\n",
    "    INNER JOIN queens ON seasons.id = queens.id\n",
    "\"\"\"\n",
    "\n",
    "all_queens_query = SELECT_QUEENS + \"\"\"\n",
    "    ORDER BY season_number, place DESC\n",
    "\"\"\"\n",
    "\n",
    "\n",
    "all_stars_query = SELECT_QUEENS + \"\"\"\n",
    "    WHERE season_number LIKE \"%A%\"\n",
    "    ORDER BY season_number, place DESC\n",
    "\"\"\"\n",
    "\n",
    "\n",
    "main_seasons_query = SELECT_QUEENS + \"\"\"\n",
    "    WHERE season_number NOT LIKE \"A%\" \n",
    "    ORDER BY season_number, place DESC\n",
    "\"\"\"\n",
    "\n",
    "\n",
    "main_season_winners_query = SELECT_QUEENS + \"\"\"\n",
    "    WHERE winner IS True AND season_number NOT LIKE \"A%\" AND place = 1\n",
    "\"\"\"\n",
    "\n",
    "\n",
    "all_stars_winners_query = SELECT_QUEENS + \"\"\"\n",
    "    WHERE season_number LIKE \"A%\" AND place = 1\n",
    "\"\"\"\n",
    "\n",
    "\n",
    "miss_congeniality_query = SELECT_QUEENS + \"\"\"\n",
    "    WHERE missCongeniality IS True\n",
    "    ORDER BY season_id\"\"\"\n",
    "\n",
    "main_challenge_wins_query = \"\"\"\n",
    "    SELECT name, count(won) AS wins\n",
    "    FROM challenges\n",
    "    WHERE won IS True\n",
    "    GROUP BY name\n",
    "    ORDER BY wins DESC\n",
    "    LIMIT 10\n",
    "\"\"\"\n",
    "\n",
    "all_stars_performance_query = \"\"\"\n",
    "    SELECT main_seasons_queens.id, \n",
    "            main_seasons_queens.name, \n",
    "            main_seasons_queens.season_number AS \"Main Season Number\", \n",
    "            main_seasons_queens.place AS \"Main Season Place\", \n",
    "            all_stars_queens.season_number AS \"All Stars Season Number\",\n",
    "            all_stars_queens.place AS \"All Stars Place\",\n",
    "            main_seasons_queens.image_url,\n",
    "            main_seasons_queens.quote\n",
    "    FROM main_seasons_queens\n",
    "    INNER JOIN all_stars_queens ON main_seasons_queens.id = all_stars_queens.id\n",
    "\"\"\""
   ]
  },
  {
   "cell_type": "markdown",
   "metadata": {},
   "source": [
    "<h2 style=\"color:deeppink\">Define values used for cleanup</h2>"
   ]
  },
  {
   "cell_type": "code",
   "execution_count": null,
   "metadata": {},
   "outputs": [],
   "source": [
    "queens_drop_cols = ['queens', 'name']"
   ]
  },
  {
   "cell_type": "markdown",
   "metadata": {},
   "source": [
    "<h2 style=\"color:deeppink\">Create raw dataframes from API endpoints</h2>"
   ]
  },
  {
   "cell_type": "code",
   "execution_count": null,
   "metadata": {},
   "outputs": [],
   "source": [
    "raw_seasons_df = get_data(SEASONS)\n",
    "raw_queens_df = get_data(QUEENS)\n",
    "\n",
    "# create season_id_df to look up season numbers by id\n",
    "season_id_df = pd.DataFrame({\"season_id\": raw_seasons_df['id'], \"season_number\": raw_seasons_df['seasonNumber']})"
   ]
  },
  {
   "cell_type": "markdown",
   "metadata": {},
   "source": [
    "<h2 style=\"color:deeppink\">Create SQL Tables</h2>"
   ]
  },
  {
   "cell_type": "code",
   "execution_count": null,
   "metadata": {},
   "outputs": [],
   "source": [
    "# queens table\n",
    "raw_queens_df.to_sql('queens', drag_race_data_base, if_exists='replace')\n",
    "\n",
    "# seasons table\n",
    "seasons_df = get_seasons().set_index('id').drop(queens_drop_cols, axis=1)\n",
    "seasons_df.to_sql('seasons', drag_race_data_base, if_exists = 'replace')\n",
    "\n",
    "# season_ids table\n",
    "season_id_df.to_sql('season_ids', drag_race_data_base, if_exists='replace')\n",
    "\n",
    "#challenges table\n",
    "main_challenges = get_challenges()[get_challenges().type.eq('main')]\n",
    "json_normalize(main_challenges['queens'].explode()).to_sql('challenges', drag_race_data_base, if_exists=\"replace\")"
   ]
  },
  {
   "cell_type": "markdown",
   "metadata": {},
   "source": [
    "<h2 style=\"color:deeppink\">Create DataFrames from the SQL Tables</h2>"
   ]
  },
  {
   "cell_type": "code",
   "execution_count": null,
   "metadata": {},
   "outputs": [],
   "source": [
    "#FIX THE SORTING FOR main_seasons... needs to be sorted by season ascending, then place descending. \n",
    "# the dtype change is what is causing the trouble\n",
    "\n",
    "#all queens, ranked\n",
    "main_seasons_df = pd.read_sql(main_seasons_query, drag_race_data_base).astype({'season_number':'int32'}).sort_values(by=['season_number']).set_index('id')\n",
    "all_stars_df = pd.read_sql(all_stars_query, drag_race_data_base).sort_values(by=['season_number'])\n",
    "\n",
    "#winners\n",
    "main_season_winners_df = pd.read_sql(main_season_winners_query, drag_race_data_base).astype({'season_number':'int32'}).sort_values(by=['season_number'])\n",
    "all_stars_winners_df = pd.read_sql(all_stars_winners_query, drag_race_data_base).sort_values(by=['season_number'])\n",
    "#for some reason, Trinity and Monet X Change are not marked as AS 4 winners... The shade...\n",
    "all_stars_winners_df['winner'] = 1\n",
    "\n",
    "#most main challenge wins\n",
    "top_ten_main_challenge_wins_df = pd.read_sql(main_challenge_wins_query, drag_race_data_base)\n",
    "\n",
    "\n",
    "#queens performance in all stars as related to their main season performance\n",
    "all_stars_performance_df = pd.read_sql(all_stars_performance_query, drag_race_data_base)"
   ]
  },
  {
   "cell_type": "markdown",
   "metadata": {},
   "source": [
    "<h2 style=\"color:deeppink\">Create more specific SQL Tables</h2>"
   ]
  },
  {
   "cell_type": "code",
   "execution_count": null,
   "metadata": {},
   "outputs": [],
   "source": [
    "# all_stars_winners_df.to_sql('all_stars_winners', drag_race_data_base, if_exists='replace')\n",
    "main_seasons_df.to_sql('main_seasons_queens', drag_race_data_base, if_exists='replace')\n",
    "all_stars_df.to_sql('all_stars_queens', drag_race_data_base, if_exists='replace')"
   ]
  },
  {
   "cell_type": "markdown",
   "metadata": {},
   "source": [
    "<h2 style=\"color:deeppink\">Bring back my girls...</h2>"
   ]
  },
  {
   "cell_type": "markdown",
   "metadata": {},
   "source": [
    "<b style=\"color:deeppink\">Display photos of Main Season winners</b>"
   ]
  },
  {
   "cell_type": "code",
   "execution_count": null,
   "metadata": {},
   "outputs": [],
   "source": [
    "# #TO DO: I'd like to show all of the images, but can this be done inline? Research says subplots may be a good answer\n",
    "display_images(get_image_urls(main_season_winners_df))"
   ]
  },
  {
   "cell_type": "markdown",
   "metadata": {},
   "source": [
    "<h2 style=\"color:deeppink\">Bring back my All Stars...</h2>\n",
    "<b style=\"color:deeppink\">Display photos of All Stars season winners</b>"
   ]
  },
  {
   "cell_type": "code",
   "execution_count": null,
   "metadata": {},
   "outputs": [],
   "source": [
    "# #TO DO: I'd like to show all of the images, but can this be done inline? Research says subplots may be a good answer\n",
    "display_images(get_image_urls(all_stars_winners_df))"
   ]
  },
  {
   "cell_type": "markdown",
   "metadata": {},
   "source": [
    "<h2 style=\"color:deeppink\">The Winners' Circle</h2>\n",
    "<b style=\"color:deeppink\">Show the number of Main Challenge Wins for the Top 10 Queens </b>"
   ]
  },
  {
   "cell_type": "code",
   "execution_count": null,
   "metadata": {},
   "outputs": [],
   "source": [
    "top_ten_main_challenge_wins_df.plot.bar(x=\"name\", y=\"wins\", color=\"deeppink\", figsize=(30, 10), title=\"Most Main Challenge Wins\")"
   ]
  },
  {
   "cell_type": "markdown",
   "metadata": {},
   "source": [
    "<h2 style=\"color:deeppink\">How'd they do?</h2>\n",
    "<b style=\"color:deeppink\">Use a Bokeh scatter plot to show the relationship between a queen's place in their Main Season and their place in All Stars</b>"
   ]
  },
  {
   "cell_type": "code",
   "execution_count": null,
   "metadata": {},
   "outputs": [],
   "source": [
    "TOOLTIP = \"\"\"\n",
    "    <div>\n",
    "        <div>\n",
    "            <img\n",
    "                src=\"@imgs\" alt=\"@imgs\" width=\"100\"\n",
    "                style=\" margin: 0px 15px 15px 0px;\"\n",
    "                border=\"2\"\n",
    "            ></img>\n",
    "        </div>\n",
    "        <div>\n",
    "            <span style=\"font-size: 17px; font-weight: bold; color:deeppink\">@name</span>\n",
    "        </div>\n",
    "        <div style=\"width:150px\">\n",
    "            <span style=\"font-size: 10px; color: deeppink;\">Season @season: $x{0}</span><br/>\n",
    "            <span style=\"font-size: 10px; color: deeppink;\">All Stars @as_season: $y{0}</span><br />\n",
    "        </div>\n",
    "    </div>\n",
    "\"\"\"\n",
    "\n",
    "TOOLS = []"
   ]
  },
  {
   "cell_type": "code",
   "execution_count": null,
   "metadata": {},
   "outputs": [],
   "source": [
    "df = all_stars_performance_df\n",
    "source = ColumnDataSource(data=dict(\n",
    "    x = df[\"Main Season Place\"].astype('int8'), \n",
    "    y = df[\"All Stars Place\"].astype('int8'),\n",
    "    name=list(df['name']),\n",
    "    imgs=list(df['image_url']),\n",
    "    quote=list(df['quote']),\n",
    "    season=list(df['Main Season Number']),\n",
    "    as_season=list(df['All Stars Season Number'])\n",
    "))\n",
    "\n",
    "p = figure(plot_width=800, plot_height=800, \n",
    "           tooltips=TOOLTIP,\n",
    "           title=\"Main Season Performance vs. All Stars Performance\", \n",
    "           tools = TOOLS, background_fill_color=\"#FF8ADA\", \n",
    "           x_axis_label='Main Season Place', \n",
    "           y_axis_label='All Stars Place',\n",
    "           outline_line_dash_offset=1)\n",
    "\n",
    "p.scatter('x', 'y', fill_color=\"darkviolet\", size=15, fill_alpha=0.75,\n",
    "          line_color=None, source=source)\n",
    "\n",
    "output_notebook()\n",
    "show(p)"
   ]
  },
  {
   "cell_type": "markdown",
   "metadata": {},
   "source": [
    "<h2 style=\"color:deeppink\">Install/Update Dependencies</h2>\n",
    "<b style=\"color:deeppink\">The cell below will check the Conda environment for the required libraries for this project and update/install any missing libraries.<br />(WARNING: This may take a couple of minutes to complete!)</b>"
   ]
  },
  {
   "cell_type": "code",
   "execution_count": null,
   "metadata": {},
   "outputs": [],
   "source": [
    "print('Checking pandas')\n",
    "!conda install --yes --prefix {sys.prefix} pandas\n",
    "clear_output()\n",
    "print('Checking sqlite3')\n",
    "!conda install --yes --prefix {sys.prefix} sqlite3\n",
    "clear_output()\n",
    "print('Checking matplotlib')\n",
    "!conda install --yes --prefix {sys.prefix} matplotlib\n",
    "clear_output()\n",
    "print('Checking bokeh')\n",
    "!conda install --yes --prefix {sys.prefix} bokeh\n",
    "clear_output()\n",
    "print('CONDRAGULATIONS... All required libraries are ready to use!')"
   ]
  },
  {
   "cell_type": "code",
   "execution_count": null,
   "metadata": {},
   "outputs": [],
   "source": []
  }
 ],
 "metadata": {
  "kernelspec": {
   "display_name": "Python 3",
   "language": "python",
   "name": "python3"
  },
  "language_info": {
   "codemirror_mode": {
    "name": "ipython",
    "version": 3
   },
   "file_extension": ".py",
   "mimetype": "text/x-python",
   "name": "python",
   "nbconvert_exporter": "python",
   "pygments_lexer": "ipython3",
   "version": "3.7.4"
  }
 },
 "nbformat": 4,
 "nbformat_minor": 4
}
