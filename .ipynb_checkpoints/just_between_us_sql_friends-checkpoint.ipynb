{
 "cells": [
  {
   "cell_type": "markdown",
   "metadata": {},
   "source": [
    "<h2>Import Libraries & Connect SQLite Database</h2>"
   ]
  },
  {
   "cell_type": "code",
   "execution_count": 84,
   "metadata": {},
   "outputs": [],
   "source": [
    "import pandas as pd\n",
    "import sqlite3\n",
    "\n",
    "drag_race_data_base = sqlite3.connect(\"drag_race_data.db\")"
   ]
  },
  {
   "cell_type": "markdown",
   "metadata": {},
   "source": [
    "<h2>Define Constants, Global Variables, and API values</h2>"
   ]
  },
  {
   "cell_type": "code",
   "execution_count": 85,
   "metadata": {},
   "outputs": [],
   "source": [
    "#API URL\n",
    "DRAG_RACE_API = \"http://www.nokeynoshade.party/api/\"\n",
    "\n",
    "#API Endpoints\n",
    "QUEENS_BY_SEASON = \"seasons/{}/queens\"\n",
    "QUEENS = \"queens/all\"\n",
    "EPISODES = \"episodes\""
   ]
  },
  {
   "cell_type": "markdown",
   "metadata": {},
   "source": [
    "<h2>Define Functions</h2>"
   ]
  },
  {
   "cell_type": "code",
   "execution_count": 86,
   "metadata": {},
   "outputs": [],
   "source": [
    "def get_queens():\n",
    "    data = pd.read_json(DRAG_RACE_API + QUEENS)\n",
    "    return data"
   ]
  },
  {
   "cell_type": "markdown",
   "metadata": {},
   "source": [
    "<h2>Define SQLite Queries</h2>"
   ]
  },
  {
   "cell_type": "code",
   "execution_count": 80,
   "metadata": {},
   "outputs": [],
   "source": [
    "my_query = \"\"\"\n",
    "    SELECT * FROM queens_table;\n",
    "\"\"\""
   ]
  },
  {
   "cell_type": "code",
   "execution_count": 78,
   "metadata": {},
   "outputs": [],
   "source": [
    "get_queens().to_sql('queens_table', drag_race_data_base, if_exists = 'replace')"
   ]
  },
  {
   "cell_type": "code",
   "execution_count": 81,
   "metadata": {},
   "outputs": [],
   "source": [
    "queens_db = pd.read_sql(my_query, drag_race_data_base)"
   ]
  },
  {
   "cell_type": "code",
   "execution_count": 82,
   "metadata": {},
   "outputs": [
    {
     "data": {
      "text/html": [
       "<div>\n",
       "<style scoped>\n",
       "    .dataframe tbody tr th:only-of-type {\n",
       "        vertical-align: middle;\n",
       "    }\n",
       "\n",
       "    .dataframe tbody tr th {\n",
       "        vertical-align: top;\n",
       "    }\n",
       "\n",
       "    .dataframe thead th {\n",
       "        text-align: right;\n",
       "    }\n",
       "</style>\n",
       "<table border=\"1\" class=\"dataframe\">\n",
       "  <thead>\n",
       "    <tr style=\"text-align: right;\">\n",
       "      <th></th>\n",
       "      <th>index</th>\n",
       "      <th>id</th>\n",
       "      <th>name</th>\n",
       "      <th>winner</th>\n",
       "      <th>missCongeniality</th>\n",
       "      <th>image_url</th>\n",
       "      <th>quote</th>\n",
       "    </tr>\n",
       "  </thead>\n",
       "  <tbody>\n",
       "    <tr>\n",
       "      <td>0</td>\n",
       "      <td>0</td>\n",
       "      <td>1</td>\n",
       "      <td>Victoria 'Porkchop' Parker</td>\n",
       "      <td>0</td>\n",
       "      <td>0</td>\n",
       "      <td>http://www.nokeynoshade.party/images/victoria-...</td>\n",
       "      <td>Would you fuck me? I'd fuck me.</td>\n",
       "    </tr>\n",
       "    <tr>\n",
       "      <td>1</td>\n",
       "      <td>1</td>\n",
       "      <td>2</td>\n",
       "      <td>Tammie Brown</td>\n",
       "      <td>0</td>\n",
       "      <td>0</td>\n",
       "      <td>http://www.nokeynoshade.party/images/tammie-br...</td>\n",
       "      <td>I'm not a slut, I'm a lady. You look under my ...</td>\n",
       "    </tr>\n",
       "    <tr>\n",
       "      <td>2</td>\n",
       "      <td>2</td>\n",
       "      <td>3</td>\n",
       "      <td>Akashia</td>\n",
       "      <td>0</td>\n",
       "      <td>0</td>\n",
       "      <td>http://www.nokeynoshade.party/images/akashia.jpg</td>\n",
       "      <td>If I was a girl, I'd be a stripper, or a slut ...</td>\n",
       "    </tr>\n",
       "    <tr>\n",
       "      <td>3</td>\n",
       "      <td>3</td>\n",
       "      <td>4</td>\n",
       "      <td>Jade</td>\n",
       "      <td>0</td>\n",
       "      <td>0</td>\n",
       "      <td>http://www.nokeynoshade.party/images/jade.jpg</td>\n",
       "      <td>Jade is definitely my alter-ego, basically she...</td>\n",
       "    </tr>\n",
       "    <tr>\n",
       "      <td>4</td>\n",
       "      <td>4</td>\n",
       "      <td>5</td>\n",
       "      <td>Ongina</td>\n",
       "      <td>0</td>\n",
       "      <td>0</td>\n",
       "      <td>http://www.nokeynoshade.party/images/ongina.jpg</td>\n",
       "      <td>If I don't win this, I swear to god I'm gonna ...</td>\n",
       "    </tr>\n",
       "    <tr>\n",
       "      <td>...</td>\n",
       "      <td>...</td>\n",
       "      <td>...</td>\n",
       "      <td>...</td>\n",
       "      <td>...</td>\n",
       "      <td>...</td>\n",
       "      <td>...</td>\n",
       "      <td>...</td>\n",
       "    </tr>\n",
       "    <tr>\n",
       "      <td>135</td>\n",
       "      <td>135</td>\n",
       "      <td>148</td>\n",
       "      <td>Nina West</td>\n",
       "      <td>0</td>\n",
       "      <td>1</td>\n",
       "      <td>https://www.nokeynoshade.party/images/nina-wes...</td>\n",
       "      <td>Welcome to Season 11. It looks like things jus...</td>\n",
       "    </tr>\n",
       "    <tr>\n",
       "      <td>136</td>\n",
       "      <td>136</td>\n",
       "      <td>149</td>\n",
       "      <td>Silky Nutmeg Ganache</td>\n",
       "      <td>0</td>\n",
       "      <td>0</td>\n",
       "      <td>https://www.nokeynoshade.party/images/silky-nu...</td>\n",
       "      <td>Big Silk got the good ol' milk!</td>\n",
       "    </tr>\n",
       "    <tr>\n",
       "      <td>137</td>\n",
       "      <td>137</td>\n",
       "      <td>150</td>\n",
       "      <td>A'keria Chanel Davenport</td>\n",
       "      <td>0</td>\n",
       "      <td>0</td>\n",
       "      <td>https://www.nokeynoshade.party/images/akeria-c...</td>\n",
       "      <td>Oh yes, it's me: Miss A'keria D-A-V-E-N-P-O-R,...</td>\n",
       "    </tr>\n",
       "    <tr>\n",
       "      <td>138</td>\n",
       "      <td>138</td>\n",
       "      <td>151</td>\n",
       "      <td>Brooke Lynn Hytes</td>\n",
       "      <td>0</td>\n",
       "      <td>0</td>\n",
       "      <td>https://www.nokeynoshade.party/images/brooke-l...</td>\n",
       "      <td>Never fear, the queen of the North is here.</td>\n",
       "    </tr>\n",
       "    <tr>\n",
       "      <td>139</td>\n",
       "      <td>139</td>\n",
       "      <td>152</td>\n",
       "      <td>Yvie oddly</td>\n",
       "      <td>1</td>\n",
       "      <td>0</td>\n",
       "      <td>https://www.nokeynoshade.party/images/yvie-odd...</td>\n",
       "      <td>Move over ladies, this race just took an odd t...</td>\n",
       "    </tr>\n",
       "  </tbody>\n",
       "</table>\n",
       "<p>140 rows × 7 columns</p>\n",
       "</div>"
      ],
      "text/plain": [
       "     index   id                        name  winner  missCongeniality  \\\n",
       "0        0    1  Victoria 'Porkchop' Parker       0                 0   \n",
       "1        1    2                Tammie Brown       0                 0   \n",
       "2        2    3                     Akashia       0                 0   \n",
       "3        3    4                        Jade       0                 0   \n",
       "4        4    5                      Ongina       0                 0   \n",
       "..     ...  ...                         ...     ...               ...   \n",
       "135    135  148                   Nina West       0                 1   \n",
       "136    136  149        Silky Nutmeg Ganache       0                 0   \n",
       "137    137  150    A'keria Chanel Davenport       0                 0   \n",
       "138    138  151           Brooke Lynn Hytes       0                 0   \n",
       "139    139  152                  Yvie oddly       1                 0   \n",
       "\n",
       "                                             image_url  \\\n",
       "0    http://www.nokeynoshade.party/images/victoria-...   \n",
       "1    http://www.nokeynoshade.party/images/tammie-br...   \n",
       "2     http://www.nokeynoshade.party/images/akashia.jpg   \n",
       "3        http://www.nokeynoshade.party/images/jade.jpg   \n",
       "4      http://www.nokeynoshade.party/images/ongina.jpg   \n",
       "..                                                 ...   \n",
       "135  https://www.nokeynoshade.party/images/nina-wes...   \n",
       "136  https://www.nokeynoshade.party/images/silky-nu...   \n",
       "137  https://www.nokeynoshade.party/images/akeria-c...   \n",
       "138  https://www.nokeynoshade.party/images/brooke-l...   \n",
       "139  https://www.nokeynoshade.party/images/yvie-odd...   \n",
       "\n",
       "                                                 quote  \n",
       "0                      Would you fuck me? I'd fuck me.  \n",
       "1    I'm not a slut, I'm a lady. You look under my ...  \n",
       "2    If I was a girl, I'd be a stripper, or a slut ...  \n",
       "3    Jade is definitely my alter-ego, basically she...  \n",
       "4    If I don't win this, I swear to god I'm gonna ...  \n",
       "..                                                 ...  \n",
       "135  Welcome to Season 11. It looks like things jus...  \n",
       "136                    Big Silk got the good ol' milk!  \n",
       "137  Oh yes, it's me: Miss A'keria D-A-V-E-N-P-O-R,...  \n",
       "138        Never fear, the queen of the North is here.  \n",
       "139  Move over ladies, this race just took an odd t...  \n",
       "\n",
       "[140 rows x 7 columns]"
      ]
     },
     "execution_count": 82,
     "metadata": {},
     "output_type": "execute_result"
    }
   ],
   "source": [
    "queens_db"
   ]
  },
  {
   "cell_type": "markdown",
   "metadata": {},
   "source": [
    "<h2>Sandbox</h2>"
   ]
  },
  {
   "cell_type": "code",
   "execution_count": null,
   "metadata": {},
   "outputs": [],
   "source": []
  }
 ],
 "metadata": {
  "kernelspec": {
   "display_name": "Python 3",
   "language": "python",
   "name": "python3"
  },
  "language_info": {
   "codemirror_mode": {
    "name": "ipython",
    "version": 3
   },
   "file_extension": ".py",
   "mimetype": "text/x-python",
   "name": "python",
   "nbconvert_exporter": "python",
   "pygments_lexer": "ipython3",
   "version": "3.7.4"
  }
 },
 "nbformat": 4,
 "nbformat_minor": 2
}
